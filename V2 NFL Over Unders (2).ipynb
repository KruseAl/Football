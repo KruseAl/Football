{
 "cells": [
  {
   "cell_type": "code",
   "execution_count": 122,
   "id": "aa707761",
   "metadata": {},
   "outputs": [],
   "source": [
    "import pandas as pd\n",
    "from sklearn.model_selection import train_test_split\n",
    "from sklearn.metrics import mean_squared_error\n",
    "from sklearn import metrics \n",
    "from math import sqrt\n",
    "import seaborn as sns\n",
    "import matplotlib.pyplot as plt\n",
    "from sklearn import preprocessing, svm\n",
    "from sklearn.linear_model import LinearRegression\n",
    "from sklearn.model_selection import KFold\n",
    "from sklearn.model_selection import cross_val_score, cross_val_predict\n",
    "from sklearn.metrics import mean_absolute_error,mean_squared_error\n",
    "from sklearn import metrics\n",
    "from numpy import mean\n",
    "from numpy import absolute\n",
    "from numpy import sqrt\n",
    "#learning from https://github.com/jensenbenjamin/NBA_Betting_Model/blob/main/2022NBA_OverUnder.ipynb?source=post_page-----7b5195b405d2--------------------------------"
   ]
  },
  {
   "cell_type": "code",
   "execution_count": 123,
   "id": "4f1c5ac0",
   "metadata": {},
   "outputs": [
    {
     "data": {
      "text/plain": [
       "'/Users/allisonkruse/Desktop/nfl'"
      ]
     },
     "execution_count": 123,
     "metadata": {},
     "output_type": "execute_result"
    }
   ],
   "source": [
    "import os\n",
    "os.chdir('/Users/allisonkruse/desktop/nfl')\n",
    "os.getcwd()"
   ]
  },
  {
   "cell_type": "code",
   "execution_count": 124,
   "id": "c6d52820",
   "metadata": {},
   "outputs": [
    {
     "data": {
      "text/html": [
       "<div>\n",
       "<style scoped>\n",
       "    .dataframe tbody tr th:only-of-type {\n",
       "        vertical-align: middle;\n",
       "    }\n",
       "\n",
       "    .dataframe tbody tr th {\n",
       "        vertical-align: top;\n",
       "    }\n",
       "\n",
       "    .dataframe thead th {\n",
       "        text-align: right;\n",
       "    }\n",
       "</style>\n",
       "<table border=\"1\" class=\"dataframe\">\n",
       "  <thead>\n",
       "    <tr style=\"text-align: right;\">\n",
       "      <th></th>\n",
       "      <th>Date</th>\n",
       "      <th>Visitor</th>\n",
       "      <th>Visitor_Score</th>\n",
       "      <th>Home</th>\n",
       "      <th>Home_Score</th>\n",
       "      <th>Total_Score</th>\n",
       "      <th>W_Team_Score</th>\n",
       "      <th>Winning_Team</th>\n",
       "      <th>h_pts_game</th>\n",
       "      <th>h_rush_yd_game</th>\n",
       "      <th>...</th>\n",
       "      <th>h_df_passer_rate</th>\n",
       "      <th>h_o_tds_game</th>\n",
       "      <th>h_o_int_game</th>\n",
       "      <th>h_o_passer_rate</th>\n",
       "      <th>v_df_tds_game</th>\n",
       "      <th>v_df_int_game</th>\n",
       "      <th>v_df_passer_rate</th>\n",
       "      <th>v_o_tds_game</th>\n",
       "      <th>v_o_int_game</th>\n",
       "      <th>v_o_passer_rate</th>\n",
       "    </tr>\n",
       "  </thead>\n",
       "  <tbody>\n",
       "    <tr>\n",
       "      <th>0</th>\n",
       "      <td>9/8/22</td>\n",
       "      <td>Buffalo Bills</td>\n",
       "      <td>31</td>\n",
       "      <td>Los Angeles Rams</td>\n",
       "      <td>10</td>\n",
       "      <td>41</td>\n",
       "      <td>31</td>\n",
       "      <td>Buffalo Bills</td>\n",
       "      <td>28.4</td>\n",
       "      <td>97.7</td>\n",
       "      <td>...</td>\n",
       "      <td>90.8</td>\n",
       "      <td>0.941176</td>\n",
       "      <td>0.882353</td>\n",
       "      <td>82.3</td>\n",
       "      <td>1.312500</td>\n",
       "      <td>1.062500</td>\n",
       "      <td>82.1</td>\n",
       "      <td>2.187500</td>\n",
       "      <td>0.875000</td>\n",
       "      <td>95.8</td>\n",
       "    </tr>\n",
       "    <tr>\n",
       "      <th>1</th>\n",
       "      <td>9/11/22</td>\n",
       "      <td>Indianapolis Colts</td>\n",
       "      <td>20</td>\n",
       "      <td>Houston Texans</td>\n",
       "      <td>20</td>\n",
       "      <td>40</td>\n",
       "      <td>20</td>\n",
       "      <td>Indianapolis Colts</td>\n",
       "      <td>17.0</td>\n",
       "      <td>86.8</td>\n",
       "      <td>...</td>\n",
       "      <td>82.7</td>\n",
       "      <td>1.176471</td>\n",
       "      <td>1.117647</td>\n",
       "      <td>76.8</td>\n",
       "      <td>1.470588</td>\n",
       "      <td>0.588235</td>\n",
       "      <td>96.2</td>\n",
       "      <td>1.000000</td>\n",
       "      <td>1.176471</td>\n",
       "      <td>79.2</td>\n",
       "    </tr>\n",
       "    <tr>\n",
       "      <th>2</th>\n",
       "      <td>9/11/22</td>\n",
       "      <td>San Francisco 49ers</td>\n",
       "      <td>10</td>\n",
       "      <td>Chicago Bears</td>\n",
       "      <td>19</td>\n",
       "      <td>29</td>\n",
       "      <td>19</td>\n",
       "      <td>Chicago Bears</td>\n",
       "      <td>19.2</td>\n",
       "      <td>177.3</td>\n",
       "      <td>...</td>\n",
       "      <td>94.4</td>\n",
       "      <td>1.117647</td>\n",
       "      <td>0.882353</td>\n",
       "      <td>80.3</td>\n",
       "      <td>1.176471</td>\n",
       "      <td>1.176471</td>\n",
       "      <td>82.7</td>\n",
       "      <td>1.764706</td>\n",
       "      <td>0.529412</td>\n",
       "      <td>102.3</td>\n",
       "    </tr>\n",
       "    <tr>\n",
       "      <th>3</th>\n",
       "      <td>9/11/22</td>\n",
       "      <td>Pittsburgh Steelers</td>\n",
       "      <td>23</td>\n",
       "      <td>Cincinnati Bengals</td>\n",
       "      <td>20</td>\n",
       "      <td>43</td>\n",
       "      <td>23</td>\n",
       "      <td>Pittsburgh Steelers</td>\n",
       "      <td>26.1</td>\n",
       "      <td>95.5</td>\n",
       "      <td>...</td>\n",
       "      <td>80.1</td>\n",
       "      <td>2.187500</td>\n",
       "      <td>0.750000</td>\n",
       "      <td>101.0</td>\n",
       "      <td>1.705882</td>\n",
       "      <td>1.176471</td>\n",
       "      <td>86.8</td>\n",
       "      <td>0.705882</td>\n",
       "      <td>0.823529</td>\n",
       "      <td>78.7</td>\n",
       "    </tr>\n",
       "    <tr>\n",
       "      <th>4</th>\n",
       "      <td>9/11/22</td>\n",
       "      <td>Philadelphia Eagles</td>\n",
       "      <td>38</td>\n",
       "      <td>Detroit Lions</td>\n",
       "      <td>35</td>\n",
       "      <td>73</td>\n",
       "      <td>38</td>\n",
       "      <td>Philadelphia Eagles</td>\n",
       "      <td>26.6</td>\n",
       "      <td>128.2</td>\n",
       "      <td>...</td>\n",
       "      <td>94.2</td>\n",
       "      <td>1.705882</td>\n",
       "      <td>0.411765</td>\n",
       "      <td>99.3</td>\n",
       "      <td>1.294118</td>\n",
       "      <td>1.000000</td>\n",
       "      <td>81.6</td>\n",
       "      <td>1.470588</td>\n",
       "      <td>0.529412</td>\n",
       "      <td>99.0</td>\n",
       "    </tr>\n",
       "  </tbody>\n",
       "</table>\n",
       "<p>5 rows × 36 columns</p>\n",
       "</div>"
      ],
      "text/plain": [
       "      Date              Visitor  Visitor_Score                Home  \\\n",
       "0   9/8/22        Buffalo Bills             31    Los Angeles Rams   \n",
       "1  9/11/22   Indianapolis Colts             20      Houston Texans   \n",
       "2  9/11/22  San Francisco 49ers             10       Chicago Bears   \n",
       "3  9/11/22  Pittsburgh Steelers             23  Cincinnati Bengals   \n",
       "4  9/11/22  Philadelphia Eagles             38       Detroit Lions   \n",
       "\n",
       "   Home_Score  Total_Score  W_Team_Score         Winning_Team  h_pts_game  \\\n",
       "0          10           41            31        Buffalo Bills        28.4   \n",
       "1          20           40            20   Indianapolis Colts        17.0   \n",
       "2          19           29            19        Chicago Bears        19.2   \n",
       "3          20           43            23  Pittsburgh Steelers        26.1   \n",
       "4          35           73            38  Philadelphia Eagles        26.6   \n",
       "\n",
       "   h_rush_yd_game  ...  h_df_passer_rate  h_o_tds_game  h_o_int_game  \\\n",
       "0            97.7  ...              90.8      0.941176      0.882353   \n",
       "1            86.8  ...              82.7      1.176471      1.117647   \n",
       "2           177.3  ...              94.4      1.117647      0.882353   \n",
       "3            95.5  ...              80.1      2.187500      0.750000   \n",
       "4           128.2  ...              94.2      1.705882      0.411765   \n",
       "\n",
       "   h_o_passer_rate  v_df_tds_game  v_df_int_game  v_df_passer_rate  \\\n",
       "0             82.3       1.312500       1.062500              82.1   \n",
       "1             76.8       1.470588       0.588235              96.2   \n",
       "2             80.3       1.176471       1.176471              82.7   \n",
       "3            101.0       1.705882       1.176471              86.8   \n",
       "4             99.3       1.294118       1.000000              81.6   \n",
       "\n",
       "   v_o_tds_game  v_o_int_game  v_o_passer_rate  \n",
       "0      2.187500      0.875000             95.8  \n",
       "1      1.000000      1.176471             79.2  \n",
       "2      1.764706      0.529412            102.3  \n",
       "3      0.705882      0.823529             78.7  \n",
       "4      1.470588      0.529412             99.0  \n",
       "\n",
       "[5 rows x 36 columns]"
      ]
     },
     "execution_count": 124,
     "metadata": {},
     "output_type": "execute_result"
    }
   ],
   "source": [
    "df = pd.read_csv('/Users/allisonkruse/desktop/nfl/2022_2023_Season_OU_Only_V2.csv')\n",
    "df.head()"
   ]
  },
  {
   "cell_type": "code",
   "execution_count": 125,
   "id": "578674cf",
   "metadata": {},
   "outputs": [
    {
     "name": "stdout",
     "output_type": "stream",
     "text": [
      "10260\n",
      "(285, 36)\n"
     ]
    }
   ],
   "source": [
    "print(df.size)\n",
    "print(df.shape)"
   ]
  },
  {
   "cell_type": "code",
   "execution_count": 126,
   "id": "6c9d5817",
   "metadata": {},
   "outputs": [
    {
     "name": "stdout",
     "output_type": "stream",
     "text": [
      "['Date', 'Visitor', 'Visitor_Score', 'Home', 'Home_Score', 'Total_Score', 'W_Team_Score', 'Winning_Team', 'h_pts_game', 'h_rush_yd_game', 'h_pass_yd_game', 'h_tt_ytd_game', 'v_pts_game', 'v_rush_yd_game', 'v_pass_yd_game', 'v_tt_ytd_game', 'h_df_pts_game', 'h_df_rush_yd_game', 'h_df_pass_yd_game', 'h_df_tt_ytd_game', 'v_df_pts_game', 'v_df_rush_yd_game', 'v_df_pass_yd_game', 'v_df_tt_ytd_game', 'h_df_tds_game', 'h_df_int_game', 'h_df_passer_rate', 'h_o_tds_game', 'h_o_int_game', 'h_o_passer_rate', 'v_df_tds_game', 'v_df_int_game', 'v_df_passer_rate', 'v_o_tds_game', 'v_o_int_game', 'v_o_passer_rate']\n"
     ]
    }
   ],
   "source": [
    "print(list(df.columns))"
   ]
  },
  {
   "cell_type": "code",
   "execution_count": 127,
   "id": "200b3f6d",
   "metadata": {},
   "outputs": [],
   "source": [
    "features=['h_pts_game', 'h_rush_yd_game', 'h_pass_yd_game', 'h_tt_ytd_game', 'v_pts_game', 'v_rush_yd_game', 'v_pass_yd_game', 'v_tt_ytd_game', 'h_df_pts_game', 'h_df_rush_yd_game', 'h_df_pass_yd_game', 'h_df_tt_ytd_game', 'v_df_pts_game', 'v_df_rush_yd_game', 'v_df_pass_yd_game', 'v_df_tt_ytd_game', 'h_df_tds_game', 'h_df_int_game', 'h_df_passer_rate', 'h_o_tds_game', 'h_o_int_game', 'h_o_passer_rate', 'v_df_tds_game', 'v_df_int_game', 'v_df_passer_rate', 'v_o_tds_game', 'v_o_int_game', 'v_o_passer_rate']"
   ]
  },
  {
   "cell_type": "code",
   "execution_count": 128,
   "id": "ee4fe436",
   "metadata": {},
   "outputs": [],
   "source": [
    "#drop any nas \n",
    "df_without_missing_values = df.dropna()"
   ]
  },
  {
   "cell_type": "code",
   "execution_count": 129,
   "id": "97a1f3bc",
   "metadata": {},
   "outputs": [
    {
     "data": {
      "text/plain": [
       "0    41\n",
       "1    40\n",
       "2    29\n",
       "3    43\n",
       "4    73\n",
       "Name: Total_Score, dtype: int64"
      ]
     },
     "execution_count": 129,
     "metadata": {},
     "output_type": "execute_result"
    }
   ],
   "source": [
    "#set the target \n",
    "target = df_without_missing_values['Total_Score']\n",
    "target.head()"
   ]
  },
  {
   "cell_type": "code",
   "execution_count": 130,
   "id": "14bbd6c5",
   "metadata": {},
   "outputs": [
    {
     "name": "stdout",
     "output_type": "stream",
     "text": [
      "10260\n",
      "(285, 36)\n"
     ]
    }
   ],
   "source": [
    "#how many did we lose by dropping nsa?\n",
    "print(df_without_missing_values.size)\n",
    "print(df_without_missing_values.shape)"
   ]
  },
  {
   "cell_type": "code",
   "execution_count": 131,
   "id": "66a420b4",
   "metadata": {},
   "outputs": [],
   "source": [
    "X = df_without_missing_values[features]\n",
    "y=target"
   ]
  },
  {
   "cell_type": "code",
   "execution_count": 132,
   "id": "812b13eb",
   "metadata": {},
   "outputs": [
    {
     "data": {
      "text/plain": [
       "285"
      ]
     },
     "execution_count": 132,
     "metadata": {},
     "output_type": "execute_result"
    }
   ],
   "source": [
    "len(X)"
   ]
  },
  {
   "cell_type": "code",
   "execution_count": 133,
   "id": "4ee18e02",
   "metadata": {},
   "outputs": [],
   "source": [
    "#Splitting the data for training and testing\n",
    "\n",
    "X_train, X_test, y_train, y_test = train_test_split(X, y, test_size=0.33, random_state=42)"
   ]
  },
  {
   "cell_type": "markdown",
   "id": "e2d001bf",
   "metadata": {},
   "source": [
    "## Random Forest"
   ]
  },
  {
   "cell_type": "code",
   "execution_count": 134,
   "id": "63dd6958",
   "metadata": {},
   "outputs": [],
   "source": [
    "#Import Random Forest Model\n",
    "from sklearn.ensemble import RandomForestRegressor\n",
    "\n",
    "#Create a Random Forest Regressor\n",
    "rf = RandomForestRegressor()\n",
    "\n",
    "#Train the model using the training sets y_pred=clf.predict(X_test)\n",
    "rf.fit(X_train,y_train)\n",
    "\n",
    "y_predr=rf.predict(X_test)"
   ]
  },
  {
   "cell_type": "code",
   "execution_count": 135,
   "id": "87c5b267",
   "metadata": {},
   "outputs": [
    {
     "name": "stdout",
     "output_type": "stream",
     "text": [
      "202.5694789286549\n",
      "14.232690502103068\n"
     ]
    }
   ],
   "source": [
    "mse = mean_squared_error(y_test, y_predr)\n",
    "rmse = mse**.5\n",
    "print(mse)\n",
    "print(rmse)"
   ]
  },
  {
   "cell_type": "code",
   "execution_count": 136,
   "id": "e7d455ea",
   "metadata": {},
   "outputs": [
    {
     "name": "stdout",
     "output_type": "stream",
     "text": [
      "MAE: 11.543480808525045\n",
      "MSE: 202.56908520529646\n",
      "RMSE: 14.23267667044033\n"
     ]
    }
   ],
   "source": [
    "mae = mean_absolute_error(y_true=y_test,y_pred=y_pred)\n",
    "#squared True returns MSE value, False returns RMSE value.\n",
    "mse = mean_squared_error(y_true=y_test,y_pred=y_pred) #default=True\n",
    "rmse = mean_squared_error(y_true=y_test,y_pred=y_pred,squared=False)\n",
    " \n",
    "print(\"MAE:\",mae)\n",
    "print(\"MSE:\",mse)\n",
    "print(\"RMSE:\",rmse)"
   ]
  },
  {
   "cell_type": "code",
   "execution_count": 137,
   "id": "7946aa65",
   "metadata": {},
   "outputs": [
    {
     "data": {
      "text/html": [
       "<style>#sk-container-id-5 {color: black;}#sk-container-id-5 pre{padding: 0;}#sk-container-id-5 div.sk-toggleable {background-color: white;}#sk-container-id-5 label.sk-toggleable__label {cursor: pointer;display: block;width: 100%;margin-bottom: 0;padding: 0.3em;box-sizing: border-box;text-align: center;}#sk-container-id-5 label.sk-toggleable__label-arrow:before {content: \"▸\";float: left;margin-right: 0.25em;color: #696969;}#sk-container-id-5 label.sk-toggleable__label-arrow:hover:before {color: black;}#sk-container-id-5 div.sk-estimator:hover label.sk-toggleable__label-arrow:before {color: black;}#sk-container-id-5 div.sk-toggleable__content {max-height: 0;max-width: 0;overflow: hidden;text-align: left;background-color: #f0f8ff;}#sk-container-id-5 div.sk-toggleable__content pre {margin: 0.2em;color: black;border-radius: 0.25em;background-color: #f0f8ff;}#sk-container-id-5 input.sk-toggleable__control:checked~div.sk-toggleable__content {max-height: 200px;max-width: 100%;overflow: auto;}#sk-container-id-5 input.sk-toggleable__control:checked~label.sk-toggleable__label-arrow:before {content: \"▾\";}#sk-container-id-5 div.sk-estimator input.sk-toggleable__control:checked~label.sk-toggleable__label {background-color: #d4ebff;}#sk-container-id-5 div.sk-label input.sk-toggleable__control:checked~label.sk-toggleable__label {background-color: #d4ebff;}#sk-container-id-5 input.sk-hidden--visually {border: 0;clip: rect(1px 1px 1px 1px);clip: rect(1px, 1px, 1px, 1px);height: 1px;margin: -1px;overflow: hidden;padding: 0;position: absolute;width: 1px;}#sk-container-id-5 div.sk-estimator {font-family: monospace;background-color: #f0f8ff;border: 1px dotted black;border-radius: 0.25em;box-sizing: border-box;margin-bottom: 0.5em;}#sk-container-id-5 div.sk-estimator:hover {background-color: #d4ebff;}#sk-container-id-5 div.sk-parallel-item::after {content: \"\";width: 100%;border-bottom: 1px solid gray;flex-grow: 1;}#sk-container-id-5 div.sk-label:hover label.sk-toggleable__label {background-color: #d4ebff;}#sk-container-id-5 div.sk-serial::before {content: \"\";position: absolute;border-left: 1px solid gray;box-sizing: border-box;top: 0;bottom: 0;left: 50%;z-index: 0;}#sk-container-id-5 div.sk-serial {display: flex;flex-direction: column;align-items: center;background-color: white;padding-right: 0.2em;padding-left: 0.2em;position: relative;}#sk-container-id-5 div.sk-item {position: relative;z-index: 1;}#sk-container-id-5 div.sk-parallel {display: flex;align-items: stretch;justify-content: center;background-color: white;position: relative;}#sk-container-id-5 div.sk-item::before, #sk-container-id-5 div.sk-parallel-item::before {content: \"\";position: absolute;border-left: 1px solid gray;box-sizing: border-box;top: 0;bottom: 0;left: 50%;z-index: -1;}#sk-container-id-5 div.sk-parallel-item {display: flex;flex-direction: column;z-index: 1;position: relative;background-color: white;}#sk-container-id-5 div.sk-parallel-item:first-child::after {align-self: flex-end;width: 50%;}#sk-container-id-5 div.sk-parallel-item:last-child::after {align-self: flex-start;width: 50%;}#sk-container-id-5 div.sk-parallel-item:only-child::after {width: 0;}#sk-container-id-5 div.sk-dashed-wrapped {border: 1px dashed gray;margin: 0 0.4em 0.5em 0.4em;box-sizing: border-box;padding-bottom: 0.4em;background-color: white;}#sk-container-id-5 div.sk-label label {font-family: monospace;font-weight: bold;display: inline-block;line-height: 1.2em;}#sk-container-id-5 div.sk-label-container {text-align: center;}#sk-container-id-5 div.sk-container {/* jupyter's `normalize.less` sets `[hidden] { display: none; }` but bootstrap.min.css set `[hidden] { display: none !important; }` so we also need the `!important` here to be able to override the default hidden behavior on the sphinx rendered scikit-learn.org. See: https://github.com/scikit-learn/scikit-learn/issues/21755 */display: inline-block !important;position: relative;}#sk-container-id-5 div.sk-text-repr-fallback {display: none;}</style><div id=\"sk-container-id-5\" class=\"sk-top-container\"><div class=\"sk-text-repr-fallback\"><pre>RandomForestRegressor()</pre><b>In a Jupyter environment, please rerun this cell to show the HTML representation or trust the notebook. <br />On GitHub, the HTML representation is unable to render, please try loading this page with nbviewer.org.</b></div><div class=\"sk-container\" hidden><div class=\"sk-item\"><div class=\"sk-estimator sk-toggleable\"><input class=\"sk-toggleable__control sk-hidden--visually\" id=\"sk-estimator-id-5\" type=\"checkbox\" checked><label for=\"sk-estimator-id-5\" class=\"sk-toggleable__label sk-toggleable__label-arrow\">RandomForestRegressor</label><div class=\"sk-toggleable__content\"><pre>RandomForestRegressor()</pre></div></div></div></div></div>"
      ],
      "text/plain": [
       "RandomForestRegressor()"
      ]
     },
     "execution_count": 137,
     "metadata": {},
     "output_type": "execute_result"
    }
   ],
   "source": [
    "#version trained on whole data set \n",
    "rf_wds = RandomForestRegressor()\n",
    "\n",
    "#Train the model using the whole data set\n",
    "rf_wds.fit(X,y)"
   ]
  },
  {
   "cell_type": "markdown",
   "id": "da0d3091",
   "metadata": {},
   "source": [
    "## Linear Regression "
   ]
  },
  {
   "cell_type": "code",
   "execution_count": 140,
   "id": "f5c27683",
   "metadata": {},
   "outputs": [
    {
     "name": "stdout",
     "output_type": "stream",
     "text": [
      "-0.12044817901432658\n"
     ]
    }
   ],
   "source": [
    "# linear regression\n",
    "regr = LinearRegression()\n",
    " \n",
    "regr.fit(X_train, y_train)\n",
    "regr_predict_Test=regr.predict(X_test)\n",
    "print(regr.score(X_test, y_test))"
   ]
  },
  {
   "cell_type": "code",
   "execution_count": 141,
   "id": "5faff231",
   "metadata": {},
   "outputs": [
    {
     "name": "stdout",
     "output_type": "stream",
     "text": [
      "MAE: 11.543480808525045\n",
      "MSE: 202.56908520529646\n",
      "RMSE: 14.23267667044033\n"
     ]
    }
   ],
   "source": [
    "\n",
    "mae = mean_absolute_error(y_true=y_test,y_pred=y_pred)\n",
    "#squared True returns MSE value, False returns RMSE value.\n",
    "mse = mean_squared_error(y_true=y_test,y_pred=y_pred) #default=True\n",
    "rmse = mean_squared_error(y_true=y_test,y_pred=y_pred,squared=False)\n",
    " \n",
    "print(\"MAE:\",mae)\n",
    "print(\"MSE:\",mse)\n",
    "print(\"RMSE:\",rmse)"
   ]
  },
  {
   "cell_type": "code",
   "execution_count": 142,
   "id": "5b144a54",
   "metadata": {},
   "outputs": [
    {
     "data": {
      "image/png": "[encoded data removed]",
      "text/plain": [
       "<Figure size 576x576 with 1 Axes>"
      ]
     },
     "metadata": {
      "needs_background": "light"
     },
     "output_type": "display_data"
    }
   ],
   "source": [
    "import matplotlib.pyplot as plt\n",
    "%matplotlib inline\n",
    "\n",
    "plt.figure(figsize=(8,8))\n",
    "plt.scatter(y_test, regr_predict_Test)\n",
    "plt.plot(range(min(y_test), max(y_test)+1), range(min(y_test), max(y_test)+1), linestyle='--')\n",
    "plt.title('LR Predictions vs True')\n",
    "plt.xlabel('True Total Points')\n",
    "plt.ylabel('Predicted Total Points');"
   ]
  },
  {
   "cell_type": "markdown",
   "id": "ca262876",
   "metadata": {},
   "source": [
    "## Linear Regression with Cross Validation"
   ]
  },
  {
   "cell_type": "code",
   "execution_count": 143,
   "id": "d5082722",
   "metadata": {},
   "outputs": [],
   "source": [
    "#define cross-validation method to use\n",
    "cv = KFold(n_splits=10, random_state=1, shuffle=True)\n",
    "\n",
    "#build multiple linear regression model\n",
    "model = LinearRegression()\n",
    "\n",
    "#use k-fold CV to evaluate model\n",
    "scores = cross_val_score(model, X, y, scoring='neg_mean_squared_error',\n",
    "                         cv=cv, n_jobs=-1)"
   ]
  },
  {
   "cell_type": "code",
   "execution_count": 144,
   "id": "bf357b41",
   "metadata": {},
   "outputs": [
    {
     "name": "stdout",
     "output_type": "stream",
     "text": [
      "RMSE: 13.9571947219638\n"
     ]
    }
   ],
   "source": [
    "#view mean absolute error\n",
    "print(\"RMSE:\",sqrt(mean(absolute(scores))))"
   ]
  },
  {
   "cell_type": "code",
   "execution_count": 145,
   "id": "e9c2d5ca",
   "metadata": {},
   "outputs": [
    {
     "data": {
      "image/png": "[encoded data removed]",
      "text/plain": [
       "<Figure size 576x576 with 1 Axes>"
      ]
     },
     "metadata": {
      "needs_background": "light"
     },
     "output_type": "display_data"
    }
   ],
   "source": [
    "# Make cross validated predictions\n",
    "predictions = cross_val_predict(model, X, y,\n",
    "                         cv=cv, n_jobs=-1)\n",
    "\n",
    "plt.figure(figsize=(8,8))\n",
    "plt.scatter(y, predictions)\n",
    "plt.plot(range(min(y_test), max(y_test)+1), range(min(y_test), max(y_test)+1), linestyle='--')\n",
    "plt.title('lrcv Predictions vs True')\n",
    "plt.xlabel('True Total Points')\n",
    "plt.ylabel('Predicted Total Points');"
   ]
  },
  {
   "cell_type": "markdown",
   "id": "c5e295ea",
   "metadata": {},
   "source": [
    "## Linear Regression on Whole Data Set"
   ]
  },
  {
   "cell_type": "code",
   "execution_count": 146,
   "id": "c89ac005",
   "metadata": {},
   "outputs": [
    {
     "data": {
      "text/html": [
       "<style>#sk-container-id-6 {color: black;}#sk-container-id-6 pre{padding: 0;}#sk-container-id-6 div.sk-toggleable {background-color: white;}#sk-container-id-6 label.sk-toggleable__label {cursor: pointer;display: block;width: 100%;margin-bottom: 0;padding: 0.3em;box-sizing: border-box;text-align: center;}#sk-container-id-6 label.sk-toggleable__label-arrow:before {content: \"▸\";float: left;margin-right: 0.25em;color: #696969;}#sk-container-id-6 label.sk-toggleable__label-arrow:hover:before {color: black;}#sk-container-id-6 div.sk-estimator:hover label.sk-toggleable__label-arrow:before {color: black;}#sk-container-id-6 div.sk-toggleable__content {max-height: 0;max-width: 0;overflow: hidden;text-align: left;background-color: #f0f8ff;}#sk-container-id-6 div.sk-toggleable__content pre {margin: 0.2em;color: black;border-radius: 0.25em;background-color: #f0f8ff;}#sk-container-id-6 input.sk-toggleable__control:checked~div.sk-toggleable__content {max-height: 200px;max-width: 100%;overflow: auto;}#sk-container-id-6 input.sk-toggleable__control:checked~label.sk-toggleable__label-arrow:before {content: \"▾\";}#sk-container-id-6 div.sk-estimator input.sk-toggleable__control:checked~label.sk-toggleable__label {background-color: #d4ebff;}#sk-container-id-6 div.sk-label input.sk-toggleable__control:checked~label.sk-toggleable__label {background-color: #d4ebff;}#sk-container-id-6 input.sk-hidden--visually {border: 0;clip: rect(1px 1px 1px 1px);clip: rect(1px, 1px, 1px, 1px);height: 1px;margin: -1px;overflow: hidden;padding: 0;position: absolute;width: 1px;}#sk-container-id-6 div.sk-estimator {font-family: monospace;background-color: #f0f8ff;border: 1px dotted black;border-radius: 0.25em;box-sizing: border-box;margin-bottom: 0.5em;}#sk-container-id-6 div.sk-estimator:hover {background-color: #d4ebff;}#sk-container-id-6 div.sk-parallel-item::after {content: \"\";width: 100%;border-bottom: 1px solid gray;flex-grow: 1;}#sk-container-id-6 div.sk-label:hover label.sk-toggleable__label {background-color: #d4ebff;}#sk-container-id-6 div.sk-serial::before {content: \"\";position: absolute;border-left: 1px solid gray;box-sizing: border-box;top: 0;bottom: 0;left: 50%;z-index: 0;}#sk-container-id-6 div.sk-serial {display: flex;flex-direction: column;align-items: center;background-color: white;padding-right: 0.2em;padding-left: 0.2em;position: relative;}#sk-container-id-6 div.sk-item {position: relative;z-index: 1;}#sk-container-id-6 div.sk-parallel {display: flex;align-items: stretch;justify-content: center;background-color: white;position: relative;}#sk-container-id-6 div.sk-item::before, #sk-container-id-6 div.sk-parallel-item::before {content: \"\";position: absolute;border-left: 1px solid gray;box-sizing: border-box;top: 0;bottom: 0;left: 50%;z-index: -1;}#sk-container-id-6 div.sk-parallel-item {display: flex;flex-direction: column;z-index: 1;position: relative;background-color: white;}#sk-container-id-6 div.sk-parallel-item:first-child::after {align-self: flex-end;width: 50%;}#sk-container-id-6 div.sk-parallel-item:last-child::after {align-self: flex-start;width: 50%;}#sk-container-id-6 div.sk-parallel-item:only-child::after {width: 0;}#sk-container-id-6 div.sk-dashed-wrapped {border: 1px dashed gray;margin: 0 0.4em 0.5em 0.4em;box-sizing: border-box;padding-bottom: 0.4em;background-color: white;}#sk-container-id-6 div.sk-label label {font-family: monospace;font-weight: bold;display: inline-block;line-height: 1.2em;}#sk-container-id-6 div.sk-label-container {text-align: center;}#sk-container-id-6 div.sk-container {/* jupyter's `normalize.less` sets `[hidden] { display: none; }` but bootstrap.min.css set `[hidden] { display: none !important; }` so we also need the `!important` here to be able to override the default hidden behavior on the sphinx rendered scikit-learn.org. See: https://github.com/scikit-learn/scikit-learn/issues/21755 */display: inline-block !important;position: relative;}#sk-container-id-6 div.sk-text-repr-fallback {display: none;}</style><div id=\"sk-container-id-6\" class=\"sk-top-container\"><div class=\"sk-text-repr-fallback\"><pre>LinearRegression()</pre><b>In a Jupyter environment, please rerun this cell to show the HTML representation or trust the notebook. <br />On GitHub, the HTML representation is unable to render, please try loading this page with nbviewer.org.</b></div><div class=\"sk-container\" hidden><div class=\"sk-item\"><div class=\"sk-estimator sk-toggleable\"><input class=\"sk-toggleable__control sk-hidden--visually\" id=\"sk-estimator-id-6\" type=\"checkbox\" checked><label for=\"sk-estimator-id-6\" class=\"sk-toggleable__label sk-toggleable__label-arrow\">LinearRegression</label><div class=\"sk-toggleable__content\"><pre>LinearRegression()</pre></div></div></div></div></div>"
      ],
      "text/plain": [
       "LinearRegression()"
      ]
     },
     "execution_count": 146,
     "metadata": {},
     "output_type": "execute_result"
    }
   ],
   "source": [
    "# linear regression\n",
    "regr_wds = LinearRegression()\n",
    " \n",
    "regr_wds.fit(X, y)\n"
   ]
  },
  {
   "cell_type": "markdown",
   "id": "2038ab8f",
   "metadata": {},
   "source": [
    "## GradientBoostingRegressor"
   ]
  },
  {
   "cell_type": "code",
   "execution_count": 147,
   "id": "92eda440",
   "metadata": {},
   "outputs": [
    {
     "name": "stdout",
     "output_type": "stream",
     "text": [
      "RMSE (training) for GB:  5.734626\n",
      "RMSE (Test Data) for GB: 15.858496\n"
     ]
    }
   ],
   "source": [
    "from sklearn.ensemble import GradientBoostingRegressor\n",
    "GB = GradientBoostingRegressor()\n",
    "GB.fit(X_train, y_train)\n",
    "GB_predict_Train=GB.predict(X_train)\n",
    "\n",
    "RMSE1=sqrt(mean_squared_error(y_train,GB_predict_Train))\n",
    "print(\"RMSE (training) for GB:{0:10f}\".format(RMSE1))\n",
    "\n",
    "GB_predict_Test=GB.predict(X_test)\n",
    "\n",
    "RMSE= sqrt(mean_squared_error(y_test,GB_predict_Test))\n",
    "print(\"RMSE (Test Data) for GB:{0:10f}\".format(RMSE))"
   ]
  },
  {
   "cell_type": "code",
   "execution_count": 148,
   "id": "7b654cae",
   "metadata": {},
   "outputs": [
    {
     "data": {
      "image/png": "[encoded data removed]",
      "text/plain": [
       "<Figure size 576x576 with 1 Axes>"
      ]
     },
     "metadata": {
      "needs_background": "light"
     },
     "output_type": "display_data"
    }
   ],
   "source": [
    "import matplotlib.pyplot as plt\n",
    "%matplotlib inline\n",
    "\n",
    "plt.figure(figsize=(8,8))\n",
    "plt.scatter(y_test, GB_predict_Test)\n",
    "plt.plot(range(min(y_test), max(y_test)+1), range(min(y_test), max(y_test)+1), linestyle='--')\n",
    "plt.title('GBR Predictions vs True')\n",
    "plt.xlabel('True Total Points')\n",
    "plt.ylabel('Predicted Total Points');"
   ]
  },
  {
   "cell_type": "markdown",
   "id": "4f99ad10",
   "metadata": {},
   "source": [
    "## Predictions Game 1 "
   ]
  },
  {
   "cell_type": "code",
   "execution_count": 149,
   "id": "47a469f8",
   "metadata": {},
   "outputs": [
    {
     "data": {
      "text/html": [
       "<div>\n",
       "<style scoped>\n",
       "    .dataframe tbody tr th:only-of-type {\n",
       "        vertical-align: middle;\n",
       "    }\n",
       "\n",
       "    .dataframe tbody tr th {\n",
       "        vertical-align: top;\n",
       "    }\n",
       "\n",
       "    .dataframe thead th {\n",
       "        text-align: right;\n",
       "    }\n",
       "</style>\n",
       "<table border=\"1\" class=\"dataframe\">\n",
       "  <thead>\n",
       "    <tr style=\"text-align: right;\">\n",
       "      <th></th>\n",
       "      <th>Date</th>\n",
       "      <th>Visitor</th>\n",
       "      <th>Home</th>\n",
       "      <th>Total_Score</th>\n",
       "      <th>h_pts_game</th>\n",
       "      <th>h_rush_yd_game</th>\n",
       "      <th>h_pass_yd_game</th>\n",
       "      <th>h_tt_ytd_game</th>\n",
       "      <th>v_pts_game</th>\n",
       "      <th>v_rush_yd_game</th>\n",
       "      <th>...</th>\n",
       "      <th>h_df_passer_rate</th>\n",
       "      <th>h_o_tds_game</th>\n",
       "      <th>h_o_int_game</th>\n",
       "      <th>h_o_passer_rate</th>\n",
       "      <th>v_df_tds_game</th>\n",
       "      <th>v_df_int_game</th>\n",
       "      <th>v_df_passer_rate</th>\n",
       "      <th>v_o_tds_game</th>\n",
       "      <th>v_o_int_game</th>\n",
       "      <th>v_o_passer_rate</th>\n",
       "    </tr>\n",
       "  </thead>\n",
       "  <tbody>\n",
       "    <tr>\n",
       "      <th>0</th>\n",
       "      <td>9/7/23</td>\n",
       "      <td>Detroit Lions</td>\n",
       "      <td>Kansas City Chiefs</td>\n",
       "      <td>NaN</td>\n",
       "      <td>29.2</td>\n",
       "      <td>115.9</td>\n",
       "      <td>297.8</td>\n",
       "      <td>413.6</td>\n",
       "      <td>26.6</td>\n",
       "      <td>128.2</td>\n",
       "      <td>...</td>\n",
       "      <td>95.3</td>\n",
       "      <td>2.411765</td>\n",
       "      <td>0.705882</td>\n",
       "      <td>104.7</td>\n",
       "      <td>1.529412</td>\n",
       "      <td>0.705882</td>\n",
       "      <td>94.2</td>\n",
       "      <td>1.705882</td>\n",
       "      <td>0.411765</td>\n",
       "      <td>99.3</td>\n",
       "    </tr>\n",
       "  </tbody>\n",
       "</table>\n",
       "<p>1 rows × 32 columns</p>\n",
       "</div>"
      ],
      "text/plain": [
       "     Date        Visitor                Home  Total_Score  h_pts_game  \\\n",
       "0  9/7/23  Detroit Lions  Kansas City Chiefs          NaN        29.2   \n",
       "\n",
       "   h_rush_yd_game  h_pass_yd_game  h_tt_ytd_game  v_pts_game  v_rush_yd_game  \\\n",
       "0           115.9           297.8          413.6        26.6           128.2   \n",
       "\n",
       "   ...  h_df_passer_rate  h_o_tds_game  h_o_int_game  h_o_passer_rate  \\\n",
       "0  ...              95.3      2.411765      0.705882            104.7   \n",
       "\n",
       "   v_df_tds_game  v_df_int_game  v_df_passer_rate  v_o_tds_game  v_o_int_game  \\\n",
       "0       1.529412       0.705882              94.2      1.705882      0.411765   \n",
       "\n",
       "   v_o_passer_rate  \n",
       "0             99.3  \n",
       "\n",
       "[1 rows x 32 columns]"
      ]
     },
     "execution_count": 149,
     "metadata": {},
     "output_type": "execute_result"
    }
   ],
   "source": [
    "#make bet \n",
    "Bet = pd.read_csv('/Users/allisonkruse/desktop/nfl/2023_game_one_v2.csv')\n",
    "Bet.head()"
   ]
  },
  {
   "cell_type": "code",
   "execution_count": 150,
   "id": "dfff7c40",
   "metadata": {},
   "outputs": [
    {
     "data": {
      "text/html": [
       "<div>\n",
       "<style scoped>\n",
       "    .dataframe tbody tr th:only-of-type {\n",
       "        vertical-align: middle;\n",
       "    }\n",
       "\n",
       "    .dataframe tbody tr th {\n",
       "        vertical-align: top;\n",
       "    }\n",
       "\n",
       "    .dataframe thead th {\n",
       "        text-align: right;\n",
       "    }\n",
       "</style>\n",
       "<table border=\"1\" class=\"dataframe\">\n",
       "  <thead>\n",
       "    <tr style=\"text-align: right;\">\n",
       "      <th></th>\n",
       "      <th>h_pts_game</th>\n",
       "      <th>h_rush_yd_game</th>\n",
       "      <th>h_pass_yd_game</th>\n",
       "      <th>h_tt_ytd_game</th>\n",
       "      <th>v_pts_game</th>\n",
       "      <th>v_rush_yd_game</th>\n",
       "      <th>v_pass_yd_game</th>\n",
       "      <th>v_tt_ytd_game</th>\n",
       "      <th>h_df_pts_game</th>\n",
       "      <th>h_df_rush_yd_game</th>\n",
       "      <th>...</th>\n",
       "      <th>h_df_passer_rate</th>\n",
       "      <th>h_o_tds_game</th>\n",
       "      <th>h_o_int_game</th>\n",
       "      <th>h_o_passer_rate</th>\n",
       "      <th>v_df_tds_game</th>\n",
       "      <th>v_df_int_game</th>\n",
       "      <th>v_df_passer_rate</th>\n",
       "      <th>v_o_tds_game</th>\n",
       "      <th>v_o_int_game</th>\n",
       "      <th>v_o_passer_rate</th>\n",
       "    </tr>\n",
       "  </thead>\n",
       "  <tbody>\n",
       "    <tr>\n",
       "      <th>0</th>\n",
       "      <td>29.2</td>\n",
       "      <td>115.9</td>\n",
       "      <td>297.8</td>\n",
       "      <td>413.6</td>\n",
       "      <td>26.6</td>\n",
       "      <td>128.2</td>\n",
       "      <td>251.8</td>\n",
       "      <td>380</td>\n",
       "      <td>21.7</td>\n",
       "      <td>107.2</td>\n",
       "      <td>...</td>\n",
       "      <td>95.3</td>\n",
       "      <td>2.411765</td>\n",
       "      <td>0.705882</td>\n",
       "      <td>104.7</td>\n",
       "      <td>1.529412</td>\n",
       "      <td>0.705882</td>\n",
       "      <td>94.2</td>\n",
       "      <td>1.705882</td>\n",
       "      <td>0.411765</td>\n",
       "      <td>99.3</td>\n",
       "    </tr>\n",
       "  </tbody>\n",
       "</table>\n",
       "<p>1 rows × 28 columns</p>\n",
       "</div>"
      ],
      "text/plain": [
       "   h_pts_game  h_rush_yd_game  h_pass_yd_game  h_tt_ytd_game  v_pts_game  \\\n",
       "0        29.2           115.9           297.8          413.6        26.6   \n",
       "\n",
       "   v_rush_yd_game  v_pass_yd_game  v_tt_ytd_game  h_df_pts_game  \\\n",
       "0           128.2           251.8            380           21.7   \n",
       "\n",
       "   h_df_rush_yd_game  ...  h_df_passer_rate  h_o_tds_game  h_o_int_game  \\\n",
       "0              107.2  ...              95.3      2.411765      0.705882   \n",
       "\n",
       "   h_o_passer_rate  v_df_tds_game  v_df_int_game  v_df_passer_rate  \\\n",
       "0            104.7       1.529412       0.705882              94.2   \n",
       "\n",
       "   v_o_tds_game  v_o_int_game  v_o_passer_rate  \n",
       "0      1.705882      0.411765             99.3  \n",
       "\n",
       "[1 rows x 28 columns]"
      ]
     },
     "execution_count": 150,
     "metadata": {},
     "output_type": "execute_result"
    }
   ],
   "source": [
    "#To make predictions, the data frame needs to match the format (number of columns and column titles) of the training data.\n",
    "Bet = Bet.iloc[: , 4:]\n",
    "\n",
    "Bet.head()"
   ]
  },
  {
   "cell_type": "markdown",
   "id": "b9465d3f",
   "metadata": {},
   "source": [
    "### GradientBoostingRegressor"
   ]
  },
  {
   "cell_type": "code",
   "execution_count": 151,
   "id": "70e0bee4",
   "metadata": {},
   "outputs": [
    {
     "name": "stdout",
     "output_type": "stream",
     "text": [
      "[36.51639573]\n"
     ]
    }
   ],
   "source": [
    "GB_predict_Tonight=GB.predict(Bet)\n",
    "print(GB_predict_Tonight)"
   ]
  },
  {
   "cell_type": "markdown",
   "id": "78e57475",
   "metadata": {},
   "source": [
    "### Linear Regression"
   ]
  },
  {
   "cell_type": "code",
   "execution_count": 152,
   "id": "56db2f75",
   "metadata": {},
   "outputs": [
    {
     "name": "stdout",
     "output_type": "stream",
     "text": [
      "[58.03801198]\n"
     ]
    }
   ],
   "source": [
    "LR_predict_Tonight=regr.predict(Bet)\n",
    "print(LR_predict_Tonight)"
   ]
  },
  {
   "cell_type": "markdown",
   "id": "c843d45a",
   "metadata": {},
   "source": [
    "### Linear Regression Whole Data Set "
   ]
  },
  {
   "cell_type": "code",
   "execution_count": 153,
   "id": "5c9fcde8",
   "metadata": {},
   "outputs": [
    {
     "name": "stdout",
     "output_type": "stream",
     "text": [
      "[56.44468232]\n"
     ]
    }
   ],
   "source": [
    "LR_wds_predict_Tonight=regr_wds.predict(Bet)\n",
    "print(LR_wds_predict_Tonight)"
   ]
  },
  {
   "cell_type": "markdown",
   "id": "fc6c1b5a",
   "metadata": {},
   "source": [
    "### Randon Forest"
   ]
  },
  {
   "cell_type": "code",
   "execution_count": 154,
   "id": "7822296d",
   "metadata": {},
   "outputs": [
    {
     "name": "stdout",
     "output_type": "stream",
     "text": [
      "[42.54]\n"
     ]
    }
   ],
   "source": [
    "print(rf.predict(Bet))"
   ]
  },
  {
   "cell_type": "code",
   "execution_count": 155,
   "id": "f81e0359",
   "metadata": {},
   "outputs": [
    {
     "name": "stdout",
     "output_type": "stream",
     "text": [
      "[42.335]\n"
     ]
    }
   ],
   "source": [
    "#whole data set randon forest -- this one is the way to go final total was 41 points \n",
    "print(rf_wds.predict(Bet))"
   ]
  },
  {
   "cell_type": "markdown",
   "id": "f630a4d8",
   "metadata": {},
   "source": [
    "### Load in week one games"
   ]
  },
  {
   "cell_type": "code",
   "execution_count": 247,
   "id": "a7509402",
   "metadata": {},
   "outputs": [
    {
     "data": {
      "text/html": [
       "<div>\n",
       "<style scoped>\n",
       "    .dataframe tbody tr th:only-of-type {\n",
       "        vertical-align: middle;\n",
       "    }\n",
       "\n",
       "    .dataframe tbody tr th {\n",
       "        vertical-align: top;\n",
       "    }\n",
       "\n",
       "    .dataframe thead th {\n",
       "        text-align: right;\n",
       "    }\n",
       "</style>\n",
       "<table border=\"1\" class=\"dataframe\">\n",
       "  <thead>\n",
       "    <tr style=\"text-align: right;\">\n",
       "      <th></th>\n",
       "      <th>Team</th>\n",
       "      <th>pts_game</th>\n",
       "      <th>rush_yd_game</th>\n",
       "      <th>pass_yd_game</th>\n",
       "      <th>tt_ytd_game</th>\n",
       "      <th>df_pts_game</th>\n",
       "      <th>df_rush_yd_game</th>\n",
       "      <th>df_pass_yd_game</th>\n",
       "      <th>df_tt_ytd_game</th>\n",
       "      <th>df_tds_game</th>\n",
       "      <th>df_int_game</th>\n",
       "      <th>df_passer_rate</th>\n",
       "      <th>o_tds_game</th>\n",
       "      <th>o_int_game</th>\n",
       "      <th>o_passer_rate</th>\n",
       "    </tr>\n",
       "  </thead>\n",
       "  <tbody>\n",
       "    <tr>\n",
       "      <th>0</th>\n",
       "      <td>Kansas City Chiefs</td>\n",
       "      <td>29.2</td>\n",
       "      <td>115.9</td>\n",
       "      <td>297.8</td>\n",
       "      <td>413.6</td>\n",
       "      <td>21.7</td>\n",
       "      <td>107.2</td>\n",
       "      <td>220.9</td>\n",
       "      <td>328.2</td>\n",
       "      <td>1.941176</td>\n",
       "      <td>0.647059</td>\n",
       "      <td>95.3</td>\n",
       "      <td>2.411765</td>\n",
       "      <td>0.705882</td>\n",
       "      <td>104.7</td>\n",
       "    </tr>\n",
       "    <tr>\n",
       "      <th>1</th>\n",
       "      <td>Buffalo Bills</td>\n",
       "      <td>28.4</td>\n",
       "      <td>139.5</td>\n",
       "      <td>258.1</td>\n",
       "      <td>397.6</td>\n",
       "      <td>17.9</td>\n",
       "      <td>104.6</td>\n",
       "      <td>214.6</td>\n",
       "      <td>319.1</td>\n",
       "      <td>1.312500</td>\n",
       "      <td>1.062500</td>\n",
       "      <td>82.1</td>\n",
       "      <td>2.187500</td>\n",
       "      <td>0.875000</td>\n",
       "      <td>95.8</td>\n",
       "    </tr>\n",
       "    <tr>\n",
       "      <th>2</th>\n",
       "      <td>Philadelphia Eagles</td>\n",
       "      <td>28.1</td>\n",
       "      <td>147.6</td>\n",
       "      <td>241.5</td>\n",
       "      <td>389.1</td>\n",
       "      <td>20.2</td>\n",
       "      <td>121.6</td>\n",
       "      <td>179.8</td>\n",
       "      <td>301.5</td>\n",
       "      <td>1.294118</td>\n",
       "      <td>1.000000</td>\n",
       "      <td>81.6</td>\n",
       "      <td>1.470588</td>\n",
       "      <td>0.529412</td>\n",
       "      <td>99.0</td>\n",
       "    </tr>\n",
       "    <tr>\n",
       "      <th>3</th>\n",
       "      <td>Detroit Lions</td>\n",
       "      <td>26.6</td>\n",
       "      <td>128.2</td>\n",
       "      <td>251.8</td>\n",
       "      <td>380.0</td>\n",
       "      <td>25.1</td>\n",
       "      <td>146.5</td>\n",
       "      <td>245.8</td>\n",
       "      <td>392.4</td>\n",
       "      <td>1.529412</td>\n",
       "      <td>0.705882</td>\n",
       "      <td>94.2</td>\n",
       "      <td>1.705882</td>\n",
       "      <td>0.411765</td>\n",
       "      <td>99.3</td>\n",
       "    </tr>\n",
       "    <tr>\n",
       "      <th>4</th>\n",
       "      <td>San Francisco 49ers</td>\n",
       "      <td>26.5</td>\n",
       "      <td>138.8</td>\n",
       "      <td>226.8</td>\n",
       "      <td>365.6</td>\n",
       "      <td>16.3</td>\n",
       "      <td>77.7</td>\n",
       "      <td>222.9</td>\n",
       "      <td>300.6</td>\n",
       "      <td>1.176471</td>\n",
       "      <td>1.176471</td>\n",
       "      <td>82.7</td>\n",
       "      <td>1.764706</td>\n",
       "      <td>0.529412</td>\n",
       "      <td>102.3</td>\n",
       "    </tr>\n",
       "  </tbody>\n",
       "</table>\n",
       "</div>"
      ],
      "text/plain": [
       "                  Team  pts_game  rush_yd_game  pass_yd_game  tt_ytd_game  \\\n",
       "0   Kansas City Chiefs      29.2         115.9         297.8        413.6   \n",
       "1        Buffalo Bills      28.4         139.5         258.1        397.6   \n",
       "2  Philadelphia Eagles      28.1         147.6         241.5        389.1   \n",
       "3        Detroit Lions      26.6         128.2         251.8        380.0   \n",
       "4  San Francisco 49ers      26.5         138.8         226.8        365.6   \n",
       "\n",
       "   df_pts_game  df_rush_yd_game  df_pass_yd_game  df_tt_ytd_game  df_tds_game  \\\n",
       "0         21.7            107.2            220.9           328.2     1.941176   \n",
       "1         17.9            104.6            214.6           319.1     1.312500   \n",
       "2         20.2            121.6            179.8           301.5     1.294118   \n",
       "3         25.1            146.5            245.8           392.4     1.529412   \n",
       "4         16.3             77.7            222.9           300.6     1.176471   \n",
       "\n",
       "   df_int_game  df_passer_rate  o_tds_game  o_int_game  o_passer_rate  \n",
       "0     0.647059            95.3    2.411765    0.705882          104.7  \n",
       "1     1.062500            82.1    2.187500    0.875000           95.8  \n",
       "2     1.000000            81.6    1.470588    0.529412           99.0  \n",
       "3     0.705882            94.2    1.705882    0.411765           99.3  \n",
       "4     1.176471            82.7    1.764706    0.529412          102.3  "
      ]
     },
     "execution_count": 247,
     "metadata": {},
     "output_type": "execute_result"
    }
   ],
   "source": [
    "ft=pd.read_csv('/Users/allisonkruse/desktop/nfl/2022_2023_Season_Full_Team_Only.csv')\n",
    "ft.head()"
   ]
  },
  {
   "cell_type": "code",
   "execution_count": 248,
   "id": "e4186985",
   "metadata": {},
   "outputs": [
    {
     "name": "stdout",
     "output_type": "stream",
     "text": [
      "['Team', 'pts_game', 'rush_yd_game', 'pass_yd_game', 'tt_ytd_game', 'df_pts_game', 'df_rush_yd_game', 'df_pass_yd_game', 'df_tt_ytd_game', 'df_tds_game', 'df_int_game', 'df_passer_rate', 'o_tds_game', 'o_int_game', 'o_passer_rate']\n"
     ]
    }
   ],
   "source": [
    "ft_cols = ft.columns.values.tolist()\n",
    "print(ft_cols)"
   ]
  },
  {
   "cell_type": "code",
   "execution_count": 250,
   "id": "d737d4b1",
   "metadata": {},
   "outputs": [],
   "source": [
    "def make_bet_row(home_team='Kansas City Chiefs', \n",
    "                 visitor_team='Detroit Lions',\n",
    "                 team_stats=None,\n",
    "                 feature_names=None,\n",
    "                 output_feature_order=None):\n",
    "    \n",
    "    if team_stats is None:\n",
    "        team_stats = pd.read_csv('/Users/allisonkruse/desktop/nfl/2022_2023_Season_Full_Team_Only.csv')\n",
    "    if feature_names is None:\n",
    "        feature_names = ['pts_game', 'rush_yd_game', 'pass_yd_game', 'tt_ytd_game', 'df_pts_game', 'df_rush_yd_game', 'df_pass_yd_game', 'df_tt_ytd_game', 'df_tds_game', 'df_int_game', 'df_passer_rate', 'o_tds_game', 'o_int_game', 'o_passer_rate']\n",
    "    if output_feature_order is None:\n",
    "        output_feature_order = features #['h_pts_game', 'h_rush_yd_game', 'h_pass_yd_game', 'h_tt_ytd_game', 'v_pts_game', 'v_rush_yd_game', 'v_pass_yd_game', 'v_tt_ytd_game', 'h_df_pts_game', 'h_df_rush_yd_game', 'h_df_pass_yd_game', 'h_df_tt_ytd_game', 'v_df_pts_game', 'v_df_rush_yd_game', 'v_df_pass_yd_game', 'v_df_tt_ytd_game']\n",
    "\n",
    "    home_row = team_stats.loc[team_stats['Team'] == home_team][feature_names].reset_index(drop=True)# needed lower down\n",
    "    visitor_row = team_stats.loc[team_stats['Team'] == visitor_team][feature_names].reset_index(drop=True)\n",
    "\n",
    "    joint_row = pd.concat([home_row, visitor_row], axis=1, ignore_index=True)\n",
    "    joint_row.columns = [f'h_{i}' for i in feature_names] + [f'v_{i}' for i in feature_names]\n",
    "    return joint_row[output_feature_order]"
   ]
  },
  {
   "cell_type": "code",
   "execution_count": 251,
   "id": "90c8ecbe",
   "metadata": {},
   "outputs": [],
   "source": [
    "row=make_bet_row()"
   ]
  },
  {
   "cell_type": "code",
   "execution_count": 252,
   "id": "f28a8ecf",
   "metadata": {},
   "outputs": [
    {
     "data": {
      "text/html": [
       "<div>\n",
       "<style scoped>\n",
       "    .dataframe tbody tr th:only-of-type {\n",
       "        vertical-align: middle;\n",
       "    }\n",
       "\n",
       "    .dataframe tbody tr th {\n",
       "        vertical-align: top;\n",
       "    }\n",
       "\n",
       "    .dataframe thead th {\n",
       "        text-align: right;\n",
       "    }\n",
       "</style>\n",
       "<table border=\"1\" class=\"dataframe\">\n",
       "  <thead>\n",
       "    <tr style=\"text-align: right;\">\n",
       "      <th></th>\n",
       "      <th>h_pts_game</th>\n",
       "      <th>h_rush_yd_game</th>\n",
       "      <th>h_pass_yd_game</th>\n",
       "      <th>h_tt_ytd_game</th>\n",
       "      <th>v_pts_game</th>\n",
       "      <th>v_rush_yd_game</th>\n",
       "      <th>v_pass_yd_game</th>\n",
       "      <th>v_tt_ytd_game</th>\n",
       "      <th>h_df_pts_game</th>\n",
       "      <th>h_df_rush_yd_game</th>\n",
       "      <th>...</th>\n",
       "      <th>h_df_passer_rate</th>\n",
       "      <th>h_o_tds_game</th>\n",
       "      <th>h_o_int_game</th>\n",
       "      <th>h_o_passer_rate</th>\n",
       "      <th>v_df_tds_game</th>\n",
       "      <th>v_df_int_game</th>\n",
       "      <th>v_df_passer_rate</th>\n",
       "      <th>v_o_tds_game</th>\n",
       "      <th>v_o_int_game</th>\n",
       "      <th>v_o_passer_rate</th>\n",
       "    </tr>\n",
       "  </thead>\n",
       "  <tbody>\n",
       "    <tr>\n",
       "      <th>0</th>\n",
       "      <td>29.2</td>\n",
       "      <td>115.9</td>\n",
       "      <td>297.8</td>\n",
       "      <td>413.6</td>\n",
       "      <td>26.6</td>\n",
       "      <td>128.2</td>\n",
       "      <td>251.8</td>\n",
       "      <td>380.0</td>\n",
       "      <td>21.7</td>\n",
       "      <td>107.2</td>\n",
       "      <td>...</td>\n",
       "      <td>95.3</td>\n",
       "      <td>2.411765</td>\n",
       "      <td>0.705882</td>\n",
       "      <td>104.7</td>\n",
       "      <td>1.529412</td>\n",
       "      <td>0.705882</td>\n",
       "      <td>94.2</td>\n",
       "      <td>1.705882</td>\n",
       "      <td>0.411765</td>\n",
       "      <td>99.3</td>\n",
       "    </tr>\n",
       "  </tbody>\n",
       "</table>\n",
       "<p>1 rows × 28 columns</p>\n",
       "</div>"
      ],
      "text/plain": [
       "   h_pts_game  h_rush_yd_game  h_pass_yd_game  h_tt_ytd_game  v_pts_game  \\\n",
       "0        29.2           115.9           297.8          413.6        26.6   \n",
       "\n",
       "   v_rush_yd_game  v_pass_yd_game  v_tt_ytd_game  h_df_pts_game  \\\n",
       "0           128.2           251.8          380.0           21.7   \n",
       "\n",
       "   h_df_rush_yd_game  ...  h_df_passer_rate  h_o_tds_game  h_o_int_game  \\\n",
       "0              107.2  ...              95.3      2.411765      0.705882   \n",
       "\n",
       "   h_o_passer_rate  v_df_tds_game  v_df_int_game  v_df_passer_rate  \\\n",
       "0            104.7       1.529412       0.705882              94.2   \n",
       "\n",
       "   v_o_tds_game  v_o_int_game  v_o_passer_rate  \n",
       "0      1.705882      0.411765             99.3  \n",
       "\n",
       "[1 rows x 28 columns]"
      ]
     },
     "execution_count": 252,
     "metadata": {},
     "output_type": "execute_result"
    }
   ],
   "source": [
    "row"
   ]
  },
  {
   "cell_type": "code",
   "execution_count": 253,
   "id": "278c3b3a",
   "metadata": {},
   "outputs": [
    {
     "data": {
      "text/plain": [
       "array([42.335])"
      ]
     },
     "execution_count": 253,
     "metadata": {},
     "output_type": "execute_result"
    }
   ],
   "source": [
    "rf_wds.predict(row)"
   ]
  },
  {
   "cell_type": "markdown",
   "id": "fa355f00",
   "metadata": {},
   "source": [
    "## Need to get schedule data together"
   ]
  },
  {
   "cell_type": "code",
   "execution_count": 218,
   "id": "c3020ec7",
   "metadata": {},
   "outputs": [
    {
     "data": {
      "text/html": [
       "<div>\n",
       "<style scoped>\n",
       "    .dataframe tbody tr th:only-of-type {\n",
       "        vertical-align: middle;\n",
       "    }\n",
       "\n",
       "    .dataframe tbody tr th {\n",
       "        vertical-align: top;\n",
       "    }\n",
       "\n",
       "    .dataframe thead th {\n",
       "        text-align: right;\n",
       "    }\n",
       "</style>\n",
       "<table border=\"1\" class=\"dataframe\">\n",
       "  <thead>\n",
       "    <tr style=\"text-align: right;\">\n",
       "      <th></th>\n",
       "      <th>week</th>\n",
       "      <th>away_team</th>\n",
       "      <th>home_team</th>\n",
       "    </tr>\n",
       "  </thead>\n",
       "  <tbody>\n",
       "    <tr>\n",
       "      <th>0</th>\n",
       "      <td>Week 1</td>\n",
       "      <td>Detroit Lions</td>\n",
       "      <td>Kansas City Chiefs</td>\n",
       "    </tr>\n",
       "    <tr>\n",
       "      <th>1</th>\n",
       "      <td>Week 1</td>\n",
       "      <td>Arizona Cardinals</td>\n",
       "      <td>Washington Commanders</td>\n",
       "    </tr>\n",
       "    <tr>\n",
       "      <th>2</th>\n",
       "      <td>Week 1</td>\n",
       "      <td>Carolina Panthers</td>\n",
       "      <td>Atlanta Falcons</td>\n",
       "    </tr>\n",
       "    <tr>\n",
       "      <th>3</th>\n",
       "      <td>Week 1</td>\n",
       "      <td>Cincinnati Bengals</td>\n",
       "      <td>Cleveland Browns</td>\n",
       "    </tr>\n",
       "    <tr>\n",
       "      <th>4</th>\n",
       "      <td>Week 1</td>\n",
       "      <td>Houston Texans</td>\n",
       "      <td>Baltimore Ravens</td>\n",
       "    </tr>\n",
       "  </tbody>\n",
       "</table>\n",
       "</div>"
      ],
      "text/plain": [
       "       week            away_team              home_team\n",
       "0    Week 1        Detroit Lions     Kansas City Chiefs\n",
       "1    Week 1    Arizona Cardinals  Washington Commanders\n",
       "2    Week 1    Carolina Panthers        Atlanta Falcons\n",
       "3    Week 1   Cincinnati Bengals       Cleveland Browns\n",
       "4    Week 1       Houston Texans       Baltimore Ravens"
      ]
     },
     "execution_count": 218,
     "metadata": {},
     "output_type": "execute_result"
    }
   ],
   "source": [
    "#get schedule\n",
    "sched = pd.read_csv('/Users/allisonkruse/desktop/nfl/2022_2023_schedule.csv')\n",
    "sched.head()"
   ]
  },
  {
   "cell_type": "code",
   "execution_count": 219,
   "id": "41855ec3",
   "metadata": {},
   "outputs": [
    {
     "name": "stdout",
     "output_type": "stream",
     "text": [
      "['week', 'away_team', 'home_team']\n"
     ]
    }
   ],
   "source": [
    "cols = sched.columns.values.tolist()\n",
    "print(cols)"
   ]
  },
  {
   "cell_type": "code",
   "execution_count": 220,
   "id": "e926996c",
   "metadata": {},
   "outputs": [],
   "source": [
    "sched[cols] = sched[cols].apply(lambda x: x.str.strip())"
   ]
  },
  {
   "cell_type": "code",
   "execution_count": 221,
   "id": "788b16d3",
   "metadata": {},
   "outputs": [
    {
     "data": {
      "text/html": [
       "<div>\n",
       "<style scoped>\n",
       "    .dataframe tbody tr th:only-of-type {\n",
       "        vertical-align: middle;\n",
       "    }\n",
       "\n",
       "    .dataframe tbody tr th {\n",
       "        vertical-align: top;\n",
       "    }\n",
       "\n",
       "    .dataframe thead th {\n",
       "        text-align: right;\n",
       "    }\n",
       "</style>\n",
       "<table border=\"1\" class=\"dataframe\">\n",
       "  <thead>\n",
       "    <tr style=\"text-align: right;\">\n",
       "      <th></th>\n",
       "      <th>week</th>\n",
       "      <th>away_team</th>\n",
       "      <th>home_team</th>\n",
       "    </tr>\n",
       "  </thead>\n",
       "  <tbody>\n",
       "    <tr>\n",
       "      <th>0</th>\n",
       "      <td>Week 1</td>\n",
       "      <td>Detroit Lions</td>\n",
       "      <td>Kansas City Chiefs</td>\n",
       "    </tr>\n",
       "    <tr>\n",
       "      <th>1</th>\n",
       "      <td>Week 1</td>\n",
       "      <td>Arizona Cardinals</td>\n",
       "      <td>Washington Commanders</td>\n",
       "    </tr>\n",
       "    <tr>\n",
       "      <th>2</th>\n",
       "      <td>Week 1</td>\n",
       "      <td>Carolina Panthers</td>\n",
       "      <td>Atlanta Falcons</td>\n",
       "    </tr>\n",
       "    <tr>\n",
       "      <th>3</th>\n",
       "      <td>Week 1</td>\n",
       "      <td>Cincinnati Bengals</td>\n",
       "      <td>Cleveland Browns</td>\n",
       "    </tr>\n",
       "    <tr>\n",
       "      <th>4</th>\n",
       "      <td>Week 1</td>\n",
       "      <td>Houston Texans</td>\n",
       "      <td>Baltimore Ravens</td>\n",
       "    </tr>\n",
       "  </tbody>\n",
       "</table>\n",
       "</div>"
      ],
      "text/plain": [
       "     week           away_team              home_team\n",
       "0  Week 1       Detroit Lions     Kansas City Chiefs\n",
       "1  Week 1   Arizona Cardinals  Washington Commanders\n",
       "2  Week 1   Carolina Panthers        Atlanta Falcons\n",
       "3  Week 1  Cincinnati Bengals       Cleveland Browns\n",
       "4  Week 1      Houston Texans       Baltimore Ravens"
      ]
     },
     "execution_count": 221,
     "metadata": {},
     "output_type": "execute_result"
    }
   ],
   "source": [
    "sched.head()"
   ]
  },
  {
   "cell_type": "code",
   "execution_count": 222,
   "id": "33109c47",
   "metadata": {},
   "outputs": [
    {
     "name": "stdout",
     "output_type": "stream",
     "text": [
      "(150, 3)\n"
     ]
    }
   ],
   "source": [
    "print(sched.shape)"
   ]
  },
  {
   "cell_type": "code",
   "execution_count": 223,
   "id": "f2173a8a",
   "metadata": {},
   "outputs": [],
   "source": [
    "#week 1 not sure why my other stripping isnt working\n",
    "#matchups = sched[(sched['week'].str.strip() == \"Week 1\")]-- strip earlier now \n",
    "matchups = sched[(sched.week == \"Week 1\")]"
   ]
  },
  {
   "cell_type": "code",
   "execution_count": 224,
   "id": "940c8077",
   "metadata": {},
   "outputs": [
    {
     "name": "stdout",
     "output_type": "stream",
     "text": [
      "      week             away_team              home_team\n",
      "0   Week 1         Detroit Lions     Kansas City Chiefs\n",
      "1   Week 1     Arizona Cardinals  Washington Commanders\n",
      "2   Week 1     Carolina Panthers        Atlanta Falcons\n",
      "3   Week 1    Cincinnati Bengals       Cleveland Browns\n",
      "4   Week 1        Houston Texans       Baltimore Ravens\n",
      "5   Week 1  Jacksonville Jaguars     Indianapolis Colts\n",
      "6   Week 1   San Francisco 49ers    Pittsburgh Steelers\n",
      "7   Week 1  Tampa Bay Buccaneers      Minnesota Vikings\n",
      "8   Week 1      Tennessee Titans     New Orleans Saints\n",
      "9   Week 1     Green Bay Packers          Chicago Bears\n",
      "10  Week 1     Las Vegas Raiders         Denver Broncos\n",
      "11  Week 1      Los Angeles Rams       Seattle Seahawks\n",
      "12  Week 1        Miami Dolphins   Los Angeles Chargers\n",
      "13  Week 1   Philadelphia Eagles   New England Patriots\n",
      "14  Week 1        Dallas Cowboys        New York Giants\n",
      "15  Week 1         Buffalo Bills          New York Jets\n"
     ]
    }
   ],
   "source": [
    "print(matchups)"
   ]
  },
  {
   "cell_type": "code",
   "execution_count": 225,
   "id": "a7ac8f1a",
   "metadata": {},
   "outputs": [],
   "source": [
    "matchups=matchups.drop(columns=[\"week\"])"
   ]
  },
  {
   "cell_type": "code",
   "execution_count": 226,
   "id": "38d9f32d",
   "metadata": {},
   "outputs": [
    {
     "name": "stdout",
     "output_type": "stream",
     "text": [
      "               away_team              home_team\n",
      "0          Detroit Lions     Kansas City Chiefs\n",
      "1      Arizona Cardinals  Washington Commanders\n",
      "2      Carolina Panthers        Atlanta Falcons\n",
      "3     Cincinnati Bengals       Cleveland Browns\n",
      "4         Houston Texans       Baltimore Ravens\n",
      "5   Jacksonville Jaguars     Indianapolis Colts\n",
      "6    San Francisco 49ers    Pittsburgh Steelers\n",
      "7   Tampa Bay Buccaneers      Minnesota Vikings\n",
      "8       Tennessee Titans     New Orleans Saints\n",
      "9      Green Bay Packers          Chicago Bears\n",
      "10     Las Vegas Raiders         Denver Broncos\n",
      "11      Los Angeles Rams       Seattle Seahawks\n",
      "12        Miami Dolphins   Los Angeles Chargers\n",
      "13   Philadelphia Eagles   New England Patriots\n",
      "14        Dallas Cowboys        New York Giants\n",
      "15         Buffalo Bills          New York Jets\n"
     ]
    }
   ],
   "source": [
    "print(matchups)"
   ]
  },
  {
   "cell_type": "markdown",
   "id": "169ebf06",
   "metadata": {},
   "source": [
    "## Make Predictions "
   ]
  },
  {
   "cell_type": "code",
   "execution_count": 231,
   "id": "36bfcb8a",
   "metadata": {},
   "outputs": [
    {
     "name": "stdout",
     "output_type": "stream",
     "text": [
      "           away_team              home_team\n",
      "1  Arizona Cardinals  Washington Commanders\n"
     ]
    }
   ],
   "source": [
    "matchups_test = matchups[(matchups.away_team  == \"Arizona Cardinals\")]\n",
    "print(matchups_test)"
   ]
  },
  {
   "cell_type": "code",
   "execution_count": 267,
   "id": "e5ae0c74",
   "metadata": {},
   "outputs": [],
   "source": [
    "def make_bet_row(home_team='Washington Commanders', \n",
    "                 visitor_team='Arizona Cardinals',\n",
    "                 team_stats=None,\n",
    "                 feature_names=None,\n",
    "                 output_feature_order=None):\n",
    "    \n",
    "    if team_stats is None:\n",
    "        team_stats = pd.read_csv('/Users/allisonkruse/desktop/nfl/2022_2023_Season_Full_Team_Only.csv')\n",
    "    if feature_names is None:\n",
    "        feature_names = ['pts_game', 'rush_yd_game', 'pass_yd_game', 'tt_ytd_game', 'df_pts_game', 'df_rush_yd_game', 'df_pass_yd_game', 'df_tt_ytd_game', 'df_tds_game', 'df_int_game', 'df_passer_rate', 'o_tds_game', 'o_int_game', 'o_passer_rate']\n",
    "    if output_feature_order is None:\n",
    "        output_feature_order = features #['h_pts_game', 'h_rush_yd_game', 'h_pass_yd_game', 'h_tt_ytd_game', 'v_pts_game', 'v_rush_yd_game', 'v_pass_yd_game', 'v_tt_ytd_game', 'h_df_pts_game', 'h_df_rush_yd_game', 'h_df_pass_yd_game', 'h_df_tt_ytd_game', 'v_df_pts_game', 'v_df_rush_yd_game', 'v_df_pass_yd_game', 'v_df_tt_ytd_game']\n",
    "\n",
    "    home_row = team_stats.loc[team_stats['Team'] == home_team][feature_names].reset_index(drop=True)\n",
    "    visitor_row = team_stats.loc[team_stats['Team'] == visitor_team][feature_names].reset_index(drop=True)\n",
    "\n",
    "    joint_row = pd.concat([home_row, visitor_row], axis=1, ignore_index=True)\n",
    "    joint_row.columns = [f'h_{i}' for i in feature_names] + [f'v_{i}' for i in feature_names]\n",
    "    return joint_row[output_feature_order]"
   ]
  },
  {
   "cell_type": "code",
   "execution_count": 268,
   "id": "a389367f",
   "metadata": {},
   "outputs": [
    {
     "data": {
      "text/html": [
       "<div>\n",
       "<style scoped>\n",
       "    .dataframe tbody tr th:only-of-type {\n",
       "        vertical-align: middle;\n",
       "    }\n",
       "\n",
       "    .dataframe tbody tr th {\n",
       "        vertical-align: top;\n",
       "    }\n",
       "\n",
       "    .dataframe thead th {\n",
       "        text-align: right;\n",
       "    }\n",
       "</style>\n",
       "<table border=\"1\" class=\"dataframe\">\n",
       "  <thead>\n",
       "    <tr style=\"text-align: right;\">\n",
       "      <th></th>\n",
       "      <th>h_pts_game</th>\n",
       "      <th>h_rush_yd_game</th>\n",
       "      <th>h_pass_yd_game</th>\n",
       "      <th>h_tt_ytd_game</th>\n",
       "      <th>v_pts_game</th>\n",
       "      <th>v_rush_yd_game</th>\n",
       "      <th>v_pass_yd_game</th>\n",
       "      <th>v_tt_ytd_game</th>\n",
       "      <th>h_df_pts_game</th>\n",
       "      <th>h_df_rush_yd_game</th>\n",
       "      <th>...</th>\n",
       "      <th>h_df_passer_rate</th>\n",
       "      <th>h_o_tds_game</th>\n",
       "      <th>h_o_int_game</th>\n",
       "      <th>h_o_passer_rate</th>\n",
       "      <th>v_df_tds_game</th>\n",
       "      <th>v_df_int_game</th>\n",
       "      <th>v_df_passer_rate</th>\n",
       "      <th>v_o_tds_game</th>\n",
       "      <th>v_o_int_game</th>\n",
       "      <th>v_o_passer_rate</th>\n",
       "    </tr>\n",
       "  </thead>\n",
       "  <tbody>\n",
       "    <tr>\n",
       "      <th>0</th>\n",
       "      <td>18.9</td>\n",
       "      <td>126.1</td>\n",
       "      <td>204.2</td>\n",
       "      <td>330.3</td>\n",
       "      <td>20.0</td>\n",
       "      <td>110.2</td>\n",
       "      <td>213.3</td>\n",
       "      <td>323.5</td>\n",
       "      <td>20.2</td>\n",
       "      <td>113.3</td>\n",
       "      <td>...</td>\n",
       "      <td>90.2</td>\n",
       "      <td>1.411765</td>\n",
       "      <td>0.941176</td>\n",
       "      <td>84.7</td>\n",
       "      <td>1.705882</td>\n",
       "      <td>0.647059</td>\n",
       "      <td>98.2</td>\n",
       "      <td>1.0</td>\n",
       "      <td>1.0</td>\n",
       "      <td>79.2</td>\n",
       "    </tr>\n",
       "  </tbody>\n",
       "</table>\n",
       "<p>1 rows × 28 columns</p>\n",
       "</div>"
      ],
      "text/plain": [
       "   h_pts_game  h_rush_yd_game  h_pass_yd_game  h_tt_ytd_game  v_pts_game  \\\n",
       "0        18.9           126.1           204.2          330.3        20.0   \n",
       "\n",
       "   v_rush_yd_game  v_pass_yd_game  v_tt_ytd_game  h_df_pts_game  \\\n",
       "0           110.2           213.3          323.5           20.2   \n",
       "\n",
       "   h_df_rush_yd_game  ...  h_df_passer_rate  h_o_tds_game  h_o_int_game  \\\n",
       "0              113.3  ...              90.2      1.411765      0.941176   \n",
       "\n",
       "   h_o_passer_rate  v_df_tds_game  v_df_int_game  v_df_passer_rate  \\\n",
       "0             84.7       1.705882       0.647059              98.2   \n",
       "\n",
       "   v_o_tds_game  v_o_int_game  v_o_passer_rate  \n",
       "0           1.0           1.0             79.2  \n",
       "\n",
       "[1 rows x 28 columns]"
      ]
     },
     "execution_count": 268,
     "metadata": {},
     "output_type": "execute_result"
    }
   ],
   "source": [
    "row=make_bet_row()\n",
    "make_bet_row()"
   ]
  },
  {
   "cell_type": "code",
   "execution_count": 276,
   "id": "91ad9966",
   "metadata": {},
   "outputs": [
    {
     "name": "stdout",
     "output_type": "stream",
     "text": [
      "[36.08] Cardinals Commanders\n"
     ]
    }
   ],
   "source": [
    "print(rf_wds.predict(row),\"Cardinals Commanders\")"
   ]
  },
  {
   "cell_type": "code",
   "execution_count": null,
   "id": "de0e76a7",
   "metadata": {},
   "outputs": [],
   "source": [
    "##successfully making rows with correct data but can't quite figure out how to have the schedule flow through "
   ]
  },
  {
   "cell_type": "code",
   "execution_count": 270,
   "id": "f137d0a7",
   "metadata": {},
   "outputs": [
    {
     "ename": "ValueError",
     "evalue": "too many values to unpack (expected 2)",
     "output_type": "error",
     "traceback": [
      "\u001b[0;31m---------------------------------------------------------------------------\u001b[0m",
      "\u001b[0;31mValueError\u001b[0m                                Traceback (most recent call last)",
      "Input \u001b[0;32mIn [270]\u001b[0m, in \u001b[0;36m<cell line: 3>\u001b[0;34m()\u001b[0m\n\u001b[1;32m      2\u001b[0m predictions \u001b[38;5;241m=\u001b[39m []\n\u001b[1;32m      3\u001b[0m \u001b[38;5;28;01mfor\u001b[39;00m matchup \u001b[38;5;129;01min\u001b[39;00m matchups_test:\n\u001b[0;32m----> 4\u001b[0m     home_team, away_team \u001b[38;5;241m=\u001b[39m matchup\n\u001b[1;32m      5\u001b[0m     bet_row \u001b[38;5;241m=\u001b[39m make_bet_row(home_team, away_team)\n\u001b[1;32m      6\u001b[0m     prediction \u001b[38;5;241m=\u001b[39m rf_wds\u001b[38;5;241m.\u001b[39mpredict(bet_row)\n",
      "\u001b[0;31mValueError\u001b[0m: too many values to unpack (expected 2)"
     ]
    }
   ],
   "source": [
    "#recommendation from my ML mentor below \n",
    "#matchups = [[team1, team2], ...] --need an array of match ups \n",
    "predictions = []\n",
    "for matchup in matchups:\n",
    "    home_team, away_team = matchup\n",
    "    bet_row = make_bet_row(home_team, away_team)\n",
    "    prediction = rf_wds.predict(bet_row)\n",
    "    predictions.append(prediction)"
   ]
  },
  {
   "cell_type": "code",
   "execution_count": null,
   "id": "eb5c55fa",
   "metadata": {},
   "outputs": [],
   "source": []
  }
 ],
 "metadata": {
  "kernelspec": {
   "display_name": "Python 3 (ipykernel)",
   "language": "python",
   "name": "python3"
  },
  "language_info": {
   "codemirror_mode": {
    "name": "ipython",
    "version": 3
   },
   "file_extension": ".py",
   "mimetype": "text/x-python",
   "name": "python",
   "nbconvert_exporter": "python",
   "pygments_lexer": "ipython3",
   "version": "3.9.7"
  }
 },
 "nbformat": 4,
 "nbformat_minor": 5
}
