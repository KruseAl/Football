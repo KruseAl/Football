{
 "cells": [
  {
   "cell_type": "code",
   "execution_count": 2,
   "id": "c52875b6",
   "metadata": {},
   "outputs": [
    {
     "name": "stdout",
     "output_type": "stream",
     "text": [
      "Collecting sportsreference\n",
      "  Downloading sportsreference-0.5.2-py3-none-any.whl (472 kB)\n",
      "\u001b[K     |████████████████████████████████| 472 kB 718 kB/s eta 0:00:01\n",
      "\u001b[?25hCollecting pyquery>=1.4.0\n",
      "  Downloading pyquery-2.0.0-py3-none-any.whl (22 kB)\n",
      "Requirement already satisfied: requests>=2.18.4 in /opt/anaconda3/lib/python3.9/site-packages (from sportsreference) (2.27.1)\n",
      "Requirement already satisfied: pandas>=0.24.1 in /opt/anaconda3/lib/python3.9/site-packages (from sportsreference) (1.4.1)\n",
      "Requirement already satisfied: python-dateutil>=2.8.1 in /opt/anaconda3/lib/python3.9/site-packages (from pandas>=0.24.1->sportsreference) (2.8.2)\n",
      "Requirement already satisfied: pytz>=2020.1 in /opt/anaconda3/lib/python3.9/site-packages (from pandas>=0.24.1->sportsreference) (2021.3)\n",
      "Requirement already satisfied: numpy>=1.18.5 in /opt/anaconda3/lib/python3.9/site-packages (from pandas>=0.24.1->sportsreference) (1.21.2)\n",
      "Collecting cssselect>=1.2.0\n",
      "  Downloading cssselect-1.2.0-py2.py3-none-any.whl (18 kB)\n",
      "Requirement already satisfied: lxml>=2.1 in /opt/anaconda3/lib/python3.9/site-packages (from pyquery>=1.4.0->sportsreference) (4.8.0)\n",
      "Requirement already satisfied: six>=1.5 in /opt/anaconda3/lib/python3.9/site-packages (from python-dateutil>=2.8.1->pandas>=0.24.1->sportsreference) (1.16.0)\n",
      "Requirement already satisfied: idna<4,>=2.5 in /opt/anaconda3/lib/python3.9/site-packages (from requests>=2.18.4->sportsreference) (3.3)\n",
      "Requirement already satisfied: urllib3<1.27,>=1.21.1 in /opt/anaconda3/lib/python3.9/site-packages (from requests>=2.18.4->sportsreference) (1.26.8)\n",
      "Requirement already satisfied: certifi>=2017.4.17 in /opt/anaconda3/lib/python3.9/site-packages (from requests>=2.18.4->sportsreference) (2021.10.8)\n",
      "Requirement already satisfied: charset-normalizer~=2.0.0 in /opt/anaconda3/lib/python3.9/site-packages (from requests>=2.18.4->sportsreference) (2.0.4)\n",
      "Installing collected packages: cssselect, pyquery, sportsreference\n",
      "Successfully installed cssselect-1.2.0 pyquery-2.0.0 sportsreference-0.5.2\n",
      "Note: you may need to restart the kernel to use updated packages.\n"
     ]
    }
   ],
   "source": [
    "pip install sportsreference"
   ]
  },
  {
   "cell_type": "code",
   "execution_count": 3,
   "id": "7a6f70f4",
   "metadata": {},
   "outputs": [],
   "source": [
    "import pandas as pd\n",
    "import numpy as np\n",
    "import matplotlib.pyplot as plt\n",
    "import scipy.stats as ss\n",
    "from scipy.stats import poisson\n",
    "\n",
    "\n",
    "from sportsreference.nfl.teams import Teams\n",
    "from sportsreference.nfl.boxscore import Boxscore\n",
    "from sportsreference.nfl.roster import Player\n",
    "from tqdm import tqdm"
   ]
  },
  {
   "cell_type": "code",
   "execution_count": 4,
   "id": "d26030b0",
   "metadata": {},
   "outputs": [
    {
     "data": {
      "text/plain": [
       "'/Users/allisonkruse/Desktop/nfl'"
      ]
     },
     "execution_count": 4,
     "metadata": {},
     "output_type": "execute_result"
    }
   ],
   "source": [
    "##data from https://www.advancedsportsanalytics.com/nfl-raw-data\n",
    "import os\n",
    "os.chdir('/Users/allisonkruse/desktop/nfl')\n",
    "os.getcwd()"
   ]
  },
  {
   "cell_type": "markdown",
   "id": "2dcf29e2",
   "metadata": {},
   "source": [
    "Get Data "
   ]
  },
  {
   "cell_type": "code",
   "execution_count": 7,
   "id": "e1bd23ad",
   "metadata": {},
   "outputs": [
    {
     "data": {
      "text/html": [
       "<div>\n",
       "<style scoped>\n",
       "    .dataframe tbody tr th:only-of-type {\n",
       "        vertical-align: middle;\n",
       "    }\n",
       "\n",
       "    .dataframe tbody tr th {\n",
       "        vertical-align: top;\n",
       "    }\n",
       "\n",
       "    .dataframe thead th {\n",
       "        text-align: right;\n",
       "    }\n",
       "</style>\n",
       "<table border=\"1\" class=\"dataframe\">\n",
       "  <thead>\n",
       "    <tr style=\"text-align: right;\">\n",
       "      <th></th>\n",
       "      <th>game_id</th>\n",
       "      <th>player_id</th>\n",
       "      <th>pos</th>\n",
       "      <th>player</th>\n",
       "      <th>team</th>\n",
       "      <th>pass_cmp</th>\n",
       "      <th>pass_att</th>\n",
       "      <th>pass_yds</th>\n",
       "      <th>pass_td</th>\n",
       "      <th>pass_int</th>\n",
       "      <th>...</th>\n",
       "      <th>Surface</th>\n",
       "      <th>Temperature</th>\n",
       "      <th>Humidity</th>\n",
       "      <th>Wind_Speed</th>\n",
       "      <th>Vegas_Line</th>\n",
       "      <th>Vegas_Favorite</th>\n",
       "      <th>Over_Under</th>\n",
       "      <th>game_date</th>\n",
       "      <th>game_year</th>\n",
       "      <th>season</th>\n",
       "    </tr>\n",
       "  </thead>\n",
       "  <tbody>\n",
       "    <tr>\n",
       "      <th>0</th>\n",
       "      <td>202009100kan</td>\n",
       "      <td>WatsDe00</td>\n",
       "      <td>QB</td>\n",
       "      <td>Deshaun Watson</td>\n",
       "      <td>HOU</td>\n",
       "      <td>20</td>\n",
       "      <td>32</td>\n",
       "      <td>253</td>\n",
       "      <td>1</td>\n",
       "      <td>1</td>\n",
       "      <td>...</td>\n",
       "      <td>astroturf</td>\n",
       "      <td>56</td>\n",
       "      <td>95</td>\n",
       "      <td>7</td>\n",
       "      <td>-9.5</td>\n",
       "      <td>KAN</td>\n",
       "      <td>53.5</td>\n",
       "      <td>9/10/20</td>\n",
       "      <td>2020</td>\n",
       "      <td>2020</td>\n",
       "    </tr>\n",
       "    <tr>\n",
       "      <th>1</th>\n",
       "      <td>202009100kan</td>\n",
       "      <td>JohnDa08</td>\n",
       "      <td>RB</td>\n",
       "      <td>David Johnson</td>\n",
       "      <td>HOU</td>\n",
       "      <td>0</td>\n",
       "      <td>0</td>\n",
       "      <td>0</td>\n",
       "      <td>0</td>\n",
       "      <td>0</td>\n",
       "      <td>...</td>\n",
       "      <td>astroturf</td>\n",
       "      <td>56</td>\n",
       "      <td>95</td>\n",
       "      <td>7</td>\n",
       "      <td>-9.5</td>\n",
       "      <td>KAN</td>\n",
       "      <td>53.5</td>\n",
       "      <td>9/10/20</td>\n",
       "      <td>2020</td>\n",
       "      <td>2020</td>\n",
       "    </tr>\n",
       "    <tr>\n",
       "      <th>2</th>\n",
       "      <td>202009100kan</td>\n",
       "      <td>JohnDu00</td>\n",
       "      <td>RB</td>\n",
       "      <td>Duke Johnson</td>\n",
       "      <td>HOU</td>\n",
       "      <td>0</td>\n",
       "      <td>0</td>\n",
       "      <td>0</td>\n",
       "      <td>0</td>\n",
       "      <td>0</td>\n",
       "      <td>...</td>\n",
       "      <td>astroturf</td>\n",
       "      <td>56</td>\n",
       "      <td>95</td>\n",
       "      <td>7</td>\n",
       "      <td>-9.5</td>\n",
       "      <td>KAN</td>\n",
       "      <td>53.5</td>\n",
       "      <td>9/10/20</td>\n",
       "      <td>2020</td>\n",
       "      <td>2020</td>\n",
       "    </tr>\n",
       "    <tr>\n",
       "      <th>3</th>\n",
       "      <td>202009100kan</td>\n",
       "      <td>FullWi01</td>\n",
       "      <td>WR</td>\n",
       "      <td>Will Fuller</td>\n",
       "      <td>HOU</td>\n",
       "      <td>0</td>\n",
       "      <td>0</td>\n",
       "      <td>0</td>\n",
       "      <td>0</td>\n",
       "      <td>0</td>\n",
       "      <td>...</td>\n",
       "      <td>astroturf</td>\n",
       "      <td>56</td>\n",
       "      <td>95</td>\n",
       "      <td>7</td>\n",
       "      <td>-9.5</td>\n",
       "      <td>KAN</td>\n",
       "      <td>53.5</td>\n",
       "      <td>9/10/20</td>\n",
       "      <td>2020</td>\n",
       "      <td>2020</td>\n",
       "    </tr>\n",
       "    <tr>\n",
       "      <th>4</th>\n",
       "      <td>202009100kan</td>\n",
       "      <td>AkinJo00</td>\n",
       "      <td>TE</td>\n",
       "      <td>Jordan Akins</td>\n",
       "      <td>HOU</td>\n",
       "      <td>0</td>\n",
       "      <td>0</td>\n",
       "      <td>0</td>\n",
       "      <td>0</td>\n",
       "      <td>0</td>\n",
       "      <td>...</td>\n",
       "      <td>astroturf</td>\n",
       "      <td>56</td>\n",
       "      <td>95</td>\n",
       "      <td>7</td>\n",
       "      <td>-9.5</td>\n",
       "      <td>KAN</td>\n",
       "      <td>53.5</td>\n",
       "      <td>9/10/20</td>\n",
       "      <td>2020</td>\n",
       "      <td>2020</td>\n",
       "    </tr>\n",
       "  </tbody>\n",
       "</table>\n",
       "<p>5 rows × 72 columns</p>\n",
       "</div>"
      ],
      "text/plain": [
       "        game_id player_id pos          player team  pass_cmp  pass_att  \\\n",
       "0  202009100kan  WatsDe00  QB  Deshaun Watson  HOU        20        32   \n",
       "1  202009100kan  JohnDa08  RB   David Johnson  HOU         0         0   \n",
       "2  202009100kan  JohnDu00  RB    Duke Johnson  HOU         0         0   \n",
       "3  202009100kan  FullWi01  WR     Will Fuller  HOU         0         0   \n",
       "4  202009100kan  AkinJo00  TE    Jordan Akins  HOU         0         0   \n",
       "\n",
       "   pass_yds  pass_td  pass_int  ...    Surface  Temperature  Humidity  \\\n",
       "0       253        1         1  ...  astroturf           56        95   \n",
       "1         0        0         0  ...  astroturf           56        95   \n",
       "2         0        0         0  ...  astroturf           56        95   \n",
       "3         0        0         0  ...  astroturf           56        95   \n",
       "4         0        0         0  ...  astroturf           56        95   \n",
       "\n",
       "   Wind_Speed  Vegas_Line  Vegas_Favorite  Over_Under  game_date  game_year  \\\n",
       "0           7        -9.5             KAN        53.5    9/10/20       2020   \n",
       "1           7        -9.5             KAN        53.5    9/10/20       2020   \n",
       "2           7        -9.5             KAN        53.5    9/10/20       2020   \n",
       "3           7        -9.5             KAN        53.5    9/10/20       2020   \n",
       "4           7        -9.5             KAN        53.5    9/10/20       2020   \n",
       "\n",
       "   season  \n",
       "0    2020  \n",
       "1    2020  \n",
       "2    2020  \n",
       "3    2020  \n",
       "4    2020  \n",
       "\n",
       "[5 rows x 72 columns]"
      ]
     },
     "execution_count": 7,
     "metadata": {},
     "output_type": "execute_result"
    }
   ],
   "source": [
    "path = '/Users/allisonkruse/desktop/nfl/nfl_pass_rush_receive_raw_data.csv'\n",
    "df = pd.read_csv(path)\n",
    "pdp = pd.DataFrame(df)\n",
    "pdp.head()"
   ]
  },
  {
   "cell_type": "markdown",
   "id": "f4640575",
   "metadata": {},
   "source": [
    "filter down to player, touchdowns and last few seasons"
   ]
  },
  {
   "cell_type": "code",
   "execution_count": 8,
   "id": "040d87f1",
   "metadata": {},
   "outputs": [
    {
     "name": "stdout",
     "output_type": "stream",
     "text": [
      "['game_id', 'player_id', 'pos', 'player', 'team', 'pass_cmp', 'pass_att', 'pass_yds', 'pass_td', 'pass_int', 'pass_sacked', 'pass_sacked_yds', 'pass_long', 'pass_rating', 'rush_att', 'rush_yds', 'rush_td', 'rush_long', 'targets', 'rec', 'rec_yds', 'rec_td', 'rec_long', 'fumbles_lost', 'rush_scrambles', 'designed_rush_att', 'comb_pass_rush_play', 'comb_pass_play', 'comb_rush_play', 'Team_abbrev', 'Opponent_abbrev', 'game_id_copy', 'two_point_conv', 'total_ret_td', 'offensive_fumble_recovery_td', 'pass_yds_bonus', 'rush_yds_bonus', 'rec_yds_bonus', 'Total_DKP', 'Off_DKP', 'Total_FDP', 'Off_FDP', 'Total_SDP', 'Off_SDP', 'pass_target_yds', 'pass_poor_throws', 'pass_blitzed', 'pass_hurried', 'rush_yds_before_contact', 'rush_yac', 'rush_broken_tackles', 'rec_air_yds', 'rec_yac', 'rec_drops', 'offense', 'off_pct', 'vis_team', 'home_team', 'vis_score', 'home_score', 'OT', 'Roof', 'Surface', 'Temperature', 'Humidity', 'Wind_Speed', 'Vegas_Line', 'Vegas_Favorite', 'Over_Under', 'game_date', 'game_year', 'season']\n"
     ]
    }
   ],
   "source": [
    "## get list of all column names\n",
    "col_list = pdp.columns.values.tolist()\n",
    "\n",
    "print (col_list)"
   ]
  },
  {
   "cell_type": "code",
   "execution_count": 9,
   "id": "1354591c",
   "metadata": {},
   "outputs": [
    {
     "data": {
      "text/plain": [
       "0        2020\n",
       "1        2020\n",
       "2        2020\n",
       "3        2020\n",
       "4        2020\n",
       "         ... \n",
       "19485    2022\n",
       "19486    2022\n",
       "19487    2022\n",
       "19488    2022\n",
       "19489    2022\n",
       "Name: season, Length: 19490, dtype: int64"
      ]
     },
     "execution_count": 9,
     "metadata": {},
     "output_type": "execute_result"
    }
   ],
   "source": [
    "##hitting a key index error on season \n",
    "pdp.get('season')"
   ]
  },
  {
   "cell_type": "code",
   "execution_count": 10,
   "id": "c3e6424b",
   "metadata": {},
   "outputs": [],
   "source": [
    "##reindex data to correct \n",
    "newdf = pdp.reindex()"
   ]
  },
  {
   "cell_type": "code",
   "execution_count": 11,
   "id": "6074e67a",
   "metadata": {},
   "outputs": [
    {
     "data": {
      "text/html": [
       "<div>\n",
       "<style scoped>\n",
       "    .dataframe tbody tr th:only-of-type {\n",
       "        vertical-align: middle;\n",
       "    }\n",
       "\n",
       "    .dataframe tbody tr th {\n",
       "        vertical-align: top;\n",
       "    }\n",
       "\n",
       "    .dataframe thead th {\n",
       "        text-align: right;\n",
       "    }\n",
       "</style>\n",
       "<table border=\"1\" class=\"dataframe\">\n",
       "  <thead>\n",
       "    <tr style=\"text-align: right;\">\n",
       "      <th></th>\n",
       "      <th>game_id</th>\n",
       "      <th>player_id</th>\n",
       "      <th>pos</th>\n",
       "      <th>player</th>\n",
       "      <th>team</th>\n",
       "      <th>pass_cmp</th>\n",
       "      <th>pass_att</th>\n",
       "      <th>pass_yds</th>\n",
       "      <th>pass_td</th>\n",
       "      <th>pass_int</th>\n",
       "      <th>...</th>\n",
       "      <th>Surface</th>\n",
       "      <th>Temperature</th>\n",
       "      <th>Humidity</th>\n",
       "      <th>Wind_Speed</th>\n",
       "      <th>Vegas_Line</th>\n",
       "      <th>Vegas_Favorite</th>\n",
       "      <th>Over_Under</th>\n",
       "      <th>game_date</th>\n",
       "      <th>game_year</th>\n",
       "      <th>season</th>\n",
       "    </tr>\n",
       "  </thead>\n",
       "  <tbody>\n",
       "    <tr>\n",
       "      <th>0</th>\n",
       "      <td>202009100kan</td>\n",
       "      <td>WatsDe00</td>\n",
       "      <td>QB</td>\n",
       "      <td>Deshaun Watson</td>\n",
       "      <td>HOU</td>\n",
       "      <td>20</td>\n",
       "      <td>32</td>\n",
       "      <td>253</td>\n",
       "      <td>1</td>\n",
       "      <td>1</td>\n",
       "      <td>...</td>\n",
       "      <td>astroturf</td>\n",
       "      <td>56</td>\n",
       "      <td>95</td>\n",
       "      <td>7</td>\n",
       "      <td>-9.5</td>\n",
       "      <td>KAN</td>\n",
       "      <td>53.5</td>\n",
       "      <td>9/10/20</td>\n",
       "      <td>2020</td>\n",
       "      <td>2020</td>\n",
       "    </tr>\n",
       "    <tr>\n",
       "      <th>1</th>\n",
       "      <td>202009100kan</td>\n",
       "      <td>JohnDa08</td>\n",
       "      <td>RB</td>\n",
       "      <td>David Johnson</td>\n",
       "      <td>HOU</td>\n",
       "      <td>0</td>\n",
       "      <td>0</td>\n",
       "      <td>0</td>\n",
       "      <td>0</td>\n",
       "      <td>0</td>\n",
       "      <td>...</td>\n",
       "      <td>astroturf</td>\n",
       "      <td>56</td>\n",
       "      <td>95</td>\n",
       "      <td>7</td>\n",
       "      <td>-9.5</td>\n",
       "      <td>KAN</td>\n",
       "      <td>53.5</td>\n",
       "      <td>9/10/20</td>\n",
       "      <td>2020</td>\n",
       "      <td>2020</td>\n",
       "    </tr>\n",
       "    <tr>\n",
       "      <th>2</th>\n",
       "      <td>202009100kan</td>\n",
       "      <td>JohnDu00</td>\n",
       "      <td>RB</td>\n",
       "      <td>Duke Johnson</td>\n",
       "      <td>HOU</td>\n",
       "      <td>0</td>\n",
       "      <td>0</td>\n",
       "      <td>0</td>\n",
       "      <td>0</td>\n",
       "      <td>0</td>\n",
       "      <td>...</td>\n",
       "      <td>astroturf</td>\n",
       "      <td>56</td>\n",
       "      <td>95</td>\n",
       "      <td>7</td>\n",
       "      <td>-9.5</td>\n",
       "      <td>KAN</td>\n",
       "      <td>53.5</td>\n",
       "      <td>9/10/20</td>\n",
       "      <td>2020</td>\n",
       "      <td>2020</td>\n",
       "    </tr>\n",
       "    <tr>\n",
       "      <th>3</th>\n",
       "      <td>202009100kan</td>\n",
       "      <td>FullWi01</td>\n",
       "      <td>WR</td>\n",
       "      <td>Will Fuller</td>\n",
       "      <td>HOU</td>\n",
       "      <td>0</td>\n",
       "      <td>0</td>\n",
       "      <td>0</td>\n",
       "      <td>0</td>\n",
       "      <td>0</td>\n",
       "      <td>...</td>\n",
       "      <td>astroturf</td>\n",
       "      <td>56</td>\n",
       "      <td>95</td>\n",
       "      <td>7</td>\n",
       "      <td>-9.5</td>\n",
       "      <td>KAN</td>\n",
       "      <td>53.5</td>\n",
       "      <td>9/10/20</td>\n",
       "      <td>2020</td>\n",
       "      <td>2020</td>\n",
       "    </tr>\n",
       "    <tr>\n",
       "      <th>4</th>\n",
       "      <td>202009100kan</td>\n",
       "      <td>AkinJo00</td>\n",
       "      <td>TE</td>\n",
       "      <td>Jordan Akins</td>\n",
       "      <td>HOU</td>\n",
       "      <td>0</td>\n",
       "      <td>0</td>\n",
       "      <td>0</td>\n",
       "      <td>0</td>\n",
       "      <td>0</td>\n",
       "      <td>...</td>\n",
       "      <td>astroturf</td>\n",
       "      <td>56</td>\n",
       "      <td>95</td>\n",
       "      <td>7</td>\n",
       "      <td>-9.5</td>\n",
       "      <td>KAN</td>\n",
       "      <td>53.5</td>\n",
       "      <td>9/10/20</td>\n",
       "      <td>2020</td>\n",
       "      <td>2020</td>\n",
       "    </tr>\n",
       "  </tbody>\n",
       "</table>\n",
       "<p>5 rows × 72 columns</p>\n",
       "</div>"
      ],
      "text/plain": [
       "        game_id player_id pos          player team  pass_cmp  pass_att  \\\n",
       "0  202009100kan  WatsDe00  QB  Deshaun Watson  HOU        20        32   \n",
       "1  202009100kan  JohnDa08  RB   David Johnson  HOU         0         0   \n",
       "2  202009100kan  JohnDu00  RB    Duke Johnson  HOU         0         0   \n",
       "3  202009100kan  FullWi01  WR     Will Fuller  HOU         0         0   \n",
       "4  202009100kan  AkinJo00  TE    Jordan Akins  HOU         0         0   \n",
       "\n",
       "   pass_yds  pass_td  pass_int  ...    Surface  Temperature  Humidity  \\\n",
       "0       253        1         1  ...  astroturf           56        95   \n",
       "1         0        0         0  ...  astroturf           56        95   \n",
       "2         0        0         0  ...  astroturf           56        95   \n",
       "3         0        0         0  ...  astroturf           56        95   \n",
       "4         0        0         0  ...  astroturf           56        95   \n",
       "\n",
       "   Wind_Speed  Vegas_Line  Vegas_Favorite  Over_Under  game_date  game_year  \\\n",
       "0           7        -9.5             KAN        53.5    9/10/20       2020   \n",
       "1           7        -9.5             KAN        53.5    9/10/20       2020   \n",
       "2           7        -9.5             KAN        53.5    9/10/20       2020   \n",
       "3           7        -9.5             KAN        53.5    9/10/20       2020   \n",
       "4           7        -9.5             KAN        53.5    9/10/20       2020   \n",
       "\n",
       "   season  \n",
       "0    2020  \n",
       "1    2020  \n",
       "2    2020  \n",
       "3    2020  \n",
       "4    2020  \n",
       "\n",
       "[5 rows x 72 columns]"
      ]
     },
     "execution_count": 11,
     "metadata": {},
     "output_type": "execute_result"
    }
   ],
   "source": [
    "newdf.head()"
   ]
  },
  {
   "cell_type": "code",
   "execution_count": 12,
   "id": "78dc3b18",
   "metadata": {},
   "outputs": [
    {
     "data": {
      "text/html": [
       "<div>\n",
       "<style scoped>\n",
       "    .dataframe tbody tr th:only-of-type {\n",
       "        vertical-align: middle;\n",
       "    }\n",
       "\n",
       "    .dataframe tbody tr th {\n",
       "        vertical-align: top;\n",
       "    }\n",
       "\n",
       "    .dataframe thead th {\n",
       "        text-align: right;\n",
       "    }\n",
       "</style>\n",
       "<table border=\"1\" class=\"dataframe\">\n",
       "  <thead>\n",
       "    <tr style=\"text-align: right;\">\n",
       "      <th></th>\n",
       "      <th>player</th>\n",
       "      <th>pos</th>\n",
       "      <th>game_id</th>\n",
       "      <th>pass_td</th>\n",
       "      <th>season</th>\n",
       "    </tr>\n",
       "  </thead>\n",
       "  <tbody>\n",
       "    <tr>\n",
       "      <th>0</th>\n",
       "      <td>Deshaun Watson</td>\n",
       "      <td>QB</td>\n",
       "      <td>202009100kan</td>\n",
       "      <td>1</td>\n",
       "      <td>2020</td>\n",
       "    </tr>\n",
       "    <tr>\n",
       "      <th>1</th>\n",
       "      <td>David Johnson</td>\n",
       "      <td>RB</td>\n",
       "      <td>202009100kan</td>\n",
       "      <td>0</td>\n",
       "      <td>2020</td>\n",
       "    </tr>\n",
       "    <tr>\n",
       "      <th>2</th>\n",
       "      <td>Duke Johnson</td>\n",
       "      <td>RB</td>\n",
       "      <td>202009100kan</td>\n",
       "      <td>0</td>\n",
       "      <td>2020</td>\n",
       "    </tr>\n",
       "    <tr>\n",
       "      <th>3</th>\n",
       "      <td>Will Fuller</td>\n",
       "      <td>WR</td>\n",
       "      <td>202009100kan</td>\n",
       "      <td>0</td>\n",
       "      <td>2020</td>\n",
       "    </tr>\n",
       "    <tr>\n",
       "      <th>4</th>\n",
       "      <td>Jordan Akins</td>\n",
       "      <td>TE</td>\n",
       "      <td>202009100kan</td>\n",
       "      <td>0</td>\n",
       "      <td>2020</td>\n",
       "    </tr>\n",
       "  </tbody>\n",
       "</table>\n",
       "</div>"
      ],
      "text/plain": [
       "           player pos       game_id  pass_td  season\n",
       "0  Deshaun Watson  QB  202009100kan        1    2020\n",
       "1   David Johnson  RB  202009100kan        0    2020\n",
       "2    Duke Johnson  RB  202009100kan        0    2020\n",
       "3     Will Fuller  WR  202009100kan        0    2020\n",
       "4    Jordan Akins  TE  202009100kan        0    2020"
      ]
     },
     "execution_count": 12,
     "metadata": {},
     "output_type": "execute_result"
    }
   ],
   "source": [
    "##corrected index problem  \n",
    "sea_df = newdf[['player','pos','game_id','pass_td','season']]\n",
    "sea_df.head()"
   ]
  },
  {
   "cell_type": "code",
   "execution_count": 13,
   "id": "4c695605",
   "metadata": {},
   "outputs": [
    {
     "data": {
      "text/html": [
       "<div>\n",
       "<style scoped>\n",
       "    .dataframe tbody tr th:only-of-type {\n",
       "        vertical-align: middle;\n",
       "    }\n",
       "\n",
       "    .dataframe tbody tr th {\n",
       "        vertical-align: top;\n",
       "    }\n",
       "\n",
       "    .dataframe thead th {\n",
       "        text-align: right;\n",
       "    }\n",
       "</style>\n",
       "<table border=\"1\" class=\"dataframe\">\n",
       "  <thead>\n",
       "    <tr style=\"text-align: right;\">\n",
       "      <th></th>\n",
       "      <th>player</th>\n",
       "      <th>pos</th>\n",
       "      <th>game_id</th>\n",
       "      <th>pass_td</th>\n",
       "      <th>season</th>\n",
       "    </tr>\n",
       "  </thead>\n",
       "  <tbody>\n",
       "    <tr>\n",
       "      <th>0</th>\n",
       "      <td>Deshaun Watson</td>\n",
       "      <td>QB</td>\n",
       "      <td>202009100kan</td>\n",
       "      <td>1</td>\n",
       "      <td>2020</td>\n",
       "    </tr>\n",
       "    <tr>\n",
       "      <th>10</th>\n",
       "      <td>Patrick Mahomes</td>\n",
       "      <td>QB</td>\n",
       "      <td>202009100kan</td>\n",
       "      <td>3</td>\n",
       "      <td>2020</td>\n",
       "    </tr>\n",
       "    <tr>\n",
       "      <th>22</th>\n",
       "      <td>Russell Wilson</td>\n",
       "      <td>QB</td>\n",
       "      <td>202009130atl</td>\n",
       "      <td>4</td>\n",
       "      <td>2020</td>\n",
       "    </tr>\n",
       "    <tr>\n",
       "      <th>25</th>\n",
       "      <td>Matt Ryan</td>\n",
       "      <td>QB</td>\n",
       "      <td>202009130atl</td>\n",
       "      <td>2</td>\n",
       "      <td>2020</td>\n",
       "    </tr>\n",
       "    <tr>\n",
       "      <th>52</th>\n",
       "      <td>Sam Darnold</td>\n",
       "      <td>QB</td>\n",
       "      <td>202009130buf</td>\n",
       "      <td>1</td>\n",
       "      <td>2020</td>\n",
       "    </tr>\n",
       "  </tbody>\n",
       "</table>\n",
       "</div>"
      ],
      "text/plain": [
       "             player pos       game_id  pass_td  season\n",
       "0    Deshaun Watson  QB  202009100kan        1    2020\n",
       "10  Patrick Mahomes  QB  202009100kan        3    2020\n",
       "22   Russell Wilson  QB  202009130atl        4    2020\n",
       "25        Matt Ryan  QB  202009130atl        2    2020\n",
       "52      Sam Darnold  QB  202009130buf        1    2020"
      ]
     },
     "execution_count": 13,
     "metadata": {},
     "output_type": "execute_result"
    }
   ],
   "source": [
    "#get where position is qb only \n",
    "sea_qb_df = sea_df[(sea_df.pos == \"QB\")]\n",
    "sea_qb_df.head()                "
   ]
  },
  {
   "cell_type": "code",
   "execution_count": 14,
   "id": "4bfe996e",
   "metadata": {
    "scrolled": true
   },
   "outputs": [],
   "source": [
    "seasons = list(range(2020, 2022))"
   ]
  },
  {
   "cell_type": "code",
   "execution_count": 15,
   "id": "9725124f",
   "metadata": {},
   "outputs": [],
   "source": [
    "td_pg = None"
   ]
  },
  {
   "cell_type": "code",
   "execution_count": 16,
   "id": "f8ea8b62",
   "metadata": {},
   "outputs": [
    {
     "data": {
      "text/html": [
       "<div>\n",
       "<style scoped>\n",
       "    .dataframe tbody tr th:only-of-type {\n",
       "        vertical-align: middle;\n",
       "    }\n",
       "\n",
       "    .dataframe tbody tr th {\n",
       "        vertical-align: top;\n",
       "    }\n",
       "\n",
       "    .dataframe thead th {\n",
       "        text-align: right;\n",
       "    }\n",
       "</style>\n",
       "<table border=\"1\" class=\"dataframe\">\n",
       "  <thead>\n",
       "    <tr style=\"text-align: right;\">\n",
       "      <th></th>\n",
       "      <th>season</th>\n",
       "      <th>player</th>\n",
       "      <th>pass_td</th>\n",
       "    </tr>\n",
       "  </thead>\n",
       "  <tbody>\n",
       "    <tr>\n",
       "      <th>1</th>\n",
       "      <td>2020</td>\n",
       "      <td>Aaron Rodgers</td>\n",
       "      <td>53</td>\n",
       "    </tr>\n",
       "    <tr>\n",
       "      <th>76</th>\n",
       "      <td>2020</td>\n",
       "      <td>Tom Brady</td>\n",
       "      <td>50</td>\n",
       "    </tr>\n",
       "    <tr>\n",
       "      <th>139</th>\n",
       "      <td>2021</td>\n",
       "      <td>Matthew Stafford</td>\n",
       "      <td>50</td>\n",
       "    </tr>\n",
       "    <tr>\n",
       "      <th>147</th>\n",
       "      <td>2021</td>\n",
       "      <td>Patrick Mahomes</td>\n",
       "      <td>48</td>\n",
       "    </tr>\n",
       "    <tr>\n",
       "      <th>158</th>\n",
       "      <td>2021</td>\n",
       "      <td>Tom Brady</td>\n",
       "      <td>46</td>\n",
       "    </tr>\n",
       "  </tbody>\n",
       "</table>\n",
       "</div>"
      ],
      "text/plain": [
       "     season            player  pass_td\n",
       "1      2020     Aaron Rodgers       53\n",
       "76     2020         Tom Brady       50\n",
       "139    2021  Matthew Stafford       50\n",
       "147    2021   Patrick Mahomes       48\n",
       "158    2021         Tom Brady       46"
      ]
     },
     "execution_count": 16,
     "metadata": {},
     "output_type": "execute_result"
    }
   ],
   "source": [
    "# total pass touchdowns in season \n",
    "gb = sea_qb_df.groupby(['season','player'])['pass_td'].sum().reset_index().sort_values(by='pass_td',ascending=False)\n",
    "gb.head()\n"
   ]
  },
  {
   "cell_type": "code",
   "execution_count": 17,
   "id": "655a047a",
   "metadata": {},
   "outputs": [
    {
     "data": {
      "text/html": [
       "<div>\n",
       "<style scoped>\n",
       "    .dataframe tbody tr th:only-of-type {\n",
       "        vertical-align: middle;\n",
       "    }\n",
       "\n",
       "    .dataframe tbody tr th {\n",
       "        vertical-align: top;\n",
       "    }\n",
       "\n",
       "    .dataframe thead th {\n",
       "        text-align: right;\n",
       "    }\n",
       "</style>\n",
       "<table border=\"1\" class=\"dataframe\">\n",
       "  <thead>\n",
       "    <tr style=\"text-align: right;\">\n",
       "      <th></th>\n",
       "      <th>season</th>\n",
       "      <th>player</th>\n",
       "      <th>game_id</th>\n",
       "    </tr>\n",
       "  </thead>\n",
       "  <tbody>\n",
       "    <tr>\n",
       "      <th>139</th>\n",
       "      <td>2021</td>\n",
       "      <td>Matthew Stafford</td>\n",
       "      <td>21</td>\n",
       "    </tr>\n",
       "    <tr>\n",
       "      <th>119</th>\n",
       "      <td>2021</td>\n",
       "      <td>Joe Burrow</td>\n",
       "      <td>20</td>\n",
       "    </tr>\n",
       "    <tr>\n",
       "      <th>147</th>\n",
       "      <td>2021</td>\n",
       "      <td>Patrick Mahomes</td>\n",
       "      <td>20</td>\n",
       "    </tr>\n",
       "    <tr>\n",
       "      <th>76</th>\n",
       "      <td>2020</td>\n",
       "      <td>Tom Brady</td>\n",
       "      <td>20</td>\n",
       "    </tr>\n",
       "    <tr>\n",
       "      <th>42</th>\n",
       "      <td>2020</td>\n",
       "      <td>Josh Allen</td>\n",
       "      <td>19</td>\n",
       "    </tr>\n",
       "  </tbody>\n",
       "</table>\n",
       "</div>"
      ],
      "text/plain": [
       "     season            player  game_id\n",
       "139    2021  Matthew Stafford       21\n",
       "119    2021        Joe Burrow       20\n",
       "147    2021   Patrick Mahomes       20\n",
       "76     2020         Tom Brady       20\n",
       "42     2020        Josh Allen       19"
      ]
     },
     "execution_count": 17,
     "metadata": {},
     "output_type": "execute_result"
    }
   ],
   "source": [
    " # total games played in season\n",
    "gb2 = sea_qb_df.groupby(['season','player'])['game_id'].nunique().reset_index().sort_values(by='game_id',ascending=False)\n",
    "gb2.head()"
   ]
  },
  {
   "cell_type": "code",
   "execution_count": 18,
   "id": "58655640",
   "metadata": {},
   "outputs": [
    {
     "data": {
      "text/html": [
       "<div>\n",
       "<style scoped>\n",
       "    .dataframe tbody tr th:only-of-type {\n",
       "        vertical-align: middle;\n",
       "    }\n",
       "\n",
       "    .dataframe tbody tr th {\n",
       "        vertical-align: top;\n",
       "    }\n",
       "\n",
       "    .dataframe thead th {\n",
       "        text-align: right;\n",
       "    }\n",
       "</style>\n",
       "<table border=\"1\" class=\"dataframe\">\n",
       "  <thead>\n",
       "    <tr style=\"text-align: right;\">\n",
       "      <th></th>\n",
       "      <th>season</th>\n",
       "      <th>player</th>\n",
       "      <th>pass_td</th>\n",
       "      <th>game_id</th>\n",
       "    </tr>\n",
       "  </thead>\n",
       "  <tbody>\n",
       "    <tr>\n",
       "      <th>0</th>\n",
       "      <td>2020</td>\n",
       "      <td>Aaron Rodgers</td>\n",
       "      <td>53</td>\n",
       "      <td>18</td>\n",
       "    </tr>\n",
       "    <tr>\n",
       "      <th>1</th>\n",
       "      <td>2020</td>\n",
       "      <td>Tom Brady</td>\n",
       "      <td>50</td>\n",
       "      <td>20</td>\n",
       "    </tr>\n",
       "    <tr>\n",
       "      <th>2</th>\n",
       "      <td>2021</td>\n",
       "      <td>Matthew Stafford</td>\n",
       "      <td>50</td>\n",
       "      <td>21</td>\n",
       "    </tr>\n",
       "    <tr>\n",
       "      <th>3</th>\n",
       "      <td>2021</td>\n",
       "      <td>Patrick Mahomes</td>\n",
       "      <td>48</td>\n",
       "      <td>20</td>\n",
       "    </tr>\n",
       "    <tr>\n",
       "      <th>4</th>\n",
       "      <td>2021</td>\n",
       "      <td>Tom Brady</td>\n",
       "      <td>46</td>\n",
       "      <td>19</td>\n",
       "    </tr>\n",
       "  </tbody>\n",
       "</table>\n",
       "</div>"
      ],
      "text/plain": [
       "   season            player  pass_td  game_id\n",
       "0    2020     Aaron Rodgers       53       18\n",
       "1    2020         Tom Brady       50       20\n",
       "2    2021  Matthew Stafford       50       21\n",
       "3    2021   Patrick Mahomes       48       20\n",
       "4    2021         Tom Brady       46       19"
      ]
     },
     "execution_count": 18,
     "metadata": {},
     "output_type": "execute_result"
    }
   ],
   "source": [
    " # merge together\n",
    "sea_ptd = pd.merge(gb, gb2, how='left', left_on=['season','player'], right_on=['season','player'])\n",
    "sea_ptd.head()"
   ]
  },
  {
   "cell_type": "code",
   "execution_count": 19,
   "id": "c07fbaef",
   "metadata": {},
   "outputs": [],
   "source": [
    "# drop QBs with less than 8 games played\n",
    "sea_ptd = sea_ptd.loc[sea_ptd.game_id > 7]"
   ]
  },
  {
   "cell_type": "code",
   "execution_count": 20,
   "id": "0932c41b",
   "metadata": {},
   "outputs": [
    {
     "name": "stdout",
     "output_type": "stream",
     "text": [
      "     season            player  pass_td  game_id\n",
      "0      2020     Aaron Rodgers       53       18\n",
      "1      2020         Tom Brady       50       20\n",
      "2      2021  Matthew Stafford       50       21\n",
      "3      2021   Patrick Mahomes       48       20\n",
      "4      2021         Tom Brady       46       19\n",
      "..      ...               ...      ...      ...\n",
      "114    2021   Jacoby Brissett        5       10\n",
      "121    2020       Taysom Hill        4       17\n",
      "126    2021       Taysom Hill        4       12\n",
      "200    2020         Tim Boyle        0        8\n",
      "209    2020   Jacoby Brissett        0       12\n",
      "\n",
      "[104 rows x 4 columns]\n"
     ]
    }
   ],
   "source": [
    "print(sea_ptd)\n",
    "#looks like QBS with less than 8 games are removed "
   ]
  },
  {
   "cell_type": "code",
   "execution_count": 21,
   "id": "75b04822",
   "metadata": {},
   "outputs": [],
   "source": [
    "# concat with other seasons\n",
    "if td_pg is not None:\n",
    "        td_pg = pd.concat([td_pg,sea_ptd],axis=0)\n",
    "else:\n",
    "        td_pg = sea_ptd"
   ]
  },
  {
   "cell_type": "code",
   "execution_count": 22,
   "id": "9567d7a9",
   "metadata": {},
   "outputs": [
    {
     "data": {
      "text/html": [
       "<div>\n",
       "<style scoped>\n",
       "    .dataframe tbody tr th:only-of-type {\n",
       "        vertical-align: middle;\n",
       "    }\n",
       "\n",
       "    .dataframe tbody tr th {\n",
       "        vertical-align: top;\n",
       "    }\n",
       "\n",
       "    .dataframe thead th {\n",
       "        text-align: right;\n",
       "    }\n",
       "</style>\n",
       "<table border=\"1\" class=\"dataframe\">\n",
       "  <thead>\n",
       "    <tr style=\"text-align: right;\">\n",
       "      <th></th>\n",
       "      <th>season</th>\n",
       "      <th>player</th>\n",
       "      <th>pass_td</th>\n",
       "      <th>game_id</th>\n",
       "      <th>td_pg</th>\n",
       "    </tr>\n",
       "  </thead>\n",
       "  <tbody>\n",
       "    <tr>\n",
       "      <th>0</th>\n",
       "      <td>2020</td>\n",
       "      <td>Aaron Rodgers</td>\n",
       "      <td>53</td>\n",
       "      <td>18</td>\n",
       "      <td>2.944444</td>\n",
       "    </tr>\n",
       "    <tr>\n",
       "      <th>1</th>\n",
       "      <td>2020</td>\n",
       "      <td>Tom Brady</td>\n",
       "      <td>50</td>\n",
       "      <td>20</td>\n",
       "      <td>2.500000</td>\n",
       "    </tr>\n",
       "    <tr>\n",
       "      <th>8</th>\n",
       "      <td>2020</td>\n",
       "      <td>Russell Wilson</td>\n",
       "      <td>42</td>\n",
       "      <td>17</td>\n",
       "      <td>2.470588</td>\n",
       "    </tr>\n",
       "    <tr>\n",
       "      <th>14</th>\n",
       "      <td>2022</td>\n",
       "      <td>Patrick Mahomes</td>\n",
       "      <td>37</td>\n",
       "      <td>15</td>\n",
       "      <td>2.466667</td>\n",
       "    </tr>\n",
       "    <tr>\n",
       "      <th>4</th>\n",
       "      <td>2021</td>\n",
       "      <td>Tom Brady</td>\n",
       "      <td>46</td>\n",
       "      <td>19</td>\n",
       "      <td>2.421053</td>\n",
       "    </tr>\n",
       "    <tr>\n",
       "      <th>3</th>\n",
       "      <td>2021</td>\n",
       "      <td>Patrick Mahomes</td>\n",
       "      <td>48</td>\n",
       "      <td>20</td>\n",
       "      <td>2.400000</td>\n",
       "    </tr>\n",
       "    <tr>\n",
       "      <th>2</th>\n",
       "      <td>2021</td>\n",
       "      <td>Matthew Stafford</td>\n",
       "      <td>50</td>\n",
       "      <td>21</td>\n",
       "      <td>2.380952</td>\n",
       "    </tr>\n",
       "    <tr>\n",
       "      <th>5</th>\n",
       "      <td>2021</td>\n",
       "      <td>Josh Allen</td>\n",
       "      <td>45</td>\n",
       "      <td>19</td>\n",
       "      <td>2.368421</td>\n",
       "    </tr>\n",
       "    <tr>\n",
       "      <th>6</th>\n",
       "      <td>2020</td>\n",
       "      <td>Patrick Mahomes</td>\n",
       "      <td>42</td>\n",
       "      <td>18</td>\n",
       "      <td>2.333333</td>\n",
       "    </tr>\n",
       "    <tr>\n",
       "      <th>12</th>\n",
       "      <td>2020</td>\n",
       "      <td>Ben Roethlisberger</td>\n",
       "      <td>37</td>\n",
       "      <td>16</td>\n",
       "      <td>2.312500</td>\n",
       "    </tr>\n",
       "    <tr>\n",
       "      <th>17</th>\n",
       "      <td>2022</td>\n",
       "      <td>Joe Burrow</td>\n",
       "      <td>34</td>\n",
       "      <td>15</td>\n",
       "      <td>2.266667</td>\n",
       "    </tr>\n",
       "    <tr>\n",
       "      <th>10</th>\n",
       "      <td>2021</td>\n",
       "      <td>Dak Prescott</td>\n",
       "      <td>38</td>\n",
       "      <td>17</td>\n",
       "      <td>2.235294</td>\n",
       "    </tr>\n",
       "    <tr>\n",
       "      <th>11</th>\n",
       "      <td>2021</td>\n",
       "      <td>Justin Herbert</td>\n",
       "      <td>38</td>\n",
       "      <td>17</td>\n",
       "      <td>2.235294</td>\n",
       "    </tr>\n",
       "    <tr>\n",
       "      <th>7</th>\n",
       "      <td>2020</td>\n",
       "      <td>Josh Allen</td>\n",
       "      <td>42</td>\n",
       "      <td>19</td>\n",
       "      <td>2.210526</td>\n",
       "    </tr>\n",
       "    <tr>\n",
       "      <th>15</th>\n",
       "      <td>2020</td>\n",
       "      <td>Kirk Cousins</td>\n",
       "      <td>35</td>\n",
       "      <td>16</td>\n",
       "      <td>2.187500</td>\n",
       "    </tr>\n",
       "    <tr>\n",
       "      <th>13</th>\n",
       "      <td>2021</td>\n",
       "      <td>Aaron Rodgers</td>\n",
       "      <td>37</td>\n",
       "      <td>17</td>\n",
       "      <td>2.176471</td>\n",
       "    </tr>\n",
       "    <tr>\n",
       "      <th>20</th>\n",
       "      <td>2022</td>\n",
       "      <td>Josh Allen</td>\n",
       "      <td>32</td>\n",
       "      <td>15</td>\n",
       "      <td>2.133333</td>\n",
       "    </tr>\n",
       "    <tr>\n",
       "      <th>21</th>\n",
       "      <td>2020</td>\n",
       "      <td>Justin Herbert</td>\n",
       "      <td>31</td>\n",
       "      <td>15</td>\n",
       "      <td>2.066667</td>\n",
       "    </tr>\n",
       "    <tr>\n",
       "      <th>18</th>\n",
       "      <td>2020</td>\n",
       "      <td>Deshaun Watson</td>\n",
       "      <td>33</td>\n",
       "      <td>16</td>\n",
       "      <td>2.062500</td>\n",
       "    </tr>\n",
       "    <tr>\n",
       "      <th>19</th>\n",
       "      <td>2021</td>\n",
       "      <td>Kirk Cousins</td>\n",
       "      <td>33</td>\n",
       "      <td>16</td>\n",
       "      <td>2.062500</td>\n",
       "    </tr>\n",
       "    <tr>\n",
       "      <th>16</th>\n",
       "      <td>2020</td>\n",
       "      <td>Ryan Tannehill</td>\n",
       "      <td>34</td>\n",
       "      <td>17</td>\n",
       "      <td>2.000000</td>\n",
       "    </tr>\n",
       "    <tr>\n",
       "      <th>49</th>\n",
       "      <td>2022</td>\n",
       "      <td>Dak Prescott</td>\n",
       "      <td>20</td>\n",
       "      <td>10</td>\n",
       "      <td>2.000000</td>\n",
       "    </tr>\n",
       "    <tr>\n",
       "      <th>9</th>\n",
       "      <td>2021</td>\n",
       "      <td>Joe Burrow</td>\n",
       "      <td>39</td>\n",
       "      <td>20</td>\n",
       "      <td>1.950000</td>\n",
       "    </tr>\n",
       "    <tr>\n",
       "      <th>26</th>\n",
       "      <td>2020</td>\n",
       "      <td>Drew Brees</td>\n",
       "      <td>27</td>\n",
       "      <td>14</td>\n",
       "      <td>1.928571</td>\n",
       "    </tr>\n",
       "    <tr>\n",
       "      <th>34</th>\n",
       "      <td>2022</td>\n",
       "      <td>Tua Tagovailoa</td>\n",
       "      <td>25</td>\n",
       "      <td>13</td>\n",
       "      <td>1.923077</td>\n",
       "    </tr>\n",
       "    <tr>\n",
       "      <th>25</th>\n",
       "      <td>2022</td>\n",
       "      <td>Geno Smith</td>\n",
       "      <td>27</td>\n",
       "      <td>15</td>\n",
       "      <td>1.800000</td>\n",
       "    </tr>\n",
       "    <tr>\n",
       "      <th>23</th>\n",
       "      <td>2022</td>\n",
       "      <td>Kirk Cousins</td>\n",
       "      <td>27</td>\n",
       "      <td>15</td>\n",
       "      <td>1.800000</td>\n",
       "    </tr>\n",
       "    <tr>\n",
       "      <th>35</th>\n",
       "      <td>2021</td>\n",
       "      <td>Russell Wilson</td>\n",
       "      <td>25</td>\n",
       "      <td>14</td>\n",
       "      <td>1.785714</td>\n",
       "    </tr>\n",
       "    <tr>\n",
       "      <th>62</th>\n",
       "      <td>2020</td>\n",
       "      <td>Gardner Minshew II</td>\n",
       "      <td>16</td>\n",
       "      <td>9</td>\n",
       "      <td>1.777778</td>\n",
       "    </tr>\n",
       "    <tr>\n",
       "      <th>33</th>\n",
       "      <td>2022</td>\n",
       "      <td>Jared Goff</td>\n",
       "      <td>26</td>\n",
       "      <td>15</td>\n",
       "      <td>1.733333</td>\n",
       "    </tr>\n",
       "    <tr>\n",
       "      <th>24</th>\n",
       "      <td>2020</td>\n",
       "      <td>Derek Carr</td>\n",
       "      <td>27</td>\n",
       "      <td>16</td>\n",
       "      <td>1.687500</td>\n",
       "    </tr>\n",
       "    <tr>\n",
       "      <th>22</th>\n",
       "      <td>2020</td>\n",
       "      <td>Baker Mayfield</td>\n",
       "      <td>30</td>\n",
       "      <td>18</td>\n",
       "      <td>1.666667</td>\n",
       "    </tr>\n",
       "    <tr>\n",
       "      <th>28</th>\n",
       "      <td>2020</td>\n",
       "      <td>Matt Ryan</td>\n",
       "      <td>26</td>\n",
       "      <td>16</td>\n",
       "      <td>1.625000</td>\n",
       "    </tr>\n",
       "    <tr>\n",
       "      <th>31</th>\n",
       "      <td>2020</td>\n",
       "      <td>Matthew Stafford</td>\n",
       "      <td>26</td>\n",
       "      <td>16</td>\n",
       "      <td>1.625000</td>\n",
       "    </tr>\n",
       "    <tr>\n",
       "      <th>32</th>\n",
       "      <td>2020</td>\n",
       "      <td>Kyler Murray</td>\n",
       "      <td>26</td>\n",
       "      <td>16</td>\n",
       "      <td>1.625000</td>\n",
       "    </tr>\n",
       "    <tr>\n",
       "      <th>40</th>\n",
       "      <td>2022</td>\n",
       "      <td>Trevor Lawrence</td>\n",
       "      <td>24</td>\n",
       "      <td>15</td>\n",
       "      <td>1.600000</td>\n",
       "    </tr>\n",
       "    <tr>\n",
       "      <th>41</th>\n",
       "      <td>2022</td>\n",
       "      <td>Derek Carr</td>\n",
       "      <td>24</td>\n",
       "      <td>15</td>\n",
       "      <td>1.600000</td>\n",
       "    </tr>\n",
       "    <tr>\n",
       "      <th>38</th>\n",
       "      <td>2021</td>\n",
       "      <td>Kyler Murray</td>\n",
       "      <td>24</td>\n",
       "      <td>15</td>\n",
       "      <td>1.600000</td>\n",
       "    </tr>\n",
       "    <tr>\n",
       "      <th>37</th>\n",
       "      <td>2022</td>\n",
       "      <td>Aaron Rodgers</td>\n",
       "      <td>24</td>\n",
       "      <td>15</td>\n",
       "      <td>1.600000</td>\n",
       "    </tr>\n",
       "    <tr>\n",
       "      <th>27</th>\n",
       "      <td>2021</td>\n",
       "      <td>Carson Wentz</td>\n",
       "      <td>27</td>\n",
       "      <td>17</td>\n",
       "      <td>1.588235</td>\n",
       "    </tr>\n",
       "    <tr>\n",
       "      <th>46</th>\n",
       "      <td>2022</td>\n",
       "      <td>Jalen Hurts</td>\n",
       "      <td>22</td>\n",
       "      <td>14</td>\n",
       "      <td>1.571429</td>\n",
       "    </tr>\n",
       "    <tr>\n",
       "      <th>56</th>\n",
       "      <td>2020</td>\n",
       "      <td>Mitchell Trubisky</td>\n",
       "      <td>17</td>\n",
       "      <td>11</td>\n",
       "      <td>1.545455</td>\n",
       "    </tr>\n",
       "    <tr>\n",
       "      <th>30</th>\n",
       "      <td>2020</td>\n",
       "      <td>Lamar Jackson</td>\n",
       "      <td>26</td>\n",
       "      <td>17</td>\n",
       "      <td>1.529412</td>\n",
       "    </tr>\n",
       "    <tr>\n",
       "      <th>29</th>\n",
       "      <td>2020</td>\n",
       "      <td>Philip Rivers</td>\n",
       "      <td>26</td>\n",
       "      <td>17</td>\n",
       "      <td>1.529412</td>\n",
       "    </tr>\n",
       "    <tr>\n",
       "      <th>63</th>\n",
       "      <td>2022</td>\n",
       "      <td>Jimmy Garoppolo</td>\n",
       "      <td>16</td>\n",
       "      <td>11</td>\n",
       "      <td>1.454545</td>\n",
       "    </tr>\n",
       "    <tr>\n",
       "      <th>76</th>\n",
       "      <td>2020</td>\n",
       "      <td>Ryan Fitzpatrick</td>\n",
       "      <td>13</td>\n",
       "      <td>9</td>\n",
       "      <td>1.444444</td>\n",
       "    </tr>\n",
       "    <tr>\n",
       "      <th>58</th>\n",
       "      <td>2022</td>\n",
       "      <td>Lamar Jackson</td>\n",
       "      <td>17</td>\n",
       "      <td>12</td>\n",
       "      <td>1.416667</td>\n",
       "    </tr>\n",
       "    <tr>\n",
       "      <th>57</th>\n",
       "      <td>2022</td>\n",
       "      <td>Andy Dalton</td>\n",
       "      <td>17</td>\n",
       "      <td>12</td>\n",
       "      <td>1.416667</td>\n",
       "    </tr>\n",
       "    <tr>\n",
       "      <th>42</th>\n",
       "      <td>2021</td>\n",
       "      <td>Ben Roethlisberger</td>\n",
       "      <td>24</td>\n",
       "      <td>17</td>\n",
       "      <td>1.411765</td>\n",
       "    </tr>\n",
       "    <tr>\n",
       "      <th>47</th>\n",
       "      <td>2022</td>\n",
       "      <td>Tom Brady</td>\n",
       "      <td>21</td>\n",
       "      <td>15</td>\n",
       "      <td>1.400000</td>\n",
       "    </tr>\n",
       "  </tbody>\n",
       "</table>\n",
       "</div>"
      ],
      "text/plain": [
       "    season              player  pass_td  game_id     td_pg\n",
       "0     2020       Aaron Rodgers       53       18  2.944444\n",
       "1     2020           Tom Brady       50       20  2.500000\n",
       "8     2020      Russell Wilson       42       17  2.470588\n",
       "14    2022     Patrick Mahomes       37       15  2.466667\n",
       "4     2021           Tom Brady       46       19  2.421053\n",
       "3     2021     Patrick Mahomes       48       20  2.400000\n",
       "2     2021    Matthew Stafford       50       21  2.380952\n",
       "5     2021          Josh Allen       45       19  2.368421\n",
       "6     2020     Patrick Mahomes       42       18  2.333333\n",
       "12    2020  Ben Roethlisberger       37       16  2.312500\n",
       "17    2022          Joe Burrow       34       15  2.266667\n",
       "10    2021        Dak Prescott       38       17  2.235294\n",
       "11    2021      Justin Herbert       38       17  2.235294\n",
       "7     2020          Josh Allen       42       19  2.210526\n",
       "15    2020        Kirk Cousins       35       16  2.187500\n",
       "13    2021       Aaron Rodgers       37       17  2.176471\n",
       "20    2022          Josh Allen       32       15  2.133333\n",
       "21    2020      Justin Herbert       31       15  2.066667\n",
       "18    2020      Deshaun Watson       33       16  2.062500\n",
       "19    2021        Kirk Cousins       33       16  2.062500\n",
       "16    2020      Ryan Tannehill       34       17  2.000000\n",
       "49    2022        Dak Prescott       20       10  2.000000\n",
       "9     2021          Joe Burrow       39       20  1.950000\n",
       "26    2020          Drew Brees       27       14  1.928571\n",
       "34    2022      Tua Tagovailoa       25       13  1.923077\n",
       "25    2022          Geno Smith       27       15  1.800000\n",
       "23    2022        Kirk Cousins       27       15  1.800000\n",
       "35    2021      Russell Wilson       25       14  1.785714\n",
       "62    2020  Gardner Minshew II       16        9  1.777778\n",
       "33    2022          Jared Goff       26       15  1.733333\n",
       "24    2020          Derek Carr       27       16  1.687500\n",
       "22    2020      Baker Mayfield       30       18  1.666667\n",
       "28    2020           Matt Ryan       26       16  1.625000\n",
       "31    2020    Matthew Stafford       26       16  1.625000\n",
       "32    2020        Kyler Murray       26       16  1.625000\n",
       "40    2022     Trevor Lawrence       24       15  1.600000\n",
       "41    2022          Derek Carr       24       15  1.600000\n",
       "38    2021        Kyler Murray       24       15  1.600000\n",
       "37    2022       Aaron Rodgers       24       15  1.600000\n",
       "27    2021        Carson Wentz       27       17  1.588235\n",
       "46    2022         Jalen Hurts       22       14  1.571429\n",
       "56    2020   Mitchell Trubisky       17       11  1.545455\n",
       "30    2020       Lamar Jackson       26       17  1.529412\n",
       "29    2020       Philip Rivers       26       17  1.529412\n",
       "63    2022     Jimmy Garoppolo       16       11  1.454545\n",
       "76    2020    Ryan Fitzpatrick       13        9  1.444444\n",
       "58    2022       Lamar Jackson       17       12  1.416667\n",
       "57    2022         Andy Dalton       17       12  1.416667\n",
       "42    2021  Ben Roethlisberger       24       17  1.411765\n",
       "47    2022           Tom Brady       21       15  1.400000"
      ]
     },
     "execution_count": 22,
     "metadata": {},
     "output_type": "execute_result"
    }
   ],
   "source": [
    "# actually get td pg\n",
    "sea_ptd['td_pg'] = sea_ptd['pass_td'].copy()/sea_ptd['game_id'].copy()\n",
    "\n",
    "# sort\n",
    "td_pg = td_pg.sort_values(by=['td_pg'], ascending=False)\n",
    "\n",
    "td_pg.head(50)"
   ]
  },
  {
   "cell_type": "code",
   "execution_count": 23,
   "id": "498d848e",
   "metadata": {},
   "outputs": [
    {
     "data": {
      "image/png": "[encoded data removed]",
      "text/plain": [
       "<Figure size 576x432 with 1 Axes>"
      ]
     },
     "metadata": {
      "needs_background": "light"
     },
     "output_type": "display_data"
    }
   ],
   "source": [
    "# Parameters of the prior gamma distribution.\n",
    "a = 1 # shape\n",
    "b = 3 # rate = 1/scale\n",
    "\n",
    "c = 2\n",
    "d = 3\n",
    "\n",
    "e = 3\n",
    "f = 3\n",
    "\n",
    "x = np.linspace(start=0, stop=10, num=100)\n",
    "\n",
    "plt.figure(figsize=(8, 6))\n",
    "plt.plot(x, ss.gamma.pdf(x,a=a,scale=1/b), 'r-')\n",
    "plt.plot(x, ss.gamma.pdf(x,a=c,scale=1/d), 'b-')\n",
    "plt.plot(x, ss.gamma.pdf(x,a=e,scale=1/f), 'g-')\n",
    "plt.title('Gamma Density Function for a={} and b={}'.format(a,b))\n",
    "\n",
    "# Define the prior distribution.\n",
    "prior = lambda x: ss.gamma.pdf(x, a=a, scale=1/b)"
   ]
  },
  {
   "cell_type": "code",
   "execution_count": 24,
   "id": "81611755",
   "metadata": {},
   "outputs": [
    {
     "data": {
      "image/png": "[encoded data removed]",
      "text/plain": [
       "<Figure size 720x432 with 1 Axes>"
      ]
     },
     "metadata": {
      "needs_background": "light"
     },
     "output_type": "display_data"
    }
   ],
   "source": [
    "# Parameters of the prior gamma distribution.\n",
    "k = 5 # shape\n",
    "b = 5.5 # rate = 1/scale\n",
    "\n",
    "x = np.linspace(start=0, stop=8, num=100)\n",
    "\n",
    "plt.figure(figsize=(10, 6))\n",
    "plt.plot(x, ss.gamma.pdf(x,a=k,scale=1/b), 'k-')\n",
    "plt.title('Lamar Jackson Projection, Gamma Density Function, k={} and b={}'.format(k,b))\n",
    "\n",
    "plt.xlabel(\"Touchdowns Per Game\")\n",
    "plt.ylabel(\"Probability Mass\")\n",
    "plt.show()"
   ]
  },
  {
   "cell_type": "code",
   "execution_count": 25,
   "id": "b0e53807",
   "metadata": {},
   "outputs": [],
   "source": [
    "import scipy.special as sp\n",
    "\n",
    "# Define the likelihood function.\n",
    "def likelihood(lam,y):\n",
    "    \n",
    "    factorials = np.apply_along_axis(\n",
    "        lambda x: sp.gamma(x+1),\n",
    "        axis=0,\n",
    "        arr=y\n",
    "    )\n",
    "    \n",
    "    numerator = np.exp(-lam*y.size)*(lam**y.sum())\n",
    "    \n",
    "    denominator = np.multiply.reduce(factorials)\n",
    "    \n",
    "    return numerator/denominator"
   ]
  },
  {
   "cell_type": "code",
   "execution_count": 26,
   "id": "0aa0a330",
   "metadata": {
    "scrolled": true
   },
   "outputs": [
    {
     "name": "stdout",
     "output_type": "stream",
     "text": [
      "2.3076923076923075\n"
     ]
    },
    {
     "data": {
      "image/png": "[encoded data removed]",
      "text/plain": [
       "<Figure size 576x432 with 1 Axes>"
      ]
     },
     "metadata": {
      "needs_background": "light"
     },
     "output_type": "display_data"
    }
   ],
   "source": [
    "def posterior(lam,y):\n",
    "    \n",
    "    shape = k + y.sum()\n",
    "    rate = b + y.size\n",
    "    \n",
    "    return ss.gamma.pdf(lam, shape, scale=1/rate), shape, rate\n",
    "\n",
    "y = np.array([5, 2, 0, 3, 1, 0, 0, 1, 3, 4, 5, 1, 3, 5, 3, 1])\n",
    "\n",
    "week=3\n",
    "\n",
    "y_hat = y[:week-1]\n",
    "\n",
    "print(np.mean(y[week:]))\n",
    "\n",
    "y, shape, rate = posterior(x,y_hat)\n",
    "\n",
    "plt.figure(figsize=(8, 6))\n",
    "plt.plot(x, y)\n",
    "plt.plot(x, ss.gamma.pdf(x,a=k,scale=1/b), 'r-')\n",
    "plt.title('Prior and Posterior Distributions');"
   ]
  },
  {
   "cell_type": "code",
   "execution_count": 27,
   "id": "1c7222ee",
   "metadata": {},
   "outputs": [
    {
     "name": "stdout",
     "output_type": "stream",
     "text": [
      "fig size: 72.0 DPI, size in inches [6. 4.]\n"
     ]
    },
    {
     "data": {
      "image/png": "[encoded data removed]",
      "text/plain": [
       "<Figure size 432x288 with 1 Axes>"
      ]
     },
     "metadata": {
      "needs_background": "light"
     },
     "output_type": "display_data"
    }
   ],
   "source": [
    "from matplotlib.animation import FuncAnimation, HTMLWriter\n",
    "import sys\n",
    "\n",
    "fig, ax = plt.subplots()\n",
    "fig.set_tight_layout(True)\n",
    "\n",
    "# Query the figure's on-screen size and DPI. Note that when saving the figure to\n",
    "# a file, we need to provide a DPI for that separately.\n",
    "print('fig size: {0} DPI, size in inches {1}'.format(\n",
    "    fig.get_dpi(), fig.get_size_inches()))\n"
   ]
  },
  {
   "cell_type": "code",
   "execution_count": 28,
   "id": "8f2abdda",
   "metadata": {
    "scrolled": true
   },
   "outputs": [
    {
     "data": {
      "image/png": "[encoded data removed]",
      "text/plain": [
       "<Figure size 864x432 with 1 Axes>"
      ]
     },
     "metadata": {
      "needs_background": "light"
     },
     "output_type": "display_data"
    }
   ],
   "source": [
    "fig = plt.figure(figsize=(12,6))\n",
    "ax = plt.axes(xlim=(0, 6), ylim=(0, 2))\n",
    "\n",
    "prior, = ax.plot(x, ss.gamma.pdf(x,a=k,scale=1/b), lw=2, color='black')\n",
    "post, = ax.plot([], [], lw=2, color='purple')\n",
    "\n",
    "def init():\n",
    "    post.set_data([], [])\n",
    "    return post,\n",
    "\n",
    "def animate(i):\n",
    "    x = np.linspace(0, 6, 500)\n",
    "    week=i \n",
    "    samples = np.array([5, 2, 0, 3, 1, 0, 0, 1, 3, 4, 5, 1, 3, 5, 3])\n",
    "    y_hat = samples[:week]\n",
    "    y, shape, rate = posterior(x,y_hat)\n",
    "    post.set_data(x, y)\n",
    "    \n",
    "    print(\"week {}, shape: \", shape, \"rate: \", rate)\n",
    "    \n",
    "    plt.title(\"Lamar Jackson Posterior After {} games\".format(i))\n",
    "    \n",
    "    plt.xlabel(\"Touchdowns Per Game\")\n",
    "    plt.ylabel(\"Probability Mass\")\n",
    "    \n",
    "    return post,\n",
    "\n",
    "anim = FuncAnimation(fig, animate, init_func=init,\n",
    "                               frames=16, interval=250, blit=True)\n"
   ]
  },
  {
   "cell_type": "code",
   "execution_count": 29,
   "id": "17954d6d",
   "metadata": {},
   "outputs": [
    {
     "data": {
      "text/plain": [
       "<matplotlib.legend.Legend at 0x11ff6c040>"
      ]
     },
     "execution_count": 29,
     "metadata": {},
     "output_type": "execute_result"
    },
    {
     "data": {
      "image/png": "[encoded data removed]",
      "text/plain": [
       "<Figure size 864x432 with 1 Axes>"
      ]
     },
     "metadata": {
      "needs_background": "light"
     },
     "output_type": "display_data"
    }
   ],
   "source": [
    "fig = plt.figure(figsize=(12,6))\n",
    "ax = plt.axes(xlim=(0, 6), ylim=(0, 0.6))\n",
    "# average, and for poisson, also variance\n",
    "mu1 = 1.1\n",
    "mu2 = 2\n",
    "# get x values\n",
    "x = np.arange(0, 7)\n",
    "ax.set_title(\"Lamar Projections Before and After Season\")\n",
    "ax.set_xlabel(\"Passing Touchdown Count\")\n",
    "ax.set_ylabel(\"Probability\")\n",
    "ax.plot(x, ss.poisson.pmf(x, mu1), 'ko', ms=8, label='Lamar Preseason mu=1.1')\n",
    "ax.plot(x, ss.poisson.pmf(x, mu2), 'mo', ms=8, label='Lamar Postseason mu=2')\n",
    "ax.legend()"
   ]
  },
  {
   "cell_type": "code",
   "execution_count": null,
   "id": "89756759",
   "metadata": {},
   "outputs": [],
   "source": [
    "import scipy.stats as ss\n",
    "import numpy as np\n",
    "# k = shape parameter (found above)\n",
    "# b = rate parameter\n",
    "# 100 decimals between 0 and 8 to create a smooth line\n",
    "x = np.linspace(start=0, stop=8, num=100) \n",
    "# y = np.array([ ... season touchdown counts ])\n",
    "def posterior(x,y):\n",
    "    shape = k + y.sum()\n",
    "    rate = b + y.size\n",
    "    \n",
    "    return ss.gamma.pdf(x, shape, scale=1/rate), shape, rate"
   ]
  },
  {
   "cell_type": "code",
   "execution_count": 140,
   "id": "d055c78e",
   "metadata": {},
   "outputs": [
    {
     "data": {
      "text/plain": [
       "<matplotlib.collections.LineCollection at 0x1367fe070>"
      ]
     },
     "execution_count": 140,
     "metadata": {},
     "output_type": "execute_result"
    },
    {
     "data": {
      "image/png": "[encoded data removed]",
      "text/plain": [
       "<Figure size 576x432 with 1 Axes>"
      ]
     },
     "metadata": {
      "needs_background": "light"
     },
     "output_type": "display_data"
    }
   ],
   "source": [
    "# Random variable representing number of touchdowns\n",
    "# Mean number of occurences of touchdowns per game is 1.27 across all seasons all QBs \n",
    "#\n",
    "X = [0, 1, 2, 3, 4, 5]\n",
    "lmbda = 1.27\n",
    "#\n",
    "# Probability values\n",
    "#\n",
    "poisson_pd = poisson.pmf(X, lmbda)\n",
    "#\n",
    "# Plot the probability distribution\n",
    "#\n",
    "fig, ax = plt.subplots(1, 1, figsize=(8, 6))\n",
    "ax.plot(X, poisson_pd, 'bo', ms=8, label='poisson pmf')\n",
    "plt.ylabel(\"Probability\", fontsize=\"18\")\n",
    "plt.xlabel(\"X - No. of Touchdowns\", fontsize=\"18\")\n",
    "plt.title(\"Poisson Distribution - No. of Touchdowns Vs Probability\", fontsize=\"18\")\n",
    "ax.vlines(X, 0, poisson_pd, colors='b', lw=5, alpha=0.5)"
   ]
  },
  {
   "cell_type": "code",
   "execution_count": 142,
   "id": "745b170e",
   "metadata": {},
   "outputs": [
    {
     "name": "stdout",
     "output_type": "stream",
     "text": [
      "    season      player  pass_td  game_id     td_pg\n",
      "5     2021  Josh Allen       45       19  2.368421\n",
      "7     2020  Josh Allen       42       19  2.210526\n",
      "20    2022  Josh Allen       32       15  2.133333\n"
     ]
    }
   ],
   "source": [
    "#get where position is qb only Josh Allen\n",
    "td_pg_josh_allen = td_pg[(td_pg.player == \"Josh Allen\")]\n",
    "print(td_pg_josh_allen)"
   ]
  },
  {
   "cell_type": "code",
   "execution_count": 145,
   "id": "a2e9c2db",
   "metadata": {},
   "outputs": [
    {
     "data": {
      "text/plain": [
       "<matplotlib.legend.Legend at 0x138a506d0>"
      ]
     },
     "execution_count": 145,
     "metadata": {},
     "output_type": "execute_result"
    },
    {
     "data": {
      "image/png": "[encoded data removed]",
      "text/plain": [
       "<Figure size 864x432 with 1 Axes>"
      ]
     },
     "metadata": {
      "needs_background": "light"
     },
     "output_type": "display_data"
    }
   ],
   "source": [
    "fig = plt.figure(figsize=(12,6))\n",
    "ax = plt.axes(xlim=(0, 6), ylim=(0, 0.6))\n",
    "# average, and for poisson, also variance\n",
    "mu1 = 2.2\n",
    "mu2 = 2.36\n",
    "mu3=2.13\n",
    "# get x values\n",
    "x = np.arange(0, 7)\n",
    "ax.set_title(\"Josh Allen Projections 2020-2022 Seasons\")\n",
    "ax.set_xlabel(\"Passing Touchdown Count\")\n",
    "ax.set_ylabel(\"Probability\")\n",
    "ax.plot(x, ss.poisson.pmf(x, mu1), 'ko', ms=8, label='Josh Allen 2020 mu=2.2')\n",
    "ax.plot(x, ss.poisson.pmf(x, mu2), 'mo', ms=8, label='Josh Allen 2021 mu=2.36')\n",
    "ax.plot(x, ss.poisson.pmf(x, mu3), 'bo', ms=8, label='Josh Allen 2022 mu=2.13')\n",
    "ax.legend()"
   ]
  },
  {
   "cell_type": "code",
   "execution_count": 146,
   "id": "91327d7d",
   "metadata": {},
   "outputs": [
    {
     "data": {
      "text/plain": [
       "<matplotlib.collections.LineCollection at 0x136b0cee0>"
      ]
     },
     "execution_count": 146,
     "metadata": {},
     "output_type": "execute_result"
    },
    {
     "data": {
      "image/png": "[encoded data removed]",
      "text/plain": [
       "<Figure size 576x432 with 1 Axes>"
      ]
     },
     "metadata": {
      "needs_background": "light"
     },
     "output_type": "display_data"
    }
   ],
   "source": [
    "# Random variable representing number of touchdowns\n",
    "# Mean number of occurences of touchdowns per game is 1.27 across all seasons all QBs \n",
    "#\n",
    "X = [0, 1, 2, 3, 4, 5]\n",
    "lmbda = 2.13\n",
    "#\n",
    "# Probability values\n",
    "#\n",
    "poisson_pd = poisson.pmf(X, lmbda)\n",
    "#\n",
    "# Plot the probability distribution\n",
    "#\n",
    "fig, ax = plt.subplots(1, 1, figsize=(8, 6))\n",
    "ax.plot(X, poisson_pd, 'bo', ms=8, label='poisson pmf')\n",
    "plt.ylabel(\"Probability\", fontsize=\"18\")\n",
    "plt.xlabel(\"X - No. of Touchdowns\", fontsize=\"18\")\n",
    "plt.title(\"Poisson Distribution - Josh Allen No. of Touchdowns Vs Probability\", fontsize=\"18\")\n",
    "ax.vlines(X, 0, poisson_pd, colors='b', lw=5, alpha=0.5)"
   ]
  },
  {
   "cell_type": "code",
   "execution_count": 148,
   "id": "da6ce619",
   "metadata": {},
   "outputs": [
    {
     "data": {
      "image/png": "[encoded data removed]",
      "text/plain": [
       "<Figure size 720x432 with 1 Axes>"
      ]
     },
     "metadata": {
      "needs_background": "light"
     },
     "output_type": "display_data"
    }
   ],
   "source": [
    "# theta = mu/0.22\n",
    "# k = mu * theta\n",
    "# Parameters of the prior gamma distribution.\n",
    "k = 2.13/.22\n",
    "b = 5.5 # rate = 1/scale\n",
    "\n",
    "x = np.linspace(start=0, stop=8, num=100)\n",
    "\n",
    "plt.figure(figsize=(10, 6))\n",
    "plt.plot(x, ss.gamma.pdf(x,a=k,scale=1/b), 'k-')\n",
    "plt.title('Josh Allen Projection, Gamma Density Function, k={} and b={}'.format(k,b))\n",
    "\n",
    "plt.xlabel(\"Touchdowns Per Game\")\n",
    "plt.ylabel(\"Probability Mass\")\n",
    "plt.show()"
   ]
  },
  {
   "cell_type": "code",
   "execution_count": 152,
   "id": "56e113ea",
   "metadata": {},
   "outputs": [
    {
     "name": "stdout",
     "output_type": "stream",
     "text": [
      "    season           player  pass_td  game_id     td_pg\n",
      "40    2022  Trevor Lawrence       24       15  1.600000\n",
      "78    2021  Trevor Lawrence       12       17  0.705882\n"
     ]
    }
   ],
   "source": [
    "#get where position is qb only Josh Allen\n",
    "td_pg_trevor_lawrence = td_pg[(td_pg.player == \"Trevor Lawrence\")]\n",
    "print(td_pg_trevor_lawrence)"
   ]
  },
  {
   "cell_type": "code",
   "execution_count": 154,
   "id": "d37a236e",
   "metadata": {},
   "outputs": [
    {
     "data": {
      "text/plain": [
       "<matplotlib.legend.Legend at 0x13931ef70>"
      ]
     },
     "execution_count": 154,
     "metadata": {},
     "output_type": "execute_result"
    },
    {
     "data": {
      "image/png": "[encoded data removed]",
      "text/plain": [
       "<Figure size 864x432 with 1 Axes>"
      ]
     },
     "metadata": {
      "needs_background": "light"
     },
     "output_type": "display_data"
    }
   ],
   "source": [
    "fig = plt.figure(figsize=(12,6))\n",
    "ax = plt.axes(xlim=(0, 6), ylim=(0, 0.6))\n",
    "# average, and for poisson, also variance\n",
    "mu1 = .7\n",
    "mu2 = 1.6\n",
    "\n",
    "# get x values\n",
    "x = np.arange(0, 7)\n",
    "ax.set_title(\"TL Projections 2020-2022 Seasons\")\n",
    "ax.set_xlabel(\"Passing Touchdown Count\")\n",
    "ax.set_ylabel(\"Probability\")\n",
    "ax.plot(x, ss.poisson.pmf(x, mu1), 'ko', ms=8, label='TL 2020 mu=.7')\n",
    "ax.plot(x, ss.poisson.pmf(x, mu2), 'mo', ms=8, label='TL 2021 mu=1.6')\n",
    "ax.legend()"
   ]
  },
  {
   "cell_type": "code",
   "execution_count": 155,
   "id": "e7356881",
   "metadata": {},
   "outputs": [
    {
     "name": "stdout",
     "output_type": "stream",
     "text": [
      "    season     player  pass_td  game_id     td_pg\n",
      "39    2021  Mac Jones       24       18  1.333333\n",
      "92    2022  Mac Jones        9       12  0.750000\n"
     ]
    }
   ],
   "source": [
    "#get where position is qb only mac jones \n",
    "td_pg_mac_jones = td_pg[(td_pg.player == \"Mac Jones\")]\n",
    "print(td_pg_mac_jones)"
   ]
  },
  {
   "cell_type": "code",
   "execution_count": 156,
   "id": "9e613808",
   "metadata": {},
   "outputs": [
    {
     "data": {
      "text/plain": [
       "<matplotlib.legend.Legend at 0x13935a310>"
      ]
     },
     "execution_count": 156,
     "metadata": {},
     "output_type": "execute_result"
    },
    {
     "data": {
      "image/png": "[encoded data removed]",
      "text/plain": [
       "<Figure size 864x432 with 1 Axes>"
      ]
     },
     "metadata": {
      "needs_background": "light"
     },
     "output_type": "display_data"
    }
   ],
   "source": [
    "fig = plt.figure(figsize=(12,6))\n",
    "ax = plt.axes(xlim=(0, 6), ylim=(0, 0.6))\n",
    "# average, and for poisson, also variance\n",
    "mu1 = 1.3\n",
    "mu2 = .75\n",
    "\n",
    "# get x values\n",
    "x = np.arange(0, 7)\n",
    "ax.set_title(\"TL Projections 2020-2022 Seasons\")\n",
    "ax.set_xlabel(\"Passing Touchdown Count\")\n",
    "ax.set_ylabel(\"Probability\")\n",
    "ax.plot(x, ss.poisson.pmf(x, mu1), 'ko', ms=8, label='MJ 2020 mu=1.3')\n",
    "ax.plot(x, ss.poisson.pmf(x, mu2), 'mo', ms=8, label='MJ 2021 mu=.75')\n",
    "ax.legend()"
   ]
  },
  {
   "cell_type": "code",
   "execution_count": 157,
   "id": "c4d234e0",
   "metadata": {},
   "outputs": [
    {
     "name": "stdout",
     "output_type": "stream",
     "text": [
      "    season      player  pass_td  game_id     td_pg\n",
      "17    2022  Joe Burrow       34       15  2.266667\n",
      "9     2021  Joe Burrow       39       20  1.950000\n",
      "77    2020  Joe Burrow       13       10  1.300000\n"
     ]
    }
   ],
   "source": [
    "#get where position is qb only Joe Burrow\n",
    "td_pg_joe_burrow = td_pg[(td_pg.player == \"Joe Burrow\")]\n",
    "print(td_pg_joe_burrow)"
   ]
  },
  {
   "cell_type": "code",
   "execution_count": 32,
   "id": "18811eb9",
   "metadata": {},
   "outputs": [
    {
     "name": "stdout",
     "output_type": "stream",
     "text": [
      "Joe Burrow has a 65.0% chance of throwing for 2 or more touchdowns\n"
     ]
    },
    {
     "data": {
      "image/png": "[encoded data removed]",
      "text/plain": [
       "<Figure size 864x432 with 1 Axes>"
      ]
     },
     "metadata": {
      "needs_background": "light"
     },
     "output_type": "display_data"
    }
   ],
   "source": [
    "fig = plt.figure(figsize=(12,6))\n",
    "ax = plt.axes(xlim=(0, 6), ylim=(0, 0.6))\n",
    "# average, and for poisson, also variance\n",
    "mu1 = 1.95\n",
    "mu2 = 2.27\n",
    "\n",
    "# get x values\n",
    "x = np.arange(0, 7)\n",
    "ax.set_title(\"JB Projections 2020-2022 Seasons\")\n",
    "ax.set_xlabel(\"Passing Touchdown Count\")\n",
    "ax.set_ylabel(\"Probability\")\n",
    "ax.plot(x, ss.poisson.pmf(x, mu1), 'ko', ms=8, label='JB 2020 mu=1.95')\n",
    "ax.plot(x, ss.poisson.pmf(x, mu2), 'mo', ms=8, label='JB 2021 mu=2.27')\n",
    "ax.legend()\n",
    "\n",
    "prob_array = ss.poisson.pmf(x, mu2)\n",
    "jg_prob = np.round(prob_array[2:].sum(),2) * 100\n",
    "\n",
    "ss.poisson.pmf(x, mu2)\n",
    "print(\"Joe Burrow has a {}% chance of throwing for 2 or more touchdowns\".format(jg_prob))"
   ]
  },
  {
   "cell_type": "code",
   "execution_count": 193,
   "id": "26a812d1",
   "metadata": {},
   "outputs": [
    {
     "name": "stdout",
     "output_type": "stream",
     "text": [
      "    season        player  pass_td  game_id   td_pg\n",
      "15    2020  Kirk Cousins       35       16  2.1875\n",
      "19    2021  Kirk Cousins       33       16  2.0625\n",
      "23    2022  Kirk Cousins       27       15  1.8000\n"
     ]
    }
   ],
   "source": [
    "#get where position is qb only Kirk Cousins\n",
    "td_pg_kirk_cousins = td_pg[(td_pg.player == \"Kirk Cousins\")]\n",
    "print(td_pg_kirk_cousins)"
   ]
  },
  {
   "cell_type": "code",
   "execution_count": 210,
   "id": "adc81e50",
   "metadata": {},
   "outputs": [
    {
     "name": "stdout",
     "output_type": "stream",
     "text": [
      "Kirk Cousins has a 53.0% chance of throwing for 2 or more touchdowns\n",
      "Kirk Cousins has a 27.0% chance of throwing for 3 or more touchdowns\n"
     ]
    },
    {
     "data": {
      "image/png": "[encoded data removed]",
      "text/plain": [
       "<Figure size 864x432 with 1 Axes>"
      ]
     },
     "metadata": {
      "needs_background": "light"
     },
     "output_type": "display_data"
    }
   ],
   "source": [
    "fig = plt.figure(figsize=(12,6))\n",
    "ax = plt.axes(xlim=(0, 6), ylim=(0, 0.6))\n",
    "# average, and for poisson, also variance\n",
    "mu1_kc = 2.06\n",
    "mu2_kc = 1.8\n",
    "\n",
    "# get x values\n",
    "x = np.arange(0, 7)\n",
    "ax.set_title(\"KC Projections 2020-2022 Seasons\")\n",
    "ax.set_xlabel(\"Passing Touchdown Count\")\n",
    "ax.set_ylabel(\"Probability\")\n",
    "ax.plot(x, ss.poisson.pmf(x, mu1_kc), 'ko', ms=8, label='KC 2020 mu=2.06')\n",
    "ax.plot(x, ss.poisson.pmf(x, mu2_kc), 'mo', ms=8, label='KC 2021 mu=1.8')\n",
    "ax.legend()\n",
    "\n",
    "prob_array = ss.poisson.pmf(x, mu2_kc)\n",
    "jg_prob = np.round(prob_array[2:].sum(),2) * 100\n",
    "\n",
    "ss.poisson.pmf(x, mu2_kc)\n",
    "print(\"Kirk Cousins has a {}% chance of throwing for 2 or more touchdowns\".format(jg_prob))\n",
    "\n",
    "prob_array = ss.poisson.pmf(x, mu2_kc)\n",
    "jg_prob = np.round(prob_array[3:].sum(),2) * 100\n",
    "\n",
    "ss.poisson.pmf(x, mu2_kc)\n",
    "print(\"Kirk Cousins has a {}% chance of throwing for 3 or more touchdowns\".format(jg_prob))"
   ]
  },
  {
   "cell_type": "code",
   "execution_count": 162,
   "id": "53eaf39d",
   "metadata": {},
   "outputs": [
    {
     "name": "stdout",
     "output_type": "stream",
     "text": [
      "     season         player  pass_td  game_id     td_pg\n",
      "108    2022  Kenny Pickett        5       11  0.454545\n"
     ]
    }
   ],
   "source": [
    "#get where position is qb only Kenny Pickett\n",
    "td_pg_kenny_pickett = td_pg[(td_pg.player == \"Kenny Pickett\")]\n",
    "print(td_pg_kenny_pickett)"
   ]
  },
  {
   "cell_type": "code",
   "execution_count": 163,
   "id": "c88a11dc",
   "metadata": {},
   "outputs": [
    {
     "data": {
      "text/plain": [
       "<matplotlib.legend.Legend at 0x1396cca60>"
      ]
     },
     "execution_count": 163,
     "metadata": {},
     "output_type": "execute_result"
    },
    {
     "data": {
      "image/png": "[encoded data removed]",
      "text/plain": [
       "<Figure size 864x432 with 1 Axes>"
      ]
     },
     "metadata": {
      "needs_background": "light"
     },
     "output_type": "display_data"
    }
   ],
   "source": [
    "fig = plt.figure(figsize=(12,6))\n",
    "ax = plt.axes(xlim=(0, 6), ylim=(0, 0.6))\n",
    "# average, and for poisson, also variance\n",
    "mu1 = .45\n",
    "mu2 = .45\n",
    "\n",
    "# get x values\n",
    "x = np.arange(0, 7)\n",
    "ax.set_title(\"KP Projections 2020-2022 Seasons\")\n",
    "ax.set_xlabel(\"Passing Touchdown Count\")\n",
    "ax.set_ylabel(\"Probability\")\n",
    "ax.plot(x, ss.poisson.pmf(x, mu1), 'ko', ms=8, label='KP 2020 mu=.45')\n",
    "ax.plot(x, ss.poisson.pmf(x, mu2), 'mo', ms=8, label='KP 2021 mu=.45')\n",
    "ax.legend()"
   ]
  },
  {
   "cell_type": "code",
   "execution_count": 164,
   "id": "c062695a",
   "metadata": {},
   "outputs": [
    {
     "name": "stdout",
     "output_type": "stream",
     "text": [
      "    season       player  pass_td  game_id     td_pg\n",
      "57    2022  Andy Dalton       17       12  1.416667\n",
      "73    2020  Andy Dalton       14       11  1.272727\n",
      "97    2021  Andy Dalton        8        8  1.000000\n"
     ]
    }
   ],
   "source": [
    "#get where position is qb only Andy Dalton\n",
    "td_pg_andy_dalton = td_pg[(td_pg.player == \"Andy Dalton\")]\n",
    "print(td_pg_andy_dalton)"
   ]
  },
  {
   "cell_type": "code",
   "execution_count": 165,
   "id": "d2ae9b34",
   "metadata": {},
   "outputs": [
    {
     "data": {
      "text/plain": [
       "<matplotlib.legend.Legend at 0x139847190>"
      ]
     },
     "execution_count": 165,
     "metadata": {},
     "output_type": "execute_result"
    },
    {
     "data": {
      "image/png": "[encoded data removed]",
      "text/plain": [
       "<Figure size 864x432 with 1 Axes>"
      ]
     },
     "metadata": {
      "needs_background": "light"
     },
     "output_type": "display_data"
    }
   ],
   "source": [
    "fig = plt.figure(figsize=(12,6))\n",
    "ax = plt.axes(xlim=(0, 6), ylim=(0, 0.6))\n",
    "# average, and for poisson, also variance\n",
    "mu1 = 1\n",
    "mu2 = 1.42\n",
    "\n",
    "# get x values\n",
    "x = np.arange(0, 7)\n",
    "ax.set_title(\"AD Projections 2020-2022 Seasons\")\n",
    "ax.set_xlabel(\"Passing Touchdown Count\")\n",
    "ax.set_ylabel(\"Probability\")\n",
    "ax.plot(x, ss.poisson.pmf(x, mu1), 'ko', ms=8, label='AD 2020 mu=.45')\n",
    "ax.plot(x, ss.poisson.pmf(x, mu2), 'mo', ms=8, label='AD 2021 mu=.45')\n",
    "ax.legend()"
   ]
  },
  {
   "cell_type": "code",
   "execution_count": 166,
   "id": "13ba1e63",
   "metadata": {},
   "outputs": [
    {
     "name": "stdout",
     "output_type": "stream",
     "text": [
      "    season       player  pass_td  game_id     td_pg\n",
      "66    2021  Davis Mills       16       13  1.230769\n",
      "71    2022  Davis Mills       14       13  1.076923\n"
     ]
    }
   ],
   "source": [
    "#get where position is qb only Davis Mills\n",
    "td_pg_davis_mills = td_pg[(td_pg.player == \"Davis Mills\")]\n",
    "print(td_pg_davis_mills)"
   ]
  },
  {
   "cell_type": "code",
   "execution_count": 167,
   "id": "b2e2a296",
   "metadata": {},
   "outputs": [
    {
     "data": {
      "text/plain": [
       "<matplotlib.legend.Legend at 0x13983a6a0>"
      ]
     },
     "execution_count": 167,
     "metadata": {},
     "output_type": "execute_result"
    },
    {
     "data": {
      "image/png": "[encoded data removed]",
      "text/plain": [
       "<Figure size 864x432 with 1 Axes>"
      ]
     },
     "metadata": {
      "needs_background": "light"
     },
     "output_type": "display_data"
    }
   ],
   "source": [
    "fig = plt.figure(figsize=(12,6))\n",
    "ax = plt.axes(xlim=(0, 6), ylim=(0, 0.6))\n",
    "# average, and for poisson, also variance\n",
    "mu1 = 1.23\n",
    "mu2 = 1.08\n",
    "\n",
    "# get x values\n",
    "x = np.arange(0, 7)\n",
    "ax.set_title(\"DM Projections 2020-2022 Seasons\")\n",
    "ax.set_xlabel(\"Passing Touchdown Count\")\n",
    "ax.set_ylabel(\"Probability\")\n",
    "ax.plot(x, ss.poisson.pmf(x, mu1), 'ko', ms=8, label='DM 2020 mu=.45')\n",
    "ax.plot(x, ss.poisson.pmf(x, mu2), 'mo', ms=8, label='DM 2021 mu=.45')\n",
    "ax.legend()"
   ]
  },
  {
   "cell_type": "code",
   "execution_count": 198,
   "id": "48d51204",
   "metadata": {},
   "outputs": [
    {
     "name": "stdout",
     "output_type": "stream",
     "text": [
      "    season          player  pass_td  game_id   td_pg\n",
      "18    2020  Deshaun Watson       33       16  2.0625\n"
     ]
    }
   ],
   "source": [
    "#get where position is qb only Deshaun Watson\n",
    "td_pg_dw = td_pg[(td_pg.player == \"Deshaun Watson\")]\n",
    "print(td_pg_dw)"
   ]
  },
  {
   "cell_type": "code",
   "execution_count": 201,
   "id": "301d35bf",
   "metadata": {},
   "outputs": [
    {
     "data": {
      "text/plain": [
       "<matplotlib.legend.Legend at 0x13b8e1a30>"
      ]
     },
     "execution_count": 201,
     "metadata": {},
     "output_type": "execute_result"
    },
    {
     "data": {
      "image/png": "[encoded data removed]",
      "text/plain": [
       "<Figure size 864x432 with 1 Axes>"
      ]
     },
     "metadata": {
      "needs_background": "light"
     },
     "output_type": "display_data"
    }
   ],
   "source": [
    "fig = plt.figure(figsize=(12,6))\n",
    "ax = plt.axes(xlim=(0, 6), ylim=(0, 0.6))\n",
    "# average, and for poisson, also variance\n",
    "mu1 = 2.06\n",
    "mu2_dw = 2.06\n",
    "\n",
    "# get x values\n",
    "x = np.arange(0, 7)\n",
    "ax.set_title(\"DW Projections 2020-2022 Seasons\")\n",
    "ax.set_xlabel(\"Passing Touchdown Count\")\n",
    "ax.set_ylabel(\"Probability\")\n",
    "ax.plot(x, ss.poisson.pmf(x, mu1), 'ko', ms=8, label='DW 2020 mu=2.06')\n",
    "ax.plot(x, ss.poisson.pmf(x, mu2_dw), 'mo', ms=8, label='DW 2021 mu=2.06')\n",
    "ax.legend()\n",
    "\n",
    "#ss.poisson.pmf(x, mu2_dw)\n",
    "#print(\"Dashuan Watson has a {}% chance of throwing for 2 or more touchdowns\".format(jg_prob))"
   ]
  },
  {
   "cell_type": "code",
   "execution_count": 170,
   "id": "0e9b306f",
   "metadata": {},
   "outputs": [
    {
     "name": "stdout",
     "output_type": "stream",
     "text": [
      "    season          player  pass_td  game_id     td_pg\n",
      "22    2020  Baker Mayfield       30       18  1.666667\n",
      "54    2021  Baker Mayfield       17       14  1.214286\n",
      "87    2022  Baker Mayfield       10       10  1.000000\n"
     ]
    }
   ],
   "source": [
    "#get where position is qb only Baker Mayfield\n",
    "td_pg_bm = td_pg[(td_pg.player == \"Baker Mayfield\")]\n",
    "print(td_pg_bm)"
   ]
  },
  {
   "cell_type": "code",
   "execution_count": 174,
   "id": "227751ac",
   "metadata": {},
   "outputs": [
    {
     "data": {
      "text/plain": [
       "<matplotlib.legend.Legend at 0x139ffbf70>"
      ]
     },
     "execution_count": 174,
     "metadata": {},
     "output_type": "execute_result"
    },
    {
     "data": {
      "image/png": "[encoded data removed]",
      "text/plain": [
       "<Figure size 864x432 with 1 Axes>"
      ]
     },
     "metadata": {
      "needs_background": "light"
     },
     "output_type": "display_data"
    }
   ],
   "source": [
    "fig = plt.figure(figsize=(12,6))\n",
    "ax = plt.axes(xlim=(0, 6), ylim=(0, 0.6))\n",
    "# average, and for poisson, also variance\n",
    "mu1 = 1.21\n",
    "mu2 =1\n",
    "\n",
    "# get x values\n",
    "x = np.arange(0, 7)\n",
    "ax.set_title(\"BM Projections 2020-2022 Seasons\")\n",
    "ax.set_xlabel(\"Passing Touchdown Count\")\n",
    "ax.set_ylabel(\"Probability\")\n",
    "ax.plot(x, ss.poisson.pmf(x, mu1), 'ko', ms=8, label='BM 2020 mu=1.2')\n",
    "ax.plot(x, ss.poisson.pmf(x, mu2), 'mo', ms=8, label='BM 2021 mu=1')\n",
    "ax.legend()"
   ]
  },
  {
   "cell_type": "code",
   "execution_count": 173,
   "id": "5d610782",
   "metadata": {},
   "outputs": [
    {
     "name": "stdout",
     "output_type": "stream",
     "text": [
      "    season      player  pass_td  game_id  td_pg\n",
      "25    2022  Geno Smith       27       15    1.8\n"
     ]
    }
   ],
   "source": [
    "#get where position is qb only Geno Smith \n",
    "td_pg_gs = td_pg[(td_pg.player == \"Geno Smith\")]\n",
    "print(td_pg_gs)"
   ]
  },
  {
   "cell_type": "code",
   "execution_count": 176,
   "id": "445b10bb",
   "metadata": {},
   "outputs": [
    {
     "data": {
      "text/plain": [
       "<matplotlib.legend.Legend at 0x13a324880>"
      ]
     },
     "execution_count": 176,
     "metadata": {},
     "output_type": "execute_result"
    },
    {
     "data": {
      "image/png": "[encoded data removed]",
      "text/plain": [
       "<Figure size 864x432 with 1 Axes>"
      ]
     },
     "metadata": {
      "needs_background": "light"
     },
     "output_type": "display_data"
    }
   ],
   "source": [
    "fig = plt.figure(figsize=(12,6))\n",
    "ax = plt.axes(xlim=(0, 6), ylim=(0, 0.6))\n",
    "# average, and for poisson, also variance\n",
    "mu1 = 1.8\n",
    "mu2 =1.8\n",
    "\n",
    "# get x values\n",
    "x = np.arange(0, 7)\n",
    "ax.set_title(\"GS Projections 2020-2022 Seasons\")\n",
    "ax.set_xlabel(\"Passing Touchdown Count\")\n",
    "ax.set_ylabel(\"Probability\")\n",
    "ax.plot(x, ss.poisson.pmf(x, mu1), 'ko', ms=8, label='GS 2020 mu=1.8')\n",
    "ax.plot(x, ss.poisson.pmf(x, mu2), 'mo', ms=8, label='GS 2021 mu=1.8')\n",
    "ax.legend()"
   ]
  },
  {
   "cell_type": "code",
   "execution_count": 189,
   "id": "0a549c25",
   "metadata": {},
   "outputs": [
    {
     "name": "stdout",
     "output_type": "stream",
     "text": [
      "Geno Smith has a 51.0% chance of throwing for 2 or more touchdowns\n"
     ]
    }
   ],
   "source": [
    "ss.poisson.pmf(x, 1.8)\n",
    "print(\"Geno Smith has a {}% chance of throwing for 2 or more touchdowns\".format(jg_prob))"
   ]
  },
  {
   "cell_type": "code",
   "execution_count": 177,
   "id": "e143b954",
   "metadata": {},
   "outputs": [
    {
     "name": "stdout",
     "output_type": "stream",
     "text": [
      "    season          player  pass_td  game_id     td_pg\n",
      "8     2020  Russell Wilson       42       17  2.470588\n",
      "35    2021  Russell Wilson       25       14  1.785714\n",
      "79    2022  Russell Wilson       12       13  0.923077\n"
     ]
    }
   ],
   "source": [
    "#get where position is qb only Russell Wilson\n",
    "td_pg_rw = td_pg[(td_pg.player == \"Russell Wilson\")]\n",
    "print(td_pg_rw)"
   ]
  },
  {
   "cell_type": "code",
   "execution_count": 178,
   "id": "7ada62f3",
   "metadata": {},
   "outputs": [
    {
     "data": {
      "text/plain": [
       "<matplotlib.legend.Legend at 0x13a4bda30>"
      ]
     },
     "execution_count": 178,
     "metadata": {},
     "output_type": "execute_result"
    },
    {
     "data": {
      "image/png": "[encoded data removed]",
      "text/plain": [
       "<Figure size 864x432 with 1 Axes>"
      ]
     },
     "metadata": {
      "needs_background": "light"
     },
     "output_type": "display_data"
    }
   ],
   "source": [
    "fig = plt.figure(figsize=(12,6))\n",
    "ax = plt.axes(xlim=(0, 6), ylim=(0, 0.6))\n",
    "# average, and for poisson, also variance\n",
    "mu1 = 1.79\n",
    "mu2 =.92\n",
    "\n",
    "# get x values\n",
    "x = np.arange(0, 7)\n",
    "ax.set_title(\"RW Projections 2020-2022 Seasons\")\n",
    "ax.set_xlabel(\"Passing Touchdown Count\")\n",
    "ax.set_ylabel(\"Probability\")\n",
    "ax.plot(x, ss.poisson.pmf(x, mu1), 'ko', ms=8, label='RW 2020 mu=1.79')\n",
    "ax.plot(x, ss.poisson.pmf(x, mu2), 'mo', ms=8, label='RW 2021 mu=.92')\n",
    "ax.legend()"
   ]
  },
  {
   "cell_type": "code",
   "execution_count": 181,
   "id": "61946f83",
   "metadata": {},
   "outputs": [
    {
     "name": "stdout",
     "output_type": "stream",
     "text": [
      "    season         player  pass_td  game_id     td_pg\n",
      "0     2020  Aaron Rodgers       53       18  2.944444\n",
      "13    2021  Aaron Rodgers       37       17  2.176471\n",
      "37    2022  Aaron Rodgers       24       15  1.600000\n"
     ]
    }
   ],
   "source": [
    "#get where position is qb only Aaron Rogers\n",
    "td_pg_ar = td_pg[(td_pg.player == \"Aaron Rodgers\")]\n",
    "print(td_pg_ar)"
   ]
  },
  {
   "cell_type": "code",
   "execution_count": 184,
   "id": "6eb92189",
   "metadata": {},
   "outputs": [
    {
     "name": "stdout",
     "output_type": "stream",
     "text": [
      "Aaron Rodgers has a 47.0% chance of throwing for 2 or more touchdowns\n"
     ]
    },
    {
     "data": {
      "image/png": "[encoded data removed]",
      "text/plain": [
       "<Figure size 864x432 with 1 Axes>"
      ]
     },
     "metadata": {
      "needs_background": "light"
     },
     "output_type": "display_data"
    }
   ],
   "source": [
    "fig = plt.figure(figsize=(12,6))\n",
    "ax = plt.axes(xlim=(0, 6), ylim=(0, 0.6))\n",
    "# average, and for poisson, also variance\n",
    "mu1 = 2.17\n",
    "mu2 =1.6\n",
    "\n",
    "# get x values\n",
    "x = np.arange(0, 7)\n",
    "ax.set_title(\"RW Projections 2020-2022 Seasons\")\n",
    "ax.set_xlabel(\"Passing Touchdown Count\")\n",
    "ax.set_ylabel(\"Probability\")\n",
    "ax.plot(x, ss.poisson.pmf(x, mu1), 'ko', ms=8, label='AR 2020 mu=2.17')\n",
    "ax.plot(x, ss.poisson.pmf(x, mu2), 'mo', ms=8, label='AR 2021 mu=1.6')\n",
    "ax.legend()\n",
    "\n",
    "prob_array = ss.poisson.pmf(x, mu2)\n",
    "jg_prob = np.round(prob_array[2:].sum(),2) * 100\n",
    "\n",
    "ss.poisson.pmf(x, mu2)\n",
    "print(\"Aaron Rodgers has a {}% chance of throwing for 2 or more touchdowns\".format(jg_prob))"
   ]
  },
  {
   "cell_type": "code",
   "execution_count": 185,
   "id": "fc8e50da",
   "metadata": {},
   "outputs": [
    {
     "name": "stdout",
     "output_type": "stream",
     "text": [
      "    season      player  pass_td  game_id     td_pg\n",
      "33    2022  Jared Goff       26       15  1.733333\n",
      "52    2021  Jared Goff       19       14  1.357143\n",
      "43    2020  Jared Goff       22       17  1.294118\n"
     ]
    }
   ],
   "source": [
    "#get where position is qb only Jared Goff\n",
    "td_pg_jg = td_pg[(td_pg.player == \"Jared Goff\")]\n",
    "print(td_pg_jg)"
   ]
  },
  {
   "cell_type": "code",
   "execution_count": 187,
   "id": "2e702e71",
   "metadata": {},
   "outputs": [
    {
     "name": "stdout",
     "output_type": "stream",
     "text": [
      "Jared Goff has a 51.0% chance of throwing for 2 or more touchdowns\n"
     ]
    },
    {
     "data": {
      "image/png": "[encoded data removed]",
      "text/plain": [
       "<Figure size 864x432 with 1 Axes>"
      ]
     },
     "metadata": {
      "needs_background": "light"
     },
     "output_type": "display_data"
    }
   ],
   "source": [
    "fig = plt.figure(figsize=(12,6))\n",
    "ax = plt.axes(xlim=(0, 6), ylim=(0, 0.6))\n",
    "# average, and for poisson, also variance\n",
    "mu1 = 1.35\n",
    "mu2 =1.73\n",
    "\n",
    "# get x values\n",
    "x = np.arange(0, 7)\n",
    "ax.set_title(\"JG Projections 2020-2022 Seasons\")\n",
    "ax.set_xlabel(\"Passing Touchdown Count\")\n",
    "ax.set_ylabel(\"Probability\")\n",
    "ax.plot(x, ss.poisson.pmf(x, mu1), 'ko', ms=8, label='JG 2020 mu=1.35')\n",
    "ax.plot(x, ss.poisson.pmf(x, mu2), 'mo', ms=8, label='JG 2021 mu=1.73')\n",
    "ax.legend()\n",
    "\n",
    "prob_array = ss.poisson.pmf(x, mu2)\n",
    "jg_prob = np.round(prob_array[2:].sum(),2) * 100\n",
    "\n",
    "ss.poisson.pmf(x, mu2)\n",
    "print(\"Jared Goff has a {}% chance of throwing for 2 or more touchdowns\".format(jg_prob))"
   ]
  },
  {
   "cell_type": "code",
   "execution_count": 190,
   "id": "756f2ce7",
   "metadata": {},
   "outputs": [
    {
     "name": "stdout",
     "output_type": "stream",
     "text": [
      "    season        player  pass_td  game_id     td_pg\n",
      "89    2021  Daniel Jones       10       11  0.909091\n",
      "75    2022  Daniel Jones       13       15  0.866667\n",
      "85    2020  Daniel Jones       11       14  0.785714\n"
     ]
    }
   ],
   "source": [
    "#get where position is qb only Daniel Jones\n",
    "td_pg_dj = td_pg[(td_pg.player == \"Daniel Jones\")]\n",
    "print(td_pg_dj)"
   ]
  },
  {
   "cell_type": "code",
   "execution_count": 191,
   "id": "1d5ee675",
   "metadata": {},
   "outputs": [
    {
     "name": "stdout",
     "output_type": "stream",
     "text": [
      "Daniel Jones has a 21.0% chance of throwing for 2 or more touchdowns\n"
     ]
    },
    {
     "data": {
      "image/png": "[encoded data removed]",
      "text/plain": [
       "<Figure size 864x432 with 1 Axes>"
      ]
     },
     "metadata": {
      "needs_background": "light"
     },
     "output_type": "display_data"
    }
   ],
   "source": [
    "fig = plt.figure(figsize=(12,6))\n",
    "ax = plt.axes(xlim=(0, 6), ylim=(0, 0.6))\n",
    "# average, and for poisson, also variance\n",
    "mu1 = .91\n",
    "mu2 =.86\n",
    "\n",
    "# get x values\n",
    "x = np.arange(0, 7)\n",
    "ax.set_title(\"JG Projections 2020-2022 Seasons\")\n",
    "ax.set_xlabel(\"Passing Touchdown Count\")\n",
    "ax.set_ylabel(\"Probability\")\n",
    "ax.plot(x, ss.poisson.pmf(x, mu1), 'ko', ms=8, label='DJ 2020 mu=.91')\n",
    "ax.plot(x, ss.poisson.pmf(x, mu2), 'mo', ms=8, label='DJ 2021 mu=.86')\n",
    "ax.legend()\n",
    "\n",
    "prob_array = ss.poisson.pmf(x, mu2)\n",
    "jg_prob = np.round(prob_array[2:].sum(),2) * 100\n",
    "\n",
    "ss.poisson.pmf(x, mu2)\n",
    "print(\"Daniel Jones has a {}% chance of throwing for 2 or more touchdowns\".format(jg_prob))"
   ]
  },
  {
   "cell_type": "code",
   "execution_count": 30,
   "id": "44e21ec4",
   "metadata": {},
   "outputs": [
    {
     "name": "stdout",
     "output_type": "stream",
     "text": [
      "    season     player  pass_td  game_id     td_pg\n",
      "1     2020  Tom Brady       50       20  2.500000\n",
      "4     2021  Tom Brady       46       19  2.421053\n",
      "47    2022  Tom Brady       21       15  1.400000\n"
     ]
    }
   ],
   "source": [
    "#get where position is qb only Tom Brady\n",
    "td_pg_tb = td_pg[(td_pg.player == \"Tom Brady\")]\n",
    "print(td_pg_tb)"
   ]
  },
  {
   "cell_type": "code",
   "execution_count": 31,
   "id": "2813c327",
   "metadata": {},
   "outputs": [
    {
     "name": "stdout",
     "output_type": "stream",
     "text": [
      "Tom Brady has a 41.0% chance of throwing for 2 or more touchdowns\n"
     ]
    },
    {
     "data": {
      "image/png": "[encoded data removed]",
      "text/plain": [
       "<Figure size 864x432 with 1 Axes>"
      ]
     },
     "metadata": {
      "needs_background": "light"
     },
     "output_type": "display_data"
    }
   ],
   "source": [
    "fig = plt.figure(figsize=(12,6))\n",
    "ax = plt.axes(xlim=(0, 6), ylim=(0, 0.6))\n",
    "# average, and for poisson, also variance\n",
    "mu1 = 2.4\n",
    "mu2 =1.4\n",
    "\n",
    "# get x values\n",
    "x = np.arange(0, 7)\n",
    "ax.set_title(\"TB Projections 2020-2022 Seasons\")\n",
    "ax.set_xlabel(\"Passing Touchdown Count\")\n",
    "ax.set_ylabel(\"Probability\")\n",
    "ax.plot(x, ss.poisson.pmf(x, mu1), 'ko', ms=8, label='TB 2020 mu=2.4')\n",
    "ax.plot(x, ss.poisson.pmf(x, mu2), 'mo', ms=8, label='TB 2021 mu=1.4')\n",
    "ax.legend()\n",
    "\n",
    "prob_array = ss.poisson.pmf(x, mu2)\n",
    "jg_prob = np.round(prob_array[2:].sum(),2) * 100\n",
    "\n",
    "ss.poisson.pmf(x, mu2)\n",
    "print(\"Tom Brady has a {}% chance of throwing for 2 or more touchdowns\".format(jg_prob))"
   ]
  },
  {
   "cell_type": "code",
   "execution_count": 33,
   "id": "96e39e4f",
   "metadata": {},
   "outputs": [
    {
     "name": "stdout",
     "output_type": "stream",
     "text": [
      "     season       player  pass_td  game_id     td_pg\n",
      "46     2022  Jalen Hurts       22       14  1.571429\n",
      "55     2021  Jalen Hurts       17       16  1.062500\n",
      "106    2020  Jalen Hurts        6       14  0.428571\n"
     ]
    }
   ],
   "source": [
    "#get where position is qb only Jalen Hurts \n",
    "td_pg_jh = td_pg[(td_pg.player == \"Jalen Hurts\")]\n",
    "print(td_pg_jh)"
   ]
  },
  {
   "cell_type": "code",
   "execution_count": 34,
   "id": "b83a766c",
   "metadata": {},
   "outputs": [
    {
     "name": "stdout",
     "output_type": "stream",
     "text": [
      "Jalen Hurts has a 28.999999999999996% chance of throwing for 2 or more touchdowns\n"
     ]
    },
    {
     "data": {
      "image/png": "[encoded data removed]",
      "text/plain": [
       "<Figure size 864x432 with 1 Axes>"
      ]
     },
     "metadata": {
      "needs_background": "light"
     },
     "output_type": "display_data"
    }
   ],
   "source": [
    "fig = plt.figure(figsize=(12,6))\n",
    "ax = plt.axes(xlim=(0, 6), ylim=(0, 0.6))\n",
    "# average, and for poisson, also variance\n",
    "mu1 = 1.57\n",
    "mu2 =1.06\n",
    "\n",
    "# get x values\n",
    "x = np.arange(0, 7)\n",
    "ax.set_title(\"TB Projections 2020-2022 Seasons\")\n",
    "ax.set_xlabel(\"Passing Touchdown Count\")\n",
    "ax.set_ylabel(\"Probability\")\n",
    "ax.plot(x, ss.poisson.pmf(x, mu1), 'ko', ms=8, label='JH 2020 mu=1.57')\n",
    "ax.plot(x, ss.poisson.pmf(x, mu2), 'mo', ms=8, label='JH 2021 mu=1.06')\n",
    "ax.legend()\n",
    "\n",
    "prob_array = ss.poisson.pmf(x, mu2)\n",
    "jg_prob = np.round(prob_array[2:].sum(),2) * 100\n",
    "\n",
    "ss.poisson.pmf(x, mu2)\n",
    "print(\"Jalen Hurts has a {}% chance of throwing for 2 or more touchdowns\".format(jg_prob))"
   ]
  },
  {
   "cell_type": "code",
   "execution_count": 35,
   "id": "db96c524",
   "metadata": {},
   "outputs": [
    {
     "name": "stdout",
     "output_type": "stream",
     "text": [
      "    season           player  pass_td  game_id     td_pg\n",
      "14    2022  Patrick Mahomes       37       15  2.466667\n",
      "3     2021  Patrick Mahomes       48       20  2.400000\n",
      "6     2020  Patrick Mahomes       42       18  2.333333\n"
     ]
    }
   ],
   "source": [
    "#get where position is qb only Mahomes \n",
    "td_pg_pm = td_pg[(td_pg.player == \"Patrick Mahomes\")]\n",
    "print(td_pg_pm)"
   ]
  },
  {
   "cell_type": "code",
   "execution_count": 36,
   "id": "07a3b43d",
   "metadata": {},
   "outputs": [
    {
     "name": "stdout",
     "output_type": "stream",
     "text": [
      "Patrick Mahomes has a 69.0% chance of throwing for 2 or more touchdowns\n"
     ]
    },
    {
     "data": {
      "image/png": "[encoded data removed]",
      "text/plain": [
       "<Figure size 864x432 with 1 Axes>"
      ]
     },
     "metadata": {
      "needs_background": "light"
     },
     "output_type": "display_data"
    }
   ],
   "source": [
    "fig = plt.figure(figsize=(12,6))\n",
    "ax = plt.axes(xlim=(0, 6), ylim=(0, 0.6))\n",
    "# average, and for poisson, also variance\n",
    "mu1 = 2.4\n",
    "mu2 =2.47\n",
    "\n",
    "# get x values\n",
    "x = np.arange(0, 7)\n",
    "ax.set_title(\"PM Projections 2020-2022 Seasons\")\n",
    "ax.set_xlabel(\"Passing Touchdown Count\")\n",
    "ax.set_ylabel(\"Probability\")\n",
    "ax.plot(x, ss.poisson.pmf(x, mu1), 'ko', ms=8, label='PM 2021 mu=2.4')\n",
    "ax.plot(x, ss.poisson.pmf(x, mu2), 'mo', ms=8, label='PM 2022 mu=2.47')\n",
    "ax.legend()\n",
    "\n",
    "prob_array = ss.poisson.pmf(x, mu2)\n",
    "jg_prob = np.round(prob_array[2:].sum(),2) * 100\n",
    "\n",
    "ss.poisson.pmf(x, mu2)\n",
    "print(\"Patrick Mahomes has a {}% chance of throwing for 2 or more touchdowns\".format(jg_prob))"
   ]
  },
  {
   "cell_type": "code",
   "execution_count": null,
   "id": "ba053bef",
   "metadata": {},
   "outputs": [],
   "source": []
  }
 ],
 "metadata": {
  "kernelspec": {
   "display_name": "Python 3 (ipykernel)",
   "language": "python",
   "name": "python3"
  },
  "language_info": {
   "codemirror_mode": {
    "name": "ipython",
    "version": 3
   },
   "file_extension": ".py",
   "mimetype": "text/x-python",
   "name": "python",
   "nbconvert_exporter": "python",
   "pygments_lexer": "ipython3",
   "version": "3.9.7"
  }
 },
 "nbformat": 4,
 "nbformat_minor": 5
}
