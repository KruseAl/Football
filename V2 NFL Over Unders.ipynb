{
 "cells": [
  {
   "cell_type": "code",
   "execution_count": 73,
   "id": "aa707761",
   "metadata": {},
   "outputs": [],
   "source": [
    "import pandas as pd\n",
    "from sklearn.model_selection import train_test_split\n",
    "from sklearn.metrics import mean_squared_error\n",
    "from sklearn import metrics \n",
    "from math import sqrt\n",
    "import seaborn as sns\n",
    "import matplotlib.pyplot as plt\n",
    "from sklearn import preprocessing, svm\n",
    "from sklearn.linear_model import LinearRegression\n",
    "from sklearn.model_selection import KFold\n",
    "from sklearn.model_selection import cross_val_score, cross_val_predict\n",
    "from sklearn import metrics\n",
    "from numpy import mean\n",
    "from numpy import absolute\n",
    "from numpy import sqrt\n",
    "#learning from https://github.com/jensenbenjamin/NBA_Betting_Model/blob/main/2022NBA_OverUnder.ipynb?source=post_page-----7b5195b405d2--------------------------------"
   ]
  },
  {
   "cell_type": "code",
   "execution_count": 3,
   "id": "4f1c5ac0",
   "metadata": {},
   "outputs": [
    {
     "data": {
      "text/plain": [
       "'/Users/allisonkruse/Desktop/nfl'"
      ]
     },
     "execution_count": 3,
     "metadata": {},
     "output_type": "execute_result"
    }
   ],
   "source": [
    "import os\n",
    "os.chdir('/Users/allisonkruse/desktop/nfl')\n",
    "os.getcwd()"
   ]
  },
  {
   "cell_type": "code",
   "execution_count": 4,
   "id": "c6d52820",
   "metadata": {},
   "outputs": [
    {
     "data": {
      "text/html": [
       "<div>\n",
       "<style scoped>\n",
       "    .dataframe tbody tr th:only-of-type {\n",
       "        vertical-align: middle;\n",
       "    }\n",
       "\n",
       "    .dataframe tbody tr th {\n",
       "        vertical-align: top;\n",
       "    }\n",
       "\n",
       "    .dataframe thead th {\n",
       "        text-align: right;\n",
       "    }\n",
       "</style>\n",
       "<table border=\"1\" class=\"dataframe\">\n",
       "  <thead>\n",
       "    <tr style=\"text-align: right;\">\n",
       "      <th></th>\n",
       "      <th>Date</th>\n",
       "      <th>Visitor</th>\n",
       "      <th>Visitor_Score</th>\n",
       "      <th>Home</th>\n",
       "      <th>Home_Score</th>\n",
       "      <th>Total_Score</th>\n",
       "      <th>W_Team_Score</th>\n",
       "      <th>Winning_Team</th>\n",
       "      <th>h_pts_game</th>\n",
       "      <th>h_rush_yd_game</th>\n",
       "      <th>...</th>\n",
       "      <th>h_df_passer_rate</th>\n",
       "      <th>h_o_tds_game</th>\n",
       "      <th>h_o_int_game</th>\n",
       "      <th>h_o_passer_rate</th>\n",
       "      <th>v_df_tds_game</th>\n",
       "      <th>v_df_int_game</th>\n",
       "      <th>v_df_passer_rate</th>\n",
       "      <th>v_o_tds_game</th>\n",
       "      <th>v_o_int_game</th>\n",
       "      <th>v_o_passer_rate</th>\n",
       "    </tr>\n",
       "  </thead>\n",
       "  <tbody>\n",
       "    <tr>\n",
       "      <th>0</th>\n",
       "      <td>9/8/22</td>\n",
       "      <td>Buffalo Bills</td>\n",
       "      <td>31</td>\n",
       "      <td>Los Angeles Rams</td>\n",
       "      <td>10</td>\n",
       "      <td>41</td>\n",
       "      <td>31</td>\n",
       "      <td>Buffalo Bills</td>\n",
       "      <td>28.4</td>\n",
       "      <td>97.7</td>\n",
       "      <td>...</td>\n",
       "      <td>90.8</td>\n",
       "      <td>0.941176</td>\n",
       "      <td>0.882353</td>\n",
       "      <td>82.3</td>\n",
       "      <td>1.312500</td>\n",
       "      <td>1.062500</td>\n",
       "      <td>82.1</td>\n",
       "      <td>2.187500</td>\n",
       "      <td>0.875000</td>\n",
       "      <td>95.8</td>\n",
       "    </tr>\n",
       "    <tr>\n",
       "      <th>1</th>\n",
       "      <td>9/11/22</td>\n",
       "      <td>Indianapolis Colts</td>\n",
       "      <td>20</td>\n",
       "      <td>Houston Texans</td>\n",
       "      <td>20</td>\n",
       "      <td>40</td>\n",
       "      <td>20</td>\n",
       "      <td>Indianapolis Colts</td>\n",
       "      <td>17.0</td>\n",
       "      <td>86.8</td>\n",
       "      <td>...</td>\n",
       "      <td>82.7</td>\n",
       "      <td>1.176471</td>\n",
       "      <td>1.117647</td>\n",
       "      <td>76.8</td>\n",
       "      <td>1.470588</td>\n",
       "      <td>0.588235</td>\n",
       "      <td>96.2</td>\n",
       "      <td>1.000000</td>\n",
       "      <td>1.176471</td>\n",
       "      <td>79.2</td>\n",
       "    </tr>\n",
       "    <tr>\n",
       "      <th>2</th>\n",
       "      <td>9/11/22</td>\n",
       "      <td>San Francisco 49ers</td>\n",
       "      <td>10</td>\n",
       "      <td>Chicago Bears</td>\n",
       "      <td>19</td>\n",
       "      <td>29</td>\n",
       "      <td>19</td>\n",
       "      <td>Chicago Bears</td>\n",
       "      <td>19.2</td>\n",
       "      <td>177.3</td>\n",
       "      <td>...</td>\n",
       "      <td>94.4</td>\n",
       "      <td>1.117647</td>\n",
       "      <td>0.882353</td>\n",
       "      <td>80.3</td>\n",
       "      <td>1.176471</td>\n",
       "      <td>1.176471</td>\n",
       "      <td>82.7</td>\n",
       "      <td>1.764706</td>\n",
       "      <td>0.529412</td>\n",
       "      <td>102.3</td>\n",
       "    </tr>\n",
       "    <tr>\n",
       "      <th>3</th>\n",
       "      <td>9/11/22</td>\n",
       "      <td>Pittsburgh Steelers</td>\n",
       "      <td>23</td>\n",
       "      <td>Cincinnati Bengals</td>\n",
       "      <td>20</td>\n",
       "      <td>43</td>\n",
       "      <td>23</td>\n",
       "      <td>Pittsburgh Steelers</td>\n",
       "      <td>26.1</td>\n",
       "      <td>95.5</td>\n",
       "      <td>...</td>\n",
       "      <td>80.1</td>\n",
       "      <td>2.187500</td>\n",
       "      <td>0.750000</td>\n",
       "      <td>101.0</td>\n",
       "      <td>1.705882</td>\n",
       "      <td>1.176471</td>\n",
       "      <td>86.8</td>\n",
       "      <td>0.705882</td>\n",
       "      <td>0.823529</td>\n",
       "      <td>78.7</td>\n",
       "    </tr>\n",
       "    <tr>\n",
       "      <th>4</th>\n",
       "      <td>9/11/22</td>\n",
       "      <td>Philadelphia Eagles</td>\n",
       "      <td>38</td>\n",
       "      <td>Detroit Lions</td>\n",
       "      <td>35</td>\n",
       "      <td>73</td>\n",
       "      <td>38</td>\n",
       "      <td>Philadelphia Eagles</td>\n",
       "      <td>26.6</td>\n",
       "      <td>128.2</td>\n",
       "      <td>...</td>\n",
       "      <td>94.2</td>\n",
       "      <td>1.705882</td>\n",
       "      <td>0.411765</td>\n",
       "      <td>99.3</td>\n",
       "      <td>1.294118</td>\n",
       "      <td>1.000000</td>\n",
       "      <td>81.6</td>\n",
       "      <td>1.470588</td>\n",
       "      <td>0.529412</td>\n",
       "      <td>99.0</td>\n",
       "    </tr>\n",
       "  </tbody>\n",
       "</table>\n",
       "<p>5 rows × 36 columns</p>\n",
       "</div>"
      ],
      "text/plain": [
       "      Date              Visitor  Visitor_Score                Home  \\\n",
       "0   9/8/22        Buffalo Bills             31    Los Angeles Rams   \n",
       "1  9/11/22   Indianapolis Colts             20      Houston Texans   \n",
       "2  9/11/22  San Francisco 49ers             10       Chicago Bears   \n",
       "3  9/11/22  Pittsburgh Steelers             23  Cincinnati Bengals   \n",
       "4  9/11/22  Philadelphia Eagles             38       Detroit Lions   \n",
       "\n",
       "   Home_Score  Total_Score  W_Team_Score         Winning_Team  h_pts_game  \\\n",
       "0          10           41            31        Buffalo Bills        28.4   \n",
       "1          20           40            20   Indianapolis Colts        17.0   \n",
       "2          19           29            19        Chicago Bears        19.2   \n",
       "3          20           43            23  Pittsburgh Steelers        26.1   \n",
       "4          35           73            38  Philadelphia Eagles        26.6   \n",
       "\n",
       "   h_rush_yd_game  ...  h_df_passer_rate  h_o_tds_game  h_o_int_game  \\\n",
       "0            97.7  ...              90.8      0.941176      0.882353   \n",
       "1            86.8  ...              82.7      1.176471      1.117647   \n",
       "2           177.3  ...              94.4      1.117647      0.882353   \n",
       "3            95.5  ...              80.1      2.187500      0.750000   \n",
       "4           128.2  ...              94.2      1.705882      0.411765   \n",
       "\n",
       "   h_o_passer_rate  v_df_tds_game  v_df_int_game  v_df_passer_rate  \\\n",
       "0             82.3       1.312500       1.062500              82.1   \n",
       "1             76.8       1.470588       0.588235              96.2   \n",
       "2             80.3       1.176471       1.176471              82.7   \n",
       "3            101.0       1.705882       1.176471              86.8   \n",
       "4             99.3       1.294118       1.000000              81.6   \n",
       "\n",
       "   v_o_tds_game  v_o_int_game  v_o_passer_rate  \n",
       "0      2.187500      0.875000             95.8  \n",
       "1      1.000000      1.176471             79.2  \n",
       "2      1.764706      0.529412            102.3  \n",
       "3      0.705882      0.823529             78.7  \n",
       "4      1.470588      0.529412             99.0  \n",
       "\n",
       "[5 rows x 36 columns]"
      ]
     },
     "execution_count": 4,
     "metadata": {},
     "output_type": "execute_result"
    }
   ],
   "source": [
    "df = pd.read_csv('/Users/allisonkruse/desktop/nfl/2022_2023_Season_OU_Only_V2.csv')\n",
    "df.head()"
   ]
  },
  {
   "cell_type": "code",
   "execution_count": 5,
   "id": "578674cf",
   "metadata": {},
   "outputs": [
    {
     "name": "stdout",
     "output_type": "stream",
     "text": [
      "10260\n",
      "(285, 36)\n"
     ]
    }
   ],
   "source": [
    "print(df.size)\n",
    "print(df.shape)"
   ]
  },
  {
   "cell_type": "code",
   "execution_count": 6,
   "id": "6c9d5817",
   "metadata": {},
   "outputs": [
    {
     "name": "stdout",
     "output_type": "stream",
     "text": [
      "['Date', 'Visitor', 'Visitor_Score', 'Home', 'Home_Score', 'Total_Score', 'W_Team_Score', 'Winning_Team', 'h_pts_game', 'h_rush_yd_game', 'h_pass_yd_game', 'h_tt_ytd_game', 'v_pts_game', 'v_rush_yd_game', 'v_pass_yd_game', 'v_tt_ytd_game', 'h_df_pts_game', 'h_df_rush_yd_game', 'h_df_pass_yd_game', 'h_df_tt_ytd_game', 'v_df_pts_game', 'v_df_rush_yd_game', 'v_df_pass_yd_game', 'v_df_tt_ytd_game', 'h_df_tds_game', 'h_df_int_game', 'h_df_passer_rate', 'h_o_tds_game', 'h_o_int_game', 'h_o_passer_rate', 'v_df_tds_game', 'v_df_int_game', 'v_df_passer_rate', 'v_o_tds_game', 'v_o_int_game', 'v_o_passer_rate']\n"
     ]
    }
   ],
   "source": [
    "print(list(df.columns))"
   ]
  },
  {
   "cell_type": "code",
   "execution_count": 7,
   "id": "200b3f6d",
   "metadata": {},
   "outputs": [],
   "source": [
    "features=['h_pts_game', 'h_rush_yd_game', 'h_pass_yd_game', 'h_tt_ytd_game', 'v_pts_game', 'v_rush_yd_game', 'v_pass_yd_game', 'v_tt_ytd_game', 'h_df_pts_game', 'h_df_rush_yd_game', 'h_df_pass_yd_game', 'h_df_tt_ytd_game', 'v_df_pts_game', 'v_df_rush_yd_game', 'v_df_pass_yd_game', 'v_df_tt_ytd_game', 'h_df_tds_game', 'h_df_int_game', 'h_df_passer_rate', 'h_o_tds_game', 'h_o_int_game', 'h_o_passer_rate', 'v_df_tds_game', 'v_df_int_game', 'v_df_passer_rate', 'v_o_tds_game', 'v_o_int_game', 'v_o_passer_rate']"
   ]
  },
  {
   "cell_type": "code",
   "execution_count": 8,
   "id": "ee4fe436",
   "metadata": {},
   "outputs": [],
   "source": [
    "#drop any nas \n",
    "df_without_missing_values = df.dropna()"
   ]
  },
  {
   "cell_type": "code",
   "execution_count": 9,
   "id": "97a1f3bc",
   "metadata": {},
   "outputs": [
    {
     "data": {
      "text/plain": [
       "0    41\n",
       "1    40\n",
       "2    29\n",
       "3    43\n",
       "4    73\n",
       "Name: Total_Score, dtype: int64"
      ]
     },
     "execution_count": 9,
     "metadata": {},
     "output_type": "execute_result"
    }
   ],
   "source": [
    "#set the target \n",
    "target = df_without_missing_values['Total_Score']\n",
    "target.head()"
   ]
  },
  {
   "cell_type": "code",
   "execution_count": 10,
   "id": "14bbd6c5",
   "metadata": {},
   "outputs": [
    {
     "name": "stdout",
     "output_type": "stream",
     "text": [
      "10260\n",
      "(285, 36)\n"
     ]
    }
   ],
   "source": [
    "#how many did we lose by dropping nsa?\n",
    "print(df_without_missing_values.size)\n",
    "print(df_without_missing_values.shape)"
   ]
  },
  {
   "cell_type": "code",
   "execution_count": 42,
   "id": "66a420b4",
   "metadata": {},
   "outputs": [],
   "source": [
    "X = df_without_missing_values[features]\n",
    "y=target"
   ]
  },
  {
   "cell_type": "code",
   "execution_count": 43,
   "id": "812b13eb",
   "metadata": {},
   "outputs": [
    {
     "data": {
      "text/plain": [
       "285"
      ]
     },
     "execution_count": 43,
     "metadata": {},
     "output_type": "execute_result"
    }
   ],
   "source": [
    "len(X)"
   ]
  },
  {
   "cell_type": "code",
   "execution_count": 44,
   "id": "4ee18e02",
   "metadata": {},
   "outputs": [],
   "source": [
    "#Splitting the data for training and testing\n",
    "\n",
    "X_train, X_test, y_train, y_test = train_test_split(X, y, test_size=0.33, random_state=42)"
   ]
  },
  {
   "cell_type": "code",
   "execution_count": 96,
   "id": "63dd6958",
   "metadata": {},
   "outputs": [],
   "source": [
    "#Import Random Forest Model\n",
    "from sklearn.ensemble import RandomForestRegressor\n",
    "\n",
    "#Create a Gaussian Classifier\n",
    "rf = RandomForestRegressor()\n",
    "\n",
    "#Train the model using the training sets y_pred=clf.predict(X_test)\n",
    "rf.fit(X_train,y_train)\n",
    "\n",
    "y_predr=rf.predict(X_test)"
   ]
  },
  {
   "cell_type": "code",
   "execution_count": 98,
   "id": "87c5b267",
   "metadata": {},
   "outputs": [
    {
     "name": "stdout",
     "output_type": "stream",
     "text": [
      "195.680714231579\n",
      "13.988592289132564\n"
     ]
    }
   ],
   "source": [
    "mse = mean_squared_error(y_test, y_predr)\n",
    "rmse = mse**.5\n",
    "print(mse)\n",
    "print(rmse)"
   ]
  },
  {
   "cell_type": "markdown",
   "id": "da0d3091",
   "metadata": {},
   "source": [
    "## Linear Regression "
   ]
  },
  {
   "cell_type": "code",
   "execution_count": 55,
   "id": "f5c27683",
   "metadata": {},
   "outputs": [
    {
     "name": "stdout",
     "output_type": "stream",
     "text": [
      "-0.12044817901432658\n"
     ]
    }
   ],
   "source": [
    "# linear regression\n",
    "regr = LinearRegression()\n",
    " \n",
    "regr.fit(X_train, y_train)\n",
    "regr_predict_Test=regr.predict(X_test)\n",
    "print(regr.score(X_test, y_test))"
   ]
  },
  {
   "cell_type": "code",
   "execution_count": 56,
   "id": "5faff231",
   "metadata": {},
   "outputs": [
    {
     "name": "stdout",
     "output_type": "stream",
     "text": [
      "MAE: 11.543480808525045\n",
      "MSE: 202.56908520529646\n",
      "RMSE: 14.23267667044033\n"
     ]
    }
   ],
   "source": [
    "from sklearn.metrics import mean_absolute_error,mean_squared_error\n",
    " \n",
    "mae = mean_absolute_error(y_true=y_test,y_pred=y_pred)\n",
    "#squared True returns MSE value, False returns RMSE value.\n",
    "mse = mean_squared_error(y_true=y_test,y_pred=y_pred) #default=True\n",
    "rmse = mean_squared_error(y_true=y_test,y_pred=y_pred,squared=False)\n",
    " \n",
    "print(\"MAE:\",mae)\n",
    "print(\"MSE:\",mse)\n",
    "print(\"RMSE:\",rmse)"
   ]
  },
  {
   "cell_type": "code",
   "execution_count": 58,
   "id": "5b144a54",
   "metadata": {},
   "outputs": [
    {
     "data": {
      "image/png": "[encoded data removed]",
      "text/plain": [
       "<Figure size 576x576 with 1 Axes>"
      ]
     },
     "metadata": {
      "needs_background": "light"
     },
     "output_type": "display_data"
    }
   ],
   "source": [
    "import matplotlib.pyplot as plt\n",
    "%matplotlib inline\n",
    "\n",
    "plt.figure(figsize=(8,8))\n",
    "plt.scatter(y_test, regr_predict_Test)\n",
    "plt.plot(range(min(y_test), max(y_test)+1), range(min(y_test), max(y_test)+1), linestyle='--')\n",
    "plt.title('LR Predictions vs True')\n",
    "plt.xlabel('True Total Points')\n",
    "plt.ylabel('Predicted Total Points');"
   ]
  },
  {
   "cell_type": "markdown",
   "id": "ca262876",
   "metadata": {},
   "source": [
    "## Linear Regression with Cross Validation"
   ]
  },
  {
   "cell_type": "code",
   "execution_count": 107,
   "id": "6d0ca746",
   "metadata": {},
   "outputs": [],
   "source": [
    "#define cross-validation method to use\n",
    "cv = KFold(n_splits=10, random_state=1, shuffle=True)\n",
    "\n",
    "#build multiple linear regression model\n",
    "model = LinearRegression()\n",
    "\n",
    "#use k-fold CV to evaluate model\n",
    "scores = cross_val_score(model, X, y, scoring='neg_mean_absolute_error',\n",
    "                         cv=cv, n_jobs=-1)"
   ]
  },
  {
   "cell_type": "code",
   "execution_count": 108,
   "id": "bf357b41",
   "metadata": {},
   "outputs": [
    {
     "name": "stdout",
     "output_type": "stream",
     "text": [
      "MAE: 10.912193855694083\n",
      "RMSE: 3.3033609938506694\n"
     ]
    }
   ],
   "source": [
    "#view mean absolute error\n",
    "print(\"MAE:\",mean(absolute(scores)))\n",
    "print(\"RMSE:\",sqrt(mean(absolute(scores))))"
   ]
  },
  {
   "cell_type": "code",
   "execution_count": 109,
   "id": "e9c2d5ca",
   "metadata": {},
   "outputs": [
    {
     "data": {
      "image/png": "[encoded data removed]",
      "text/plain": [
       "<Figure size 576x576 with 1 Axes>"
      ]
     },
     "metadata": {
      "needs_background": "light"
     },
     "output_type": "display_data"
    }
   ],
   "source": [
    "# Make cross validated predictions\n",
    "predictions = cross_val_predict(model, X, y,\n",
    "                         cv=cv, n_jobs=-1)\n",
    "\n",
    "plt.figure(figsize=(8,8))\n",
    "plt.scatter(y, predictions)\n",
    "plt.plot(range(min(y_test), max(y_test)+1), range(min(y_test), max(y_test)+1), linestyle='--')\n",
    "plt.title('lrcv Predictions vs True')\n",
    "plt.xlabel('True Total Points')\n",
    "plt.ylabel('Predicted Total Points');"
   ]
  },
  {
   "cell_type": "markdown",
   "id": "2038ab8f",
   "metadata": {},
   "source": [
    "## GradientBoostingRegressor"
   ]
  },
  {
   "cell_type": "code",
   "execution_count": 49,
   "id": "92eda440",
   "metadata": {},
   "outputs": [
    {
     "name": "stdout",
     "output_type": "stream",
     "text": [
      "RMSE (training) for GB:  5.734626\n",
      "RMSE (Test Data) for GB: 15.774454\n"
     ]
    }
   ],
   "source": [
    "from sklearn.ensemble import GradientBoostingRegressor\n",
    "GB = GradientBoostingRegressor()\n",
    "GB.fit(X_train, y_train)\n",
    "GB_predict_Train=GB.predict(X_train)\n",
    "\n",
    "RMSE1=sqrt(mean_squared_error(y_train,GB_predict_Train))\n",
    "print(\"RMSE (training) for GB:{0:10f}\".format(RMSE1))\n",
    "\n",
    "GB_predict_Test=GB.predict(X_test)\n",
    "\n",
    "RMSE= sqrt(mean_squared_error(y_test,GB_predict_Test))\n",
    "print(\"RMSE (Test Data) for GB:{0:10f}\".format(RMSE))"
   ]
  },
  {
   "cell_type": "code",
   "execution_count": 54,
   "id": "7b654cae",
   "metadata": {},
   "outputs": [
    {
     "data": {
      "image/png": "[encoded data removed]",
      "text/plain": [
       "<Figure size 576x576 with 1 Axes>"
      ]
     },
     "metadata": {
      "needs_background": "light"
     },
     "output_type": "display_data"
    }
   ],
   "source": [
    "import matplotlib.pyplot as plt\n",
    "%matplotlib inline\n",
    "\n",
    "plt.figure(figsize=(8,8))\n",
    "plt.scatter(y_test, GB_predict_Test)\n",
    "plt.plot(range(min(y_test), max(y_test)+1), range(min(y_test), max(y_test)+1), linestyle='--')\n",
    "plt.title('GBR Predictions vs True')\n",
    "plt.xlabel('True Total Points')\n",
    "plt.ylabel('Predicted Total Points');"
   ]
  },
  {
   "cell_type": "markdown",
   "id": "4f99ad10",
   "metadata": {},
   "source": [
    "## Predictions Game 1 "
   ]
  },
  {
   "cell_type": "code",
   "execution_count": 50,
   "id": "47a469f8",
   "metadata": {},
   "outputs": [
    {
     "data": {
      "text/html": [
       "<div>\n",
       "<style scoped>\n",
       "    .dataframe tbody tr th:only-of-type {\n",
       "        vertical-align: middle;\n",
       "    }\n",
       "\n",
       "    .dataframe tbody tr th {\n",
       "        vertical-align: top;\n",
       "    }\n",
       "\n",
       "    .dataframe thead th {\n",
       "        text-align: right;\n",
       "    }\n",
       "</style>\n",
       "<table border=\"1\" class=\"dataframe\">\n",
       "  <thead>\n",
       "    <tr style=\"text-align: right;\">\n",
       "      <th></th>\n",
       "      <th>Date</th>\n",
       "      <th>Visitor</th>\n",
       "      <th>Home</th>\n",
       "      <th>Total_Score</th>\n",
       "      <th>h_pts_game</th>\n",
       "      <th>h_rush_yd_game</th>\n",
       "      <th>h_pass_yd_game</th>\n",
       "      <th>h_tt_ytd_game</th>\n",
       "      <th>v_pts_game</th>\n",
       "      <th>v_rush_yd_game</th>\n",
       "      <th>...</th>\n",
       "      <th>h_df_passer_rate</th>\n",
       "      <th>h_o_tds_game</th>\n",
       "      <th>h_o_int_game</th>\n",
       "      <th>h_o_passer_rate</th>\n",
       "      <th>v_df_tds_game</th>\n",
       "      <th>v_df_int_game</th>\n",
       "      <th>v_df_passer_rate</th>\n",
       "      <th>v_o_tds_game</th>\n",
       "      <th>v_o_int_game</th>\n",
       "      <th>v_o_passer_rate</th>\n",
       "    </tr>\n",
       "  </thead>\n",
       "  <tbody>\n",
       "    <tr>\n",
       "      <th>0</th>\n",
       "      <td>9/7/23</td>\n",
       "      <td>Detroit Lions</td>\n",
       "      <td>Kansas City Chiefs</td>\n",
       "      <td>NaN</td>\n",
       "      <td>29.2</td>\n",
       "      <td>115.9</td>\n",
       "      <td>297.8</td>\n",
       "      <td>413.6</td>\n",
       "      <td>26.6</td>\n",
       "      <td>128.2</td>\n",
       "      <td>...</td>\n",
       "      <td>95.3</td>\n",
       "      <td>2.411765</td>\n",
       "      <td>0.705882</td>\n",
       "      <td>104.7</td>\n",
       "      <td>1.529412</td>\n",
       "      <td>0.705882</td>\n",
       "      <td>94.2</td>\n",
       "      <td>1.705882</td>\n",
       "      <td>0.411765</td>\n",
       "      <td>99.3</td>\n",
       "    </tr>\n",
       "  </tbody>\n",
       "</table>\n",
       "<p>1 rows × 32 columns</p>\n",
       "</div>"
      ],
      "text/plain": [
       "     Date        Visitor                Home  Total_Score  h_pts_game  \\\n",
       "0  9/7/23  Detroit Lions  Kansas City Chiefs          NaN        29.2   \n",
       "\n",
       "   h_rush_yd_game  h_pass_yd_game  h_tt_ytd_game  v_pts_game  v_rush_yd_game  \\\n",
       "0           115.9           297.8          413.6        26.6           128.2   \n",
       "\n",
       "   ...  h_df_passer_rate  h_o_tds_game  h_o_int_game  h_o_passer_rate  \\\n",
       "0  ...              95.3      2.411765      0.705882            104.7   \n",
       "\n",
       "   v_df_tds_game  v_df_int_game  v_df_passer_rate  v_o_tds_game  v_o_int_game  \\\n",
       "0       1.529412       0.705882              94.2      1.705882      0.411765   \n",
       "\n",
       "   v_o_passer_rate  \n",
       "0             99.3  \n",
       "\n",
       "[1 rows x 32 columns]"
      ]
     },
     "execution_count": 50,
     "metadata": {},
     "output_type": "execute_result"
    }
   ],
   "source": [
    "#make bet \n",
    "Bet = pd.read_csv('/Users/allisonkruse/desktop/nfl/2023_game_one_v2.csv')\n",
    "Bet.head()"
   ]
  },
  {
   "cell_type": "code",
   "execution_count": 51,
   "id": "dfff7c40",
   "metadata": {},
   "outputs": [
    {
     "data": {
      "text/html": [
       "<div>\n",
       "<style scoped>\n",
       "    .dataframe tbody tr th:only-of-type {\n",
       "        vertical-align: middle;\n",
       "    }\n",
       "\n",
       "    .dataframe tbody tr th {\n",
       "        vertical-align: top;\n",
       "    }\n",
       "\n",
       "    .dataframe thead th {\n",
       "        text-align: right;\n",
       "    }\n",
       "</style>\n",
       "<table border=\"1\" class=\"dataframe\">\n",
       "  <thead>\n",
       "    <tr style=\"text-align: right;\">\n",
       "      <th></th>\n",
       "      <th>h_pts_game</th>\n",
       "      <th>h_rush_yd_game</th>\n",
       "      <th>h_pass_yd_game</th>\n",
       "      <th>h_tt_ytd_game</th>\n",
       "      <th>v_pts_game</th>\n",
       "      <th>v_rush_yd_game</th>\n",
       "      <th>v_pass_yd_game</th>\n",
       "      <th>v_tt_ytd_game</th>\n",
       "      <th>h_df_pts_game</th>\n",
       "      <th>h_df_rush_yd_game</th>\n",
       "      <th>...</th>\n",
       "      <th>h_df_passer_rate</th>\n",
       "      <th>h_o_tds_game</th>\n",
       "      <th>h_o_int_game</th>\n",
       "      <th>h_o_passer_rate</th>\n",
       "      <th>v_df_tds_game</th>\n",
       "      <th>v_df_int_game</th>\n",
       "      <th>v_df_passer_rate</th>\n",
       "      <th>v_o_tds_game</th>\n",
       "      <th>v_o_int_game</th>\n",
       "      <th>v_o_passer_rate</th>\n",
       "    </tr>\n",
       "  </thead>\n",
       "  <tbody>\n",
       "    <tr>\n",
       "      <th>0</th>\n",
       "      <td>29.2</td>\n",
       "      <td>115.9</td>\n",
       "      <td>297.8</td>\n",
       "      <td>413.6</td>\n",
       "      <td>26.6</td>\n",
       "      <td>128.2</td>\n",
       "      <td>251.8</td>\n",
       "      <td>380</td>\n",
       "      <td>21.7</td>\n",
       "      <td>107.2</td>\n",
       "      <td>...</td>\n",
       "      <td>95.3</td>\n",
       "      <td>2.411765</td>\n",
       "      <td>0.705882</td>\n",
       "      <td>104.7</td>\n",
       "      <td>1.529412</td>\n",
       "      <td>0.705882</td>\n",
       "      <td>94.2</td>\n",
       "      <td>1.705882</td>\n",
       "      <td>0.411765</td>\n",
       "      <td>99.3</td>\n",
       "    </tr>\n",
       "  </tbody>\n",
       "</table>\n",
       "<p>1 rows × 28 columns</p>\n",
       "</div>"
      ],
      "text/plain": [
       "   h_pts_game  h_rush_yd_game  h_pass_yd_game  h_tt_ytd_game  v_pts_game  \\\n",
       "0        29.2           115.9           297.8          413.6        26.6   \n",
       "\n",
       "   v_rush_yd_game  v_pass_yd_game  v_tt_ytd_game  h_df_pts_game  \\\n",
       "0           128.2           251.8            380           21.7   \n",
       "\n",
       "   h_df_rush_yd_game  ...  h_df_passer_rate  h_o_tds_game  h_o_int_game  \\\n",
       "0              107.2  ...              95.3      2.411765      0.705882   \n",
       "\n",
       "   h_o_passer_rate  v_df_tds_game  v_df_int_game  v_df_passer_rate  \\\n",
       "0            104.7       1.529412       0.705882              94.2   \n",
       "\n",
       "   v_o_tds_game  v_o_int_game  v_o_passer_rate  \n",
       "0      1.705882      0.411765             99.3  \n",
       "\n",
       "[1 rows x 28 columns]"
      ]
     },
     "execution_count": 51,
     "metadata": {},
     "output_type": "execute_result"
    }
   ],
   "source": [
    "#To make predictions, the data frame needs to match the format (number of columns and column titles) of the training data.\n",
    "Bet = Bet.iloc[: , 4:]\n",
    "\n",
    "Bet.head()"
   ]
  },
  {
   "cell_type": "markdown",
   "id": "b9465d3f",
   "metadata": {},
   "source": [
    "### GradientBoostingRegressor"
   ]
  },
  {
   "cell_type": "code",
   "execution_count": 52,
   "id": "70e0bee4",
   "metadata": {},
   "outputs": [
    {
     "name": "stdout",
     "output_type": "stream",
     "text": [
      "[38.55121128]\n"
     ]
    }
   ],
   "source": [
    "GB_predict_Tonight=GB.predict(Bet)\n",
    "print(GB_predict_Tonight)"
   ]
  },
  {
   "cell_type": "markdown",
   "id": "78e57475",
   "metadata": {},
   "source": [
    "### Linear Regression"
   ]
  },
  {
   "cell_type": "code",
   "execution_count": 53,
   "id": "56db2f75",
   "metadata": {},
   "outputs": [
    {
     "name": "stdout",
     "output_type": "stream",
     "text": [
      "[58.03801198]\n"
     ]
    }
   ],
   "source": [
    "LR_predict_Tonight=regr.predict(Bet)\n",
    "print(LR_predict_Tonight)"
   ]
  },
  {
   "cell_type": "markdown",
   "id": "fc6c1b5a",
   "metadata": {},
   "source": [
    "### Randon Forest"
   ]
  },
  {
   "cell_type": "code",
   "execution_count": 100,
   "id": "7822296d",
   "metadata": {},
   "outputs": [
    {
     "name": "stdout",
     "output_type": "stream",
     "text": [
      "[42.79]\n"
     ]
    }
   ],
   "source": [
    "print(rf.predict(Bet))"
   ]
  },
  {
   "cell_type": "code",
   "execution_count": null,
   "id": "f81e0359",
   "metadata": {},
   "outputs": [],
   "source": []
  }
 ],
 "metadata": {
  "kernelspec": {
   "display_name": "Python 3 (ipykernel)",
   "language": "python",
   "name": "python3"
  },
  "language_info": {
   "codemirror_mode": {
    "name": "ipython",
    "version": 3
   },
   "file_extension": ".py",
   "mimetype": "text/x-python",
   "name": "python",
   "nbconvert_exporter": "python",
   "pygments_lexer": "ipython3",
   "version": "3.9.7"
  }
 },
 "nbformat": 4,
 "nbformat_minor": 5
}
